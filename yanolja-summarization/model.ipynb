{
 "cells": [
  {
   "cell_type": "code",
   "execution_count": 1,
   "metadata": {},
   "outputs": [
    {
     "name": "stdout",
     "output_type": "stream",
     "text": [
      "Hello! How can I assist you today?\n"
     ]
    }
   ],
   "source": [
    "from utils import get_openai_client\n",
    "\n",
    "# OpenAI 클라이언트 생성 (env.txt에서 API 키 자동 로드)\n",
    "client = get_openai_client()\n",
    "\n",
    "# API 연결 테스트\n",
    "completion = client.chat.completions.create(\n",
    "    model='gpt-3.5-turbo-0125',\n",
    "    messages=[{'role': 'user', 'content': 'hi'}],\n",
    "    temperature=0.0\n",
    ")\n",
    "\n",
    "print(completion.choices[0].message.content)"
   ]
  },
  {
   "cell_type": "markdown",
   "metadata": {},
   "source": [
    "### 데이터 전처리 함수 작성\n"
   ]
  },
  {
   "cell_type": "markdown",
   "metadata": {},
   "source": [
    "리뷰 JSON 파일 로드"
   ]
  },
  {
   "cell_type": "code",
   "execution_count": 2,
   "metadata": {},
   "outputs": [
    {
     "data": {
      "text/plain": [
       "[{'review': '깨끗하고 너무 좋았어요', 'stars': 5, 'date': '22시간 전'},\n",
       " {'review': '위치도 아주좋고 숙소도 깨끗하고 좋아요~', 'stars': 5, 'date': '2일 전'},\n",
       " {'review': '잘쉬고놀다갑니다  감사', 'stars': 5, 'date': '6일 전'}]"
      ]
     },
     "execution_count": 2,
     "metadata": {},
     "output_type": "execute_result"
    }
   ],
   "source": [
    "import json\n",
    "\n",
    "with open('./res/reviews.json', 'r', encoding='utf-8') as f:\n",
    "    review_list = json.load(f)\n",
    "\n",
    "review_list[:3]"
   ]
  },
  {
   "cell_type": "markdown",
   "metadata": {},
   "source": [
    "좋은 평점 및 나쁜 평점 정의\n",
    "- 좋은 평점 = 별 5개\n",
    "- 나쁜 평점 = 별 4개 이하"
   ]
  },
  {
   "cell_type": "code",
   "execution_count": 3,
   "metadata": {},
   "outputs": [
    {
     "data": {
      "text/plain": [
       "(177, 43)"
      ]
     },
     "execution_count": 3,
     "metadata": {},
     "output_type": "execute_result"
    }
   ],
   "source": [
    "good_cnt, bad_cnt = 0, 0\n",
    "for r in review_list:\n",
    "    if r['stars'] == 5:\n",
    "        good_cnt += 1\n",
    "    else:\n",
    "        bad_cnt += 1\n",
    "\n",
    "good_cnt, bad_cnt"
   ]
  },
  {
   "cell_type": "markdown",
   "metadata": {},
   "source": [
    "좋은 리뷰 및 나쁜 리뷰로 구분 후 저장"
   ]
  },
  {
   "cell_type": "code",
   "execution_count": 4,
   "metadata": {},
   "outputs": [
    {
     "data": {
      "text/plain": [
       "['[REVIEW_START]인사동, 북촌동, 종각 등등 근처에 갈곳두 많구\\r\\n숙소두 깨끗하구 너무 좋아요\\r\\n엘베를 2번 타야하는게 살짝 번거롭지만\\r\\n그거빼구 다 좋아요[REVIEW_END]',\n",
       " '[REVIEW_START]근처 볼거리 놀거리가 가까이 있어 편했으나 \\n조계사 고층뷰는 의미 없이 배정해 주었으며\\n객실 내 청결상태가 별로였음 욕조 머리카락, 수건의 먼지등\\n재방문 의사 없음[REVIEW_END]',\n",
       " '[REVIEW_START]2월21일(수) 오전7시경, 카운터에 계시던 남자 직원 불친절\\n방음 최악[REVIEW_END]']"
      ]
     },
     "execution_count": 4,
     "metadata": {},
     "output_type": "execute_result"
    }
   ],
   "source": [
    "reviews_good, reviews_bad = [], []\n",
    "for r in review_list:\n",
    "    if r['stars'] == 5:\n",
    "        reviews_good.append('[REVIEW_START]' + r['review'] + '[REVIEW_END]')\n",
    "    else:\n",
    "        reviews_bad.append('[REVIEW_START]' + r['review'] + '[REVIEW_END]')\n",
    "\n",
    "reviews_bad[:3]"
   ]
  },
  {
   "cell_type": "code",
   "execution_count": 5,
   "metadata": {},
   "outputs": [
    {
     "data": {
      "text/plain": [
       "'[REVIEW_START]인사동, 북촌동, 종각 등등 근처에 갈곳두 많구\\r\\n숙소두 깨끗하구 너무 좋아요\\r\\n엘베를 2번 타야하는게 살짝 번거롭지만\\r\\n그거빼구 다 좋아요[REVIEW_'"
      ]
     },
     "execution_count": 5,
     "metadata": {},
     "output_type": "execute_result"
    }
   ],
   "source": [
    "reviews_good_text = '\\n'.join(reviews_good)\n",
    "reviews_bad_text = '\\n'.join(reviews_bad)\n",
    "\n",
    "reviews_bad_text[:100]"
   ]
  },
  {
   "cell_type": "markdown",
   "metadata": {},
   "source": [
    "전처리 함수 작성"
   ]
  },
  {
   "cell_type": "code",
   "execution_count": 6,
   "metadata": {},
   "outputs": [
    {
     "data": {
      "text/plain": [
       "'[REVIEW_START]깨끗하고 너무 좋았어요[REVIEW_END]\\n[REVIEW_START]위치도 아주좋고 숙소도 깨끗하고 좋아요~[REVIEW_END]\\n[REVIEW_STAR'"
      ]
     },
     "execution_count": 6,
     "metadata": {},
     "output_type": "execute_result"
    }
   ],
   "source": [
    "import datetime\n",
    "from dateutil import parser\n",
    "\n",
    "def preprocess_reviews(path='./res/reviews.json'):\n",
    "    with open(path, 'r', encoding='utf-8') as f:\n",
    "        review_list = json.load(f)\n",
    "\n",
    "    reviews_good, reviews_bad = [], []\n",
    "\n",
    "    current_date = datetime.datetime.now()\n",
    "    date_boundary = current_date - datetime.timedelta(days=6*30)\n",
    "\n",
    "    for r in review_list:\n",
    "        review_date_str = r['date']\n",
    "        try:\n",
    "            review_date = parser.parse(review_date_str)\n",
    "        except (ValueError, TypeError):\n",
    "            review_date = current_date\n",
    "\n",
    "        if review_date < date_boundary:\n",
    "            continue\n",
    "\n",
    "        if r['stars'] == 5:\n",
    "            reviews_good.append('[REVIEW_START]' + r['review'] + '[REVIEW_END]')\n",
    "        else:\n",
    "            reviews_bad.append('[REVIEW_START]' + r['review'] + '[REVIEW_END]')\n",
    "\n",
    "    reviews_good_text = '\\n'.join(reviews_good)\n",
    "    reviews_bad_text = '\\n'.join(reviews_bad)\n",
    "\n",
    "    return reviews_good_text, reviews_bad_text\n",
    "\n",
    "good, bad = preprocess_reviews()\n",
    "good[:100]"
   ]
  },
  {
   "cell_type": "markdown",
   "metadata": {},
   "source": [
    "### 평가용 함수 작성"
   ]
  },
  {
   "cell_type": "markdown",
   "metadata": {},
   "source": [
    "평가 기준 설정\n",
    "- MT-Bench 논문 기반 Pairwise Comparision (=LLM 기반 평가)\n",
    "  - 비교하는 방식 vs. 점수 매기는 방식\n",
    "  - 점수라는게 애매 할 수 있음 (ex. 어느 정도의 요약 품질이 3점인가?)\n",
    "  - 경험상 점수보다는 비교가 상대적으로 더 정확한 편"
   ]
  },
  {
   "cell_type": "markdown",
   "metadata": {},
   "source": [
    "평가 스크립트 작성\n",
    "- MT-Bench 논문 Prompt에서 일부 단어만 수정 (ex. Korean summaries, accommodations)"
   ]
  },
  {
   "cell_type": "code",
   "execution_count": 7,
   "metadata": {},
   "outputs": [],
   "source": [
    "def pairwise_eval(reviews, answer_a, answer_b):\n",
    "    eval_prompt = f\"\"\"[System]\n",
    "Please act as an impartial judge and evaluate the quality of the Korean summaries provided by two\n",
    "AI assistants to the set of user reviews on accommodations displayed below. You should choose the assistant that\n",
    "follows the user’s instructions and answers the user’s question better. Your evaluation\n",
    "should consider factors such as the helpfulness, relevance, accuracy, depth, creativity,\n",
    "and level of detail of their responses. Begin your evaluation by comparing the two\n",
    "responses and provide a short explanation. Avoid any position biases and ensure that the\n",
    "order in which the responses were presented does not influence your decision. Do not allow\n",
    "the length of the responses to influence your evaluation. Do not favor certain names of\n",
    "the assistants. Be as objective as possible. After providing your explanation, output your\n",
    "final verdict by strictly following this format: \"[[A]]\" if assistant A is better, \"[[B]]\"\n",
    "if assistant B is better, and \"[[C]]\" for a tie.\n",
    "[User Reviews]\n",
    "{reviews}\n",
    "[The Start of Assistant A’s Answer]\n",
    "{answer_a}\n",
    "[The End of Assistant A’s Answer]\n",
    "[The Start of Assistant B’s Answer]\n",
    "{answer_b}\n",
    "[The End of Assistant B’s Answer]\"\"\"\n",
    "    \n",
    "    completion = client.chat.completions.create(\n",
    "        model='gpt-4o-2024-05-13',\n",
    "        messages=[{'role': 'user', 'content': eval_prompt}],\n",
    "        temperature=0.0\n",
    "    )\n",
    "\n",
    "    return completion"
   ]
  },
  {
   "cell_type": "markdown",
   "metadata": {},
   "source": [
    "### Baseline 모델 개발"
   ]
  },
  {
   "cell_type": "code",
   "execution_count": 8,
   "metadata": {},
   "outputs": [],
   "source": [
    "PROMPT_BASELINE = f\"\"\"아래 숙소 리뷰에 대해 5문장 내로 요약해줘:\"\"\""
   ]
  },
  {
   "cell_type": "code",
   "execution_count": 9,
   "metadata": {},
   "outputs": [
    {
     "name": "stdout",
     "output_type": "stream",
     "text": [
      "숙소는 깨끗하고 위치도 좋았으며 편안한 휴식을 즐겼다고 감사의 말을 전했다.\n"
     ]
    }
   ],
   "source": [
    "# PROMPT_BASELINE 정의\n",
    "PROMPT_BASELINE = f\"\"\"아래 숙소 리뷰에 대해 5문장 내로 요약해줘:\"\"\"\n",
    "\n",
    "reviews, _ = preprocess_reviews(path='./res/reviews.json')\n",
    "\n",
    "def summarize(reviews, prompt, temperature=0.0, model='gpt-3.5-turbo-0125'):\n",
    "    prompt = prompt + '\\n\\n' + reviews\n",
    "\n",
    "    completion = client.chat.completions.create(\n",
    "        model=model,\n",
    "        messages=[{'role': 'user', 'content': prompt}],\n",
    "        temperature=temperature\n",
    "    )\n",
    "\n",
    "    return completion\n",
    "\n",
    "print(summarize(reviews, PROMPT_BASELINE).choices[0].message.content)"
   ]
  },
  {
   "cell_type": "code",
   "execution_count": 10,
   "metadata": {},
   "outputs": [],
   "source": [
    "summary_real_20240526 = '위치가 매우 우수한 숙박시설로, 인사동과 조계사, 경복궁 등 관광지에 도보로 이동할 수 있는 편리한 위치에 있습니다. 객실은 깔끔하며 직원들의 친절한 서비스와 청결한 시설이 인상적입니다. 주변에는 맛집과 편의시설이 많아 편리하며, 교통 접근성도 좋습니다. 전체적으로 만족도가 높고 자주 방문하고 싶은 곳으로 손꼽히는 숙소로 평가됩니다.'"
   ]
  },
  {
   "cell_type": "code",
   "execution_count": 11,
   "metadata": {},
   "outputs": [
    {
     "name": "stdout",
     "output_type": "stream",
     "text": [
      "Assistant A provides a concise summary that accurately reflects the user reviews. It mentions the cleanliness, good location, and the fact that the guests enjoyed their stay and expressed gratitude. This summary is directly relevant to the reviews provided.\n",
      "\n",
      "Assistant B, on the other hand, includes a lot of additional information that is not present in the user reviews. While the response is detailed and creative, it introduces elements such as specific tourist attractions, staff service, and nearby amenities, which are not mentioned in the original reviews. This makes the summary less accurate and less relevant to the given reviews.\n",
      "\n",
      "Therefore, Assistant A better follows the user’s instructions by providing a summary that is helpful, relevant, accurate, and directly based on the user reviews.\n",
      "\n",
      "[[A]]\n"
     ]
    }
   ],
   "source": [
    "print(pairwise_eval(reviews, summarize(reviews, PROMPT_BASELINE).choices[0].message.content, summary_real_20240526).choices[0].message.content)"
   ]
  },
  {
   "cell_type": "markdown",
   "metadata": {},
   "source": [
    "### 대규모 평가 스크립트\n",
    "- 원래는 많은 수의 다양한 데이터에 대해 평가를 하지만, 동일한 Prompt에 대해 temperature 높여서 평가 진행"
   ]
  },
  {
   "cell_type": "code",
   "execution_count": 12,
   "metadata": {},
   "outputs": [
    {
     "data": {
      "text/plain": [
       "['숙소는 깨끗하고 위치가 좋았으며 잘 쉬고 놀다감을 표현했다.',\n",
       " '이 숙소는 깨끗하고 위치도 좋아서 잘 쉬고 놀 수 있었다고 감사한 리뷰를 남겼다.',\n",
       " '숙소는 깨끗하고 위치도 좋았으며 편안히 쉬고 즐거운 시간을 보냈다고 만족하는 리뷰다.',\n",
       " '숙소는 깨끗하고 위치도 좋았으며 편안한 휴식을 즐길 수 있었던 만족스러운 숙박이었습니다.',\n",
       " '이 숙소는 깨끗하고 좋은 위치에 있어서 편안한 휴식을 즐길 수 있었습니다. 감사합니다.',\n",
       " '숙소는 매우 깨끗하고 위치도 아주 좋았으며 편안한 휴식을 취할 수 있었다고 감사의 말을 전했다.',\n",
       " '숙소는 깨끗하고 위치도 좋았으며 편안한 휴식을 취할 수 있었던 것 같다.',\n",
       " '숙소는 깨끗하고 위치도 좋았으며 잘 쉬었던 만족스러운 숙박이었습니다.',\n",
       " '숙소는 깨끗하고 위치도 좋았으며 잘 쉬고 놀 수 있었다.',\n",
       " '깨끗하고 위치도 좋았어요. 잘 쉬고 놀다 간다고 합니다. 감사합니다.']"
      ]
     },
     "execution_count": 12,
     "metadata": {},
     "output_type": "execute_result"
    }
   ],
   "source": [
    "eval_count = 10\n",
    "\n",
    "summaries_baseline = [summarize(reviews, PROMPT_BASELINE, temperature=1.0).choices[0].message.content for _ in range(eval_count)]\n",
    "summaries_baseline"
   ]
  },
  {
   "cell_type": "code",
   "execution_count": 13,
   "metadata": {},
   "outputs": [
    {
     "name": "stderr",
     "output_type": "stream",
     "text": [
      "100%|██████████| 10/10 [00:18<00:00,  1.83s/it]"
     ]
    },
    {
     "name": "stdout",
     "output_type": "stream",
     "text": [
      "Wins: 10, Losses: 0, Ties: 0\n"
     ]
    },
    {
     "name": "stderr",
     "output_type": "stream",
     "text": [
      "\n"
     ]
    }
   ],
   "source": [
    "from tqdm import tqdm\n",
    "\n",
    "\n",
    "def pairwise_eval_batch(reviews, answers_a, answers_b):\n",
    "    a_cnt, b_cnt, draw_cnt = 0, 0, 0\n",
    "    for i in tqdm(range(len(answers_a))):\n",
    "        completion = pairwise_eval(reviews, answers_a[i], answers_b[i])\n",
    "        verdict_text = completion.choices[0].message.content\n",
    "\n",
    "        if '[[A]]' in verdict_text:\n",
    "            a_cnt += 1\n",
    "        elif '[[B]]' in verdict_text:\n",
    "            b_cnt += 1\n",
    "        elif '[[C]]' in verdict_text:\n",
    "            draw_cnt += 1\n",
    "        else:\n",
    "            print('Evaluation Error')\n",
    "\n",
    "    return a_cnt, b_cnt, draw_cnt\n",
    "\n",
    "wins, losses, ties = pairwise_eval_batch(reviews, summaries_baseline, [summary_real_20240526 for _ in range(len(summaries_baseline))])\n",
    "print(f'Wins: {wins}, Losses: {losses}, Ties: {ties}')"
   ]
  },
  {
   "cell_type": "markdown",
   "metadata": {},
   "source": [
    "### 모델 고도화 1 - 조건들 명시"
   ]
  },
  {
   "cell_type": "code",
   "execution_count": 14,
   "metadata": {},
   "outputs": [
    {
     "name": "stderr",
     "output_type": "stream",
     "text": [
      "100%|██████████| 10/10 [00:18<00:00,  1.87s/it]"
     ]
    },
    {
     "name": "stdout",
     "output_type": "stream",
     "text": [
      "Wins: 10, Losses: 0, Ties: 0\n"
     ]
    },
    {
     "name": "stderr",
     "output_type": "stream",
     "text": [
      "\n"
     ]
    }
   ],
   "source": [
    "prompt = f\"\"\"당신은 요약 전문가입니다. 사용자 숙소 리뷰들이 주어졌을 때 요약하는 것이 당신의 목표입니다.\n",
    "\n",
    "요약 결과는 다음 조건들을 충족해야 합니다:\n",
    "1. 모든 문장은 항상 존댓말로 끝나야 합니다.\n",
    "2. 숙소에 대해 소개하는 톤앤매너로 작성해주세요.\n",
    "  2-1. 좋은 예시\n",
    "    a) 전반적으로 좋은 숙소였고 방음도 괜찮았다는 평입니다.\n",
    "    b) 재방문 예정이라는 평들이 존재합니다.\n",
    "  2-2. 나쁜 예시\n",
    "    a) 좋은 숙소였고 방음도 괜찮았습니다.\n",
    "    b) 재방문 예정입니다.\n",
    "3. 요약 결과는 최소 2문장, 최대 5문장 사이로 작성해주세요.\n",
    "    \n",
    "아래 숙소 리뷰들에 대해 요약해주세요:\"\"\"\n",
    "\n",
    "eval_count = 10\n",
    "summaries = [summarize(reviews, prompt, temperature=1.0).choices[0].message.content for _ in range(eval_count)]\n",
    "wins, losses, ties = pairwise_eval_batch(reviews, summaries, [summary_real_20240526 for _ in range(len(summaries))])\n",
    "print(f'Wins: {wins}, Losses: {losses}, Ties: {ties}')"
   ]
  },
  {
   "cell_type": "markdown",
   "metadata": {},
   "source": [
    "### 모델 고도화 2 - 입력 데이터의 품질 증가"
   ]
  },
  {
   "cell_type": "code",
   "execution_count": 15,
   "metadata": {},
   "outputs": [],
   "source": [
    "import datetime\n",
    "from dateutil import parser\n",
    "\n",
    "def preprocess_reviews(path='./res/reviews.json'):\n",
    "    with open(path, 'r', encoding='utf-8') as f:\n",
    "        review_list = json.load(f)\n",
    "\n",
    "    reviews_good, reviews_bad = [], []\n",
    "\n",
    "    current_date = datetime.datetime.now()\n",
    "    date_boundary = current_date - datetime.timedelta(days=6*30)\n",
    "\n",
    "    filtered_cnt = 0\n",
    "    for r in review_list:\n",
    "        review_date_str = r['date']\n",
    "        try:\n",
    "            review_date = parser.parse(review_date_str)\n",
    "        except (ValueError, TypeError):\n",
    "            review_date = current_date\n",
    "\n",
    "        if review_date < date_boundary:\n",
    "            continue\n",
    "        if len(r['review']) < 30:\n",
    "            filtered_cnt += 1\n",
    "            continue\n",
    "\n",
    "        if r['stars'] == 5:\n",
    "            reviews_good.append('[REVIEW_START]' + r['review'] + '[REVIEW_END]')\n",
    "        else:\n",
    "            reviews_bad.append('[REVIEW_START]' + r['review'] + '[REVIEW_END]')\n",
    "\n",
    "    reviews_good = reviews_good[:min(len(reviews_good), 50)]\n",
    "    reviews_bad = reviews_bad[:min(len(reviews_bad), 50)]\n",
    "\n",
    "    reviews_good_text = '\\n'.join(reviews_good)\n",
    "    reviews_bad_text = '\\n'.join(reviews_bad)\n",
    "\n",
    "    return reviews_good_text, reviews_bad_text\n",
    "\n",
    "reviews, _ = preprocess_reviews()"
   ]
  },
  {
   "cell_type": "code",
   "execution_count": 16,
   "metadata": {},
   "outputs": [
    {
     "name": "stderr",
     "output_type": "stream",
     "text": [
      "100%|██████████| 10/10 [00:20<00:00,  2.10s/it]"
     ]
    },
    {
     "name": "stdout",
     "output_type": "stream",
     "text": [
      "Wins: 3, Losses: 7, Ties: 0\n"
     ]
    },
    {
     "name": "stderr",
     "output_type": "stream",
     "text": [
      "\n"
     ]
    }
   ],
   "source": [
    "eval_count = 10\n",
    "summaries = [summarize(reviews, prompt, temperature=1.0, model='gpt-3.5-turbo-0125').choices[0].message.content for _ in range(eval_count)]\n",
    "wins, losses, ties = pairwise_eval_batch(reviews, summaries, [summary_real_20240526 for _ in range(len(summaries))])\n",
    "print(f'Wins: {wins}, Losses: {losses}, Ties: {ties}')"
   ]
  },
  {
   "cell_type": "markdown",
   "metadata": {},
   "source": [
    "### 모델 고도화 3 - Few-Shot Prompting"
   ]
  },
  {
   "cell_type": "code",
   "execution_count": 17,
   "metadata": {},
   "outputs": [
    {
     "name": "stderr",
     "output_type": "stream",
     "text": [
      "100%|██████████| 10/10 [00:25<00:00,  2.50s/it]"
     ]
    },
    {
     "name": "stdout",
     "output_type": "stream",
     "text": [
      "Wins: 2, Losses: 8, Ties: 0\n"
     ]
    },
    {
     "name": "stderr",
     "output_type": "stream",
     "text": [
      "\n"
     ]
    }
   ],
   "source": [
    "reviews_1shot, _ = preprocess_reviews('./res/ninetree_pangyo.json')\n",
    "summary_1shot = summarize(reviews_1shot, prompt, temperature=0.0, model='gpt-4-turbo-2024-04-09').choices[0].message.content\n",
    "prompt_1shot = f\"\"\"당신은 요약 전문가입니다. 사용자 숙소 리뷰들이 주어졌을 때 요약하는 것이 당신의 목표입니다.\n",
    "\n",
    "요약 결과는 다음 조건들을 충족해야 합니다:\n",
    "1. 모든 문장은 항상 존댓말로 끝나야 합니다.\n",
    "2. 숙소에 대해 소개하는 톤앤매너로 작성해주세요.\n",
    "  2-1. 좋은 예시\n",
    "    a) 전반적으로 좋은 숙소였고 방음도 괜찮았다는 평입니다.\n",
    "    b) 재방문 예정이라는 평들이 존재합니다.\n",
    "  2-2. 나쁜 예시\n",
    "    a) 좋은 숙소였고 방음도 괜찮았습니다.\n",
    "    b) 재방문 예정입니다.\n",
    "3. 요약 결과는 최소 2문장, 최대 5문장 사이로 작성해주세요.\n",
    "\n",
    "다음은 리뷰들과 요약 예시입니다.\n",
    "예시 리뷰들:\n",
    "{reviews_1shot}\n",
    "예시 요약 결과:\n",
    "{summary_1shot}\n",
    "    \n",
    "아래 숙소 리뷰들에 대해 요약해주세요:\"\"\"\n",
    "\n",
    "summaries = [summarize(reviews, prompt, temperature=1.0, model='gpt-3.5-turbo-0125').choices[0].message.content for _ in range(eval_count)]\n",
    "wins, losses, ties = pairwise_eval_batch(reviews, summaries, [summary_real_20240526 for _ in range(len(summaries))])\n",
    "print(f'Wins: {wins}, Losses: {losses}, Ties: {ties}')"
   ]
  },
  {
   "cell_type": "code",
   "execution_count": 18,
   "metadata": {},
   "outputs": [
    {
     "data": {
      "text/plain": [
       "['이 숙소는 전체적으로 깨끗하고 편안한 분위기를 제공합니다. 친절한 직원들이 좋은 서비스를 제공해주어 머무는 동안 편안했습니다. 객실은 넓고 아늑하며 휴식을 취하기에 좋은 환경을 제공합니다. 다음 여행 때도 재방문하고 싶은 좋은 숙소입니다. 감사합니다.',\n",
       " '리뷰: 이 호텔은 넓은 객실과 편안한 침대로 기분 좋게 머물렀습니다. 직원들은 친절하고 응대가 좋았어요.\\n\\n요약: 넓은 객실과 편안한 침대로 기분 좋게 머물렀고, 직원들의 친절한 서비스가 인상적이었습니다. 또한, 숙소의 편안한 분위기가 좋은 인상을 주었습니다.',\n",
       " '숙소는 전반적으로 깔끔하고 편안한 분위기를 가졌습니다. 친절한 스태프들이 좋은 서비스를 제공해주었고, 위치 또한 편리하게 위치해 있었습니다. 객실은 청결하고 편리한 시설들로 구비되어 있어 휴식을 취하기에 안성맞춤이었습니다. 다음 방문에도 이 숙소를 선택할 예정입니다. 감사합니다.',\n",
       " '1. 직원들이 친절하고 응대도 좋았습니다.\\n2. 객실은 깨끗하고 편안한 분위기를 자랑합니다.\\n3. 편리한 위치에 위치해 있어 여행을 즐기는 데 도움이 되었습니다.\\n4. 다음에 또 이 숙소를 이용하고 싶다는 마음이 들었습니다.',\n",
       " '이 숙소는 전반적으로 깔끔하고 아늑한 분위기를 자랑합니다. 객실은 청결하며 편안한 침대가 마음에 들었습니다. 또한 위치가 편리하여 다시 방문하고 싶은 숙소입니다. 다음에 또 머물 의향이 있는 리뷰들이 있습니다. 고객들은 대부분 만족한 경향이 있어 추천할 만한 숙소라고 생각됩니다.',\n",
       " '이 숙소는 전반적으로 깨끗하고 청결한 분위기가 느껴졌습니다. 직원들의 친절한 서비스도 좋았고, 편안한 숙면을 취할 수 있었습니다. 또한, 주변에 편의시설이 많아 편리했고, 재방문하고 싶은 숙소였습니다. 강력 추천합니다.',\n",
       " '리뷰 1: 아늑한 분위기와 청결한 시설에 만족했습니다.\\n\\n리뷰 2: 위치도 좋고 직원들의 서비스가 좋았어요.\\n\\n리뷰 3: 조식이 맛있었고 편안한 휴식을 취할 수 있었습니다.\\n\\n리뷰 4: 다음에 또 머물고 싶은 곳이에요.\\n\\n요약: 숙소는 아늑하고 청결한 분위기에 위치도 좋아 만실하다. 직원의 친절한 서비스와 맛있는 조식으로 휴식을 취할 수 있었으며, 재방문하고 싶은 곳이다.',\n",
       " '이 숙소는 전반적으로 매우 깔끔하고 아늑한 분위기를 가지고 있습니다. 친절한 직원들이 있어서 편안한 숙박을 할 수 있었습니다. 또한 위치가 편리하여 주변 관광지를 쉽게 다녀올 수 있었습니다. 정말 추천합니다. 또한 조식이 매우 푸짐하고 맛있어서 좋았습니다. 다음에 또 방문하고 싶은 숙소입니다.',\n",
       " '이 숙소는 전반적으로 깨끗하고 편안한 분위기를 가졌습니다. 친절한 스태프가 있어서 좋은 서비스를 받을 수 있었고, 객실 내 시설들도 만족스러웠습니다. 또한, 주변 지역에 편의시설이 많아 편리했습니다. 다시 방문하고 싶은 숙소였습니다.',\n",
       " '1. 전체적으로 깨끗하고 아늑한 분위기의 숙소였습니다.\\n2. 위치가 편리하며 주변에 편의시설이 많아서 편리했습니다.\\n3. 친절한 스태프와 안락한 침구가 좋은 평가를 받았습니다.\\n4. 다음에 또 방문하고 싶은 숙소였습니다.\\n5. 숙소 전체적으로 만족스러운 경험이었습니다.']"
      ]
     },
     "execution_count": 18,
     "metadata": {},
     "output_type": "execute_result"
    }
   ],
   "source": [
    "summaries"
   ]
  },
  {
   "cell_type": "code",
   "execution_count": 19,
   "metadata": {},
   "outputs": [
    {
     "name": "stderr",
     "output_type": "stream",
     "text": [
      "100%|██████████| 10/10 [00:26<00:00,  2.69s/it]"
     ]
    },
    {
     "name": "stdout",
     "output_type": "stream",
     "text": [
      "Wins: 10, Losses: 0, Ties: 0\n"
     ]
    },
    {
     "name": "stderr",
     "output_type": "stream",
     "text": [
      "\n"
     ]
    }
   ],
   "source": [
    "prompt_1shot = f\"\"\"당신은 요약 전문가입니다. 사용자 숙소 리뷰들이 주어졌을 때 요약하는 것이 당신의 목표입니다. 다음은 리뷰들과 요약 예시입니다.\n",
    "예시 리뷰들:\n",
    "{reviews_1shot}\n",
    "예시 요약 결과:\n",
    "{summary_1shot}\n",
    "    \n",
    "아래 숙소 리뷰들에 대해 요약해주세요:\"\"\"\n",
    "\n",
    "summaries = [summarize(reviews, prompt_1shot, temperature=1.0, model='gpt-3.5-turbo-0125').choices[0].message.content for _ in range(eval_count)]\n",
    "wins, losses, ties = pairwise_eval_batch(reviews, summaries, [summary_real_20240526 for _ in range(len(summaries))])\n",
    "print(f'Wins: {wins}, Losses: {losses}, Ties: {ties}')"
   ]
  },
  {
   "cell_type": "code",
   "execution_count": 20,
   "metadata": {},
   "outputs": [
    {
     "data": {
      "text/plain": [
       "['[REVIEW_START]이번에 처음 방문했는데, 직원들의 친절함에 감동받았습니다. 숙소 내부도 깔끔하고 편안했어요. 조식도 맛있었습니다. 다음에 또 방문하고 싶네요![REVIEW_END]\\n[REVIEW_START]위치가 시내 중심에 있어서 이동이 편리하고 주변에 맛집들이 많아서 좋았습니다. 방은 조용해서 편안했고, 침구도 푹신해서 좋았어요. 다음에 또 방문할 의향 있습니다![REVIEW_END] \\n\\n요약 결과:\\n이 숙소는 직원들의 친절함과 깔끔하고 편안한 내부, 맛있는 조식으로 손님들을 매료시키고 있습니다. 또한, 시내 중심에 위치해 이동이 편리하고 주변 맛집들이 많아서 만족도가 높은 편입니다. 숙소는 조용하고 침구도 편안해서 재방문을 고려하고 있는 손님이 많습니다.',\n",
       " '1. [REVIEW_START]객실이 깔끔하고 편안해서 휴식을 취하기에 좋았습니다. 조식도 맛있었어요![REVIEW_END]\\n2. [REVIEW_START]직원들이 친절하고 서비스가 좋았습니다. 다음에 또 방문하고 싶은 곳이에요.[REVIEW_END]\\n3. [REVIEW_START]위치가 시내 중심가와 가깝고 주변에 편의시설이 많아서 편리했습니다. 전체적으로 만족합니다![REVIEW_END] \\n\\n요약 결과:\\n이 숙소는 깔끔하고 편안한 객실과 맛있는 조식을 제공하며, 친절한 직원들과 좋은 서비스로 손님들을 맞이하고 있습니다. 또한, 시내 중심가와 가까운 위치에 있어 편리하고 주변에 다양한 편의시설이 있어 편안한 휴식을 취할 수 있다는 평가를 받고 있습니다.',\n",
       " '1. [REVIEW_START]이번에 처음 방문했는데 직원분들이 친절하고 시설도 깔끔해서 좋았어요. 다음에 또 방문하고 싶어요![REVIEW_END]\\n2. [REVIEW_START]가족들과 함께 머물렀는데, 아이들이 수영장을 너무 좋아했어요. 주변에 놀 거리도 많아서 즐거운 시간을 보냈습니다![REVIEW_END]\\n\\n요약 결과:\\n이 숙소는 처음 방문한 고객들에게 직원의 친절과 깔끔한 시설로 호평을 받고 있습니다. 또한, 가족 단위로 머무는 고객들은 주변의 놀거리와 아이들이 좋아할 만한 수영장으로 즐거운 시간을 보낼 수 있다고 언급하고 있습니다.',\n",
       " '[REVIEW_START]이번에 처음으로 이용해봤는데, 객실이 깨끗하고 직원들도 친절해서 좋았어요. 다음에 또 이용하고 싶은 곳입니다![REVIEW_END]\\n[REVIEW_START]조용한 환경에서 휴식을 취할 수 있는 좋은 숙소였습니다. 다만, 주변에 시설이 부족한 점이 아쉬웠어요. 그래도 잠시나마 편안한 시간을 보낼 수 있었습니다.[REVIEW_END]',\n",
       " '1. [REVIEW_START]이번에 처음 묵어보았는데 방도 깔끔하고 직원들도 친절해서 좋았어요. 다음에 또 방문하고 싶어요![REVIEW_END]\\n2. [REVIEW_START]위치가 너무 좋아서 주변 관광지를 다 돌아다닐 수 있어서 너무 행복했어요. 다음에도 꼭 다시 오고 싶어요![REVIEW_END]\\n3. [REVIEW_START]조식이 푸짐하고 맛도 좋았어요. 룸서비스도 빠르고 만족스러웠어요. 다음에 또 올 거예요![REVIEW_END] \\n\\n요약 결과:\\n새로운 숙박 경험에 대해 만족스러운 청결한 객실과 친절한 직원 서비스를 경험한 고객들이 많습니다. 또한, 중심 위치로 주변 관광지를 편리하게 이용할 수 있어 만족한 표현이 많이나왔습니다. 룸서비스와 풍부한 조식도 고객들에게 긍정적인 인상을 주었습니다.',\n",
       " '1. [REVIEW_START]호텔 내부가 깔끔하고 직원들의 친절함에 감동받았어요. 다음에 또 방문하고 싶어요![REVIEW_END]\\n2. [REVIEW_START]객실이 넓고 편안해서 휴식을 즐기기 좋았어요. 조식도 맛있었습니다. 추천합니다![REVIEW_END]\\n3. [REVIEW_START]위치가 시내 중심부에 있어서 이동이 편리했고, 주변 관광지에도 가까워서 좋았습니다. 다음에 또 방문할 계획입니다.[REVIEW_END]\\n\\n요약 결과:\\n이 호텔은 깔끔한 내부와 친절한 직원들로 손님들의 감동을 안겨주고 있습니다. 객실은 넓고 편안하며 맛있는 조식도 제공되어 휴식을 즐기기에 좋은 환경을 제공하고 있습니다. 또한, 시내 중심부에 위치하여 이동이 편리하고 주변 관광지와 가까워 재방문을 원하는 손님들이 많습니다.',\n",
       " '1. [REVIEW_START]이번에 처음 방문했는데 직원들이 너무 친절하고 시설도 깔끔해서 좋았어요![REVIEW_END]\\n2. [REVIEW_START]가격 대비 만족스러운 숙박이었습니다. 조식도 훌륭했고 위치도 좋았어요.[REVIEW_END]\\n3. [REVIEW_START]객실 내부는 깔끔했지만 소리가 조금 시끄러웠어요. 그래도 전체적으로 만족했습니다.[REVIEW_END]\\n\\n요약 결과:\\n이 숙소는 직원의 친절함과 깔끔한 시설로 손님들로부터 좋은 평가를 받고 있습니다. 또한, 가격 대비 만족스러운 숙박 경험과 훌륭한 조식을 제공하며, 위치 또한 좋다는 평가를 받고 있습니다. 객실 내부는 깔끔하지만 소리가 조금 시끄러울 수 있지만, 전반적으로 손님들은 만족하고 있는 것으로 보입니다.',\n",
       " '1. [REVIEW_START]직원분들이 친절하고 시설도 깨끗해서 좋았어요. 다음에 또 방문하고 싶네요![REVIEW_END]\\n2. [REVIEW_START]조식이 맛있고 풀장도 좋아서 가족 모두 만족했습니다. 다음 휴가 때도 이 숙소를 이용하려고요.[REVIEW_END]\\n3. [REVIEW_START]위치가 시내 중심에 있어서 이동하기 편리했고 주변에 맛집도 많아서 좋았어요. 다음에 또 방문하고 싶습니다![REVIEW_END]\\n\\n요약 결과:\\n고객들은 직원의 친절함과 시설의 청결함에 만족하며, 조식의 맛과 수영장이 가족들을 만족시킨다는 긍정적인 리뷰를 남겼습니다. 또한, 시내 중심에 위치하여 이동이 용이하고 주변에 다양한 맛집이 위치해 있어 편리하다는 의견이 있습니다. 다음 방문에 대한 기대감을 표현하고 있습니다.',\n",
       " '[REVIEW_START]호텔 내부는 깔끔하고 직원들도 친절했습니다. 다만, 조식이 다소 별로였어요. 그래도 전체적으로 만족했습니다.[REVIEW_END]\\n[REVIEW_START]룸 컨디션은 좋았지만, 욕실에서 냄새가 나서 좀 불편했어요. 위치가 편리해서 다음에도 이용할 생각이 있습니다.[REVIEW_END] \\n\\n요약 결과:\\n이 호텔은 깔끔한 내부와 친절한 직원들로 인해 전반적으로 만족스러운 서비스를 제공하고 있습니다. 다만, 조식에 대한 의견은 좀 아쉬웠지만, 위치가 편리하고 룸 컨디션도 좋아 재방문할 의사가 있는 것으로 보입니다. 욕실에서 나는 냄새에 대한 불편함이 언급되었습니다.',\n",
       " '1. [REVIEW_START] 직원들이 너무 친절했고, 청결 상태도 매우 만족스러웠습니다. 다음에 또 방문하고 싶어요![REVIEW_END]\\n2. [REVIEW_START] 강남역과 가깝고 주변에 편의시설이 많아서 위치도 좋았습니다. 다만 조식 메뉴가 조금 다채롭지 않았어요.[REVIEW_END]\\n\\n결과:\\n이 숙소는 직원들의 친절함과 청결한 상태로 만족스러운 숙박 경험을 제공한다는 평가를 받고 있습니다. 또한, 강남역과 가까운 위치와 편의시설이 많아서 편리하다는 의견이 있지만, 조식 메뉴의 다양성에 대해 약간의 불만이 있었습니다.']"
      ]
     },
     "execution_count": 20,
     "metadata": {},
     "output_type": "execute_result"
    }
   ],
   "source": [
    "summaries"
   ]
  },
  {
   "cell_type": "code",
   "execution_count": 21,
   "metadata": {},
   "outputs": [],
   "source": [
    "reviews_1shot, _ = preprocess_reviews('./res/ninetree_pangyo.json')\n",
    "summary_1shot = summarize(reviews_1shot, prompt, temperature=0.0, model='gpt-4-turbo-2024-04-09').choices[0].message.content"
   ]
  },
  {
   "cell_type": "code",
   "execution_count": 22,
   "metadata": {},
   "outputs": [
    {
     "name": "stderr",
     "output_type": "stream",
     "text": [
      "100%|██████████| 10/10 [00:20<00:00,  2.04s/it]"
     ]
    },
    {
     "name": "stdout",
     "output_type": "stream",
     "text": [
      "Wins: 0, Losses: 10, Ties: 0\n"
     ]
    },
    {
     "name": "stderr",
     "output_type": "stream",
     "text": [
      "\n"
     ]
    }
   ],
   "source": [
    "reviews_2shot, _ = preprocess_reviews('./res/ninetree_yongsan.json')\n",
    "summary_2shot = summarize(reviews_2shot, prompt_1shot, temperature=0.0, model='gpt-4-turbo-2024-04-09').choices[0].message.content\n",
    "\n",
    "prompt_2shot = f\"\"\"당신은 요약 전문가입니다. 사용자 숙소 리뷰들이 주어졌을 때 요약하는 것이 당신의 목표입니다. 다음은 리뷰들과 요약 예시입니다.\n",
    "\n",
    "예시 리뷰들 1:\n",
    "{reviews_1shot}\n",
    "예시 요약 결과 1:\n",
    "{summary_1shot}\n",
    "\n",
    "예시 리뷰들 2:\n",
    "{reviews_2shot}\n",
    "예시 요약 결과 2:\n",
    "{summary_2shot}\n",
    "    \n",
    "아래 숙소 리뷰들에 대해 요약해주세요:\"\"\"\n",
    "\n",
    "summaries = [summarize(reviews, prompt_2shot, temperature=1.0, model='gpt-3.5-turbo-0125').choices[0].message.content for _ in range(eval_count)]\n",
    "wins, losses, ties = pairwise_eval_batch(reviews, summaries, [summary_real_20240526 for _ in range(len(summaries))])\n",
    "print(f'Wins: {wins}, Losses: {losses}, Ties: {ties}')"
   ]
  },
  {
   "cell_type": "code",
   "execution_count": 23,
   "metadata": {},
   "outputs": [
    {
     "data": {
      "text/plain": [
       "['죄송하지만 숙소 리뷰가 제공되지 않았습니다. 숙소 리뷰를 제공해주시면 요약을 도와드리겠습니다.',\n",
       " '죄송하지만, 숙소 리뷰들을 제공해주지 않으셨습니다. 숙소 리뷰들을 입력해주시면 요약을 도와드리겠습니다.',\n",
       " '죄송하지만, 숙소 리뷰가 제공되지 않아 요약할 수 없습니다. 숙소 리뷰를 제공해주시면 감사하겠습니다.',\n",
       " '죄송하지만 숙소 리뷰가 제공되지 않았습니다. 숙소 리뷰를 입력해주시면 요약을 도와드리겠습니다.',\n",
       " '죄송하지만, 숙소 리뷰가 제공되지 않아요. 숙소 리뷰를 제공해주시면 요약을 도와드리겠습니다.',\n",
       " '죄송하지만 숙소 리뷰가 제공되지 않아 요약을 도와드릴 수 없습니다. 숙소 리뷰를 제공해주시면 감사하겠습니다.',\n",
       " '죄송하지만 숙소 리뷰가 제공되지 않아 요약을 도와드릴 수 없습니다. 숙소 리뷰를 제공해주시면 감사하겠습니다.',\n",
       " '죄송하지만 숙소 리뷰들을 제공해주시지 않아 요약을 제공해드릴 수 없습니다. 숙소 리뷰들을 입력해주시면 해당 리뷰들을 요약해드리겠습니다.',\n",
       " '죄송하지만, 숙소 리뷰가 제공되지 않았습니다. 숙소 리뷰를 입력해 주시면 요약을 도와드리겠습니다.',\n",
       " '죄송하지만, 숙소 리뷰가 제공되지 않았습니다. 숙소 리뷰를 제공해주시면 요약을 도와드리겠습니다.']"
      ]
     },
     "execution_count": 23,
     "metadata": {},
     "output_type": "execute_result"
    }
   ],
   "source": [
    "summaries"
   ]
  },
  {
   "cell_type": "code",
   "execution_count": null,
   "metadata": {},
   "outputs": [],
   "source": []
  }
 ],
 "metadata": {
  "kernelspec": {
   "display_name": "Python (venv-yanolja)",
   "language": "python",
   "name": "venv-yanolja"
  },
  "language_info": {
   "codemirror_mode": {
    "name": "ipython",
    "version": 3
   },
   "file_extension": ".py",
   "mimetype": "text/x-python",
   "name": "python",
   "nbconvert_exporter": "python",
   "pygments_lexer": "ipython3",
   "version": "3.12.11"
  }
 },
 "nbformat": 4,
 "nbformat_minor": 2
}
