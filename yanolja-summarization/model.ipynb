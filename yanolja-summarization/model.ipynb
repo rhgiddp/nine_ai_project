{
 "cells": [
  {
   "cell_type": "code",
   "execution_count": 1,
   "metadata": {},
   "outputs": [
    {
     "name": "stdout",
     "output_type": "stream",
     "text": [
      "Hello! How can I assist you today?\n"
     ]
    }
   ],
   "source": [
    "from utils import get_openai_client\n",
    "OPEN_API_KEY, client = get_openai_client()\n",
    "\n",
    "# API 연결 테스트\n",
    "completion = client.chat.completions.create(\n",
    "    model='gpt-3.5-turbo-0125',\n",
    "    messages=[{'role': 'user', 'content': 'hi'}],\n",
    "    temperature=0.0\n",
    ")\n",
    "\n",
    "print(completion.choices[0].message.content)"
   ]
  },
  {
   "cell_type": "markdown",
   "metadata": {},
   "source": [
    "### 데이터 전처리 함수 작성\n"
   ]
  },
  {
   "cell_type": "markdown",
   "metadata": {},
   "source": [
    "리뷰 JSON 파일 로드"
   ]
  },
  {
   "cell_type": "code",
   "execution_count": 4,
   "metadata": {},
   "outputs": [
    {
     "data": {
      "text/plain": [
       "[{'review': '깨끗하고 너무 좋았어요', 'stars': 5, 'date': '22시간 전'},\n",
       " {'review': '위치도 아주좋고 숙소도 깨끗하고 좋아요~', 'stars': 5, 'date': '2일 전'},\n",
       " {'review': '잘쉬고놀다갑니다  감사', 'stars': 5, 'date': '6일 전'}]"
      ]
     },
     "execution_count": 4,
     "metadata": {},
     "output_type": "execute_result"
    }
   ],
   "source": [
    "import json\n",
    "\n",
    "with open('./res/reviews.json', 'r', encoding='utf-8') as f:\n",
    "    review_list = json.load(f)\n",
    "\n",
    "review_list[:3]"
   ]
  },
  {
   "cell_type": "markdown",
   "metadata": {},
   "source": [
    "좋은 평점 및 나쁜 평점 정의\n",
    "- 좋은 평점 = 별 5개\n",
    "- 나쁜 평점 = 별 4개 이하"
   ]
  },
  {
   "cell_type": "code",
   "execution_count": 5,
   "metadata": {},
   "outputs": [
    {
     "data": {
      "text/plain": [
       "(177, 43)"
      ]
     },
     "execution_count": 5,
     "metadata": {},
     "output_type": "execute_result"
    }
   ],
   "source": [
    "good_cnt, bad_cnt = 0, 0\n",
    "for r in review_list:\n",
    "    if r['stars'] == 5:\n",
    "        good_cnt += 1\n",
    "    else:\n",
    "        bad_cnt += 1\n",
    "\n",
    "good_cnt, bad_cnt"
   ]
  },
  {
   "cell_type": "markdown",
   "metadata": {},
   "source": [
    "좋은 리뷰 및 나쁜 리뷰로 구분 후 저장"
   ]
  },
  {
   "cell_type": "code",
   "execution_count": 6,
   "metadata": {},
   "outputs": [
    {
     "data": {
      "text/plain": [
       "['[REVIEW_START]인사동, 북촌동, 종각 등등 근처에 갈곳두 많구\\r\\n숙소두 깨끗하구 너무 좋아요\\r\\n엘베를 2번 타야하는게 살짝 번거롭지만\\r\\n그거빼구 다 좋아요[REVIEW_END]',\n",
       " '[REVIEW_START]근처 볼거리 놀거리가 가까이 있어 편했으나 \\n조계사 고층뷰는 의미 없이 배정해 주었으며\\n객실 내 청결상태가 별로였음 욕조 머리카락, 수건의 먼지등\\n재방문 의사 없음[REVIEW_END]',\n",
       " '[REVIEW_START]2월21일(수) 오전7시경, 카운터에 계시던 남자 직원 불친절\\n방음 최악[REVIEW_END]']"
      ]
     },
     "execution_count": 6,
     "metadata": {},
     "output_type": "execute_result"
    }
   ],
   "source": [
    "reviews_good, reviews_bad = [], []\n",
    "for r in review_list:\n",
    "    if r['stars'] == 5:\n",
    "        reviews_good.append('[REVIEW_START]' + r['review'] + '[REVIEW_END]')\n",
    "    else:\n",
    "        reviews_bad.append('[REVIEW_START]' + r['review'] + '[REVIEW_END]')\n",
    "\n",
    "reviews_bad[:3]"
   ]
  },
  {
   "cell_type": "code",
   "execution_count": 7,
   "metadata": {},
   "outputs": [
    {
     "data": {
      "text/plain": [
       "'[REVIEW_START]인사동, 북촌동, 종각 등등 근처에 갈곳두 많구\\r\\n숙소두 깨끗하구 너무 좋아요\\r\\n엘베를 2번 타야하는게 살짝 번거롭지만\\r\\n그거빼구 다 좋아요[REVIEW_'"
      ]
     },
     "execution_count": 7,
     "metadata": {},
     "output_type": "execute_result"
    }
   ],
   "source": [
    "reviews_good_text = '\\n'.join(reviews_good)\n",
    "reviews_bad_text = '\\n'.join(reviews_bad)\n",
    "\n",
    "reviews_bad_text[:100]"
   ]
  },
  {
   "cell_type": "markdown",
   "metadata": {},
   "source": [
    "전처리 함수 작성"
   ]
  },
  {
   "cell_type": "code",
   "execution_count": 9,
   "metadata": {},
   "outputs": [
    {
     "data": {
      "text/plain": [
       "'[REVIEW_START]깨끗하고 너무 좋았어요[REVIEW_END]\\n[REVIEW_START]위치도 아주좋고 숙소도 깨끗하고 좋아요~[REVIEW_END]\\n[REVIEW_STAR'"
      ]
     },
     "execution_count": 9,
     "metadata": {},
     "output_type": "execute_result"
    }
   ],
   "source": [
    "import datetime\n",
    "from dateutil import parser\n",
    "\n",
    "def preprocess_reviews(path='./res/reviews.json'):\n",
    "    with open(path, 'r', encoding='utf-8') as f:\n",
    "        review_list = json.load(f)\n",
    "\n",
    "    reviews_good, reviews_bad = [], []\n",
    "\n",
    "    current_date = datetime.datetime.now()\n",
    "    date_boundary = current_date - datetime.timedelta(days=6*30)\n",
    "\n",
    "    for r in review_list:\n",
    "        review_date_str = r['date']\n",
    "        try:\n",
    "            review_date = parser.parse(review_date_str)\n",
    "        except (ValueError, TypeError):\n",
    "            review_date = current_date\n",
    "\n",
    "        if review_date < date_boundary:\n",
    "            continue\n",
    "\n",
    "        if r['stars'] == 5:\n",
    "            reviews_good.append('[REVIEW_START]' + r['review'] + '[REVIEW_END]')\n",
    "        else:\n",
    "            reviews_bad.append('[REVIEW_START]' + r['review'] + '[REVIEW_END]')\n",
    "\n",
    "    reviews_good_text = '\\n'.join(reviews_good)\n",
    "    reviews_bad_text = '\\n'.join(reviews_bad)\n",
    "\n",
    "    return reviews_good_text, reviews_bad_text\n",
    "\n",
    "good, bad = preprocess_reviews()\n",
    "good[:100]"
   ]
  },
  {
   "cell_type": "markdown",
   "metadata": {},
   "source": [
    "### 평가용 함수 작성"
   ]
  },
  {
   "cell_type": "markdown",
   "metadata": {},
   "source": [
    "평가 기준 설정\n",
    "- MT-Bench 논문 기반 Pairwise Comparision (=LLM 기반 평가)\n",
    "  - 비교하는 방식 vs. 점수 매기는 방식\n",
    "  - 점수라는게 애매 할 수 있음 (ex. 어느 정도의 요약 품질이 3점인가?)\n",
    "  - 경험상 점수보다는 비교가 상대적으로 더 정확한 편"
   ]
  },
  {
   "cell_type": "markdown",
   "metadata": {},
   "source": [
    "평가 스크립트 작성\n",
    "- MT-Bench 논문 Prompt에서 일부 단어만 수정 (ex. Korean summaries, accommodations)"
   ]
  },
  {
   "cell_type": "code",
   "execution_count": 12,
   "metadata": {},
   "outputs": [],
   "source": [
    "def pairwise_eval(reviews, answer_a, answer_b):\n",
    "    eval_prompt = f\"\"\"[System]\n",
    "Please act as an impartial judge and evaluate the quality of the Korean summaries provided by two\n",
    "AI assistants to the set of user reviews on accommodations displayed below. You should choose the assistant that\n",
    "follows the user’s instructions and answers the user’s question better. Your evaluation\n",
    "should consider factors such as the helpfulness, relevance, accuracy, depth, creativity,\n",
    "and level of detail of their responses. Begin your evaluation by comparing the two\n",
    "responses and provide a short explanation. Avoid any position biases and ensure that the\n",
    "order in which the responses were presented does not influence your decision. Do not allow\n",
    "the length of the responses to influence your evaluation. Do not favor certain names of\n",
    "the assistants. Be as objective as possible. After providing your explanation, output your\n",
    "final verdict by strictly following this format: \"[[A]]\" if assistant A is better, \"[[B]]\"\n",
    "if assistant B is better, and \"[[C]]\" for a tie.\n",
    "[User Reviews]\n",
    "{reviews}\n",
    "[The Start of Assistant A’s Answer]\n",
    "{answer_a}\n",
    "[The End of Assistant A’s Answer]\n",
    "[The Start of Assistant B’s Answer]\n",
    "{answer_b}\n",
    "[The End of Assistant B’s Answer]\"\"\"\n",
    "    \n",
    "    completion = client.chat.completions.create(\n",
    "        model='gpt-4o-2024-05-13',\n",
    "        messages=[{'role': 'user', 'content': eval_prompt}],\n",
    "        temperature=0.0\n",
    "    )\n",
    "\n",
    "    return completion"
   ]
  },
  {
   "cell_type": "markdown",
   "metadata": {},
   "source": [
    "### Baseline 모델 개발"
   ]
  },
  {
   "cell_type": "code",
   "execution_count": 8,
   "metadata": {},
   "outputs": [],
   "source": [
    "PROMPT_BASELINE = f\"\"\"아래 숙소 리뷰에 대해 5문장 내로 요약해줘:\"\"\""
   ]
  },
  {
   "cell_type": "code",
   "execution_count": 14,
   "metadata": {},
   "outputs": [
    {
     "name": "stdout",
     "output_type": "stream",
     "text": [
      "숙소는 깨끗하고 위치도 좋았으며 편안한 휴식을 즐겼다고 감사의 말을 전했다.\n"
     ]
    }
   ],
   "source": [
    "# PROMPT_BASELINE 정의\n",
    "PROMPT_BASELINE = f\"\"\"아래 숙소 리뷰에 대해 5문장 내로 요약해줘:\"\"\"\n",
    "\n",
    "# client 다시 정의\n",
    "from utils import get_openai_client\n",
    "OPEN_API_KEY, client = get_openai_client()\n",
    "\n",
    "reviews, _ = preprocess_reviews(path='./res/reviews.json')\n",
    "\n",
    "def summarize(reviews, prompt, temperature=0.0, model='gpt-3.5-turbo-0125', client=client):\n",
    "    prompt = prompt + '\\n\\n' + reviews\n",
    "\n",
    "    completion = client.chat.completions.create(\n",
    "        model=model,\n",
    "        messages=[{'role': 'user', 'content': prompt}],\n",
    "        temperature=temperature\n",
    "    )\n",
    "\n",
    "    return completion\n",
    "\n",
    "print(summarize(reviews, PROMPT_BASELINE).choices[0].message.content)"
   ]
  },
  {
   "cell_type": "code",
   "execution_count": 15,
   "metadata": {},
   "outputs": [],
   "source": [
    "summary_real_20240526 = '위치가 매우 우수한 숙박시설로, 인사동과 조계사, 경복궁 등 관광지에 도보로 이동할 수 있는 편리한 위치에 있습니다. 객실은 깔끔하며 직원들의 친절한 서비스와 청결한 시설이 인상적입니다. 주변에는 맛집과 편의시설이 많아 편리하며, 교통 접근성도 좋습니다. 전체적으로 만족도가 높고 자주 방문하고 싶은 곳으로 손꼽히는 숙소로 평가됩니다.'"
   ]
  },
  {
   "cell_type": "code",
   "execution_count": 11,
   "metadata": {},
   "outputs": [
    {
     "name": "stdout",
     "output_type": "stream",
     "text": [
      "Assistant A provides a concise summary that accurately reflects the user reviews. It mentions the cleanliness, good location, and the fact that the guests enjoyed their stay and expressed gratitude. This summary is directly relevant to the reviews provided.\n",
      "\n",
      "Assistant B, on the other hand, includes a lot of additional information that is not present in the user reviews. While the response is detailed and creative, it introduces elements such as specific tourist attractions, staff service, and nearby amenities, which are not mentioned in the original reviews. This makes the summary less accurate and less relevant to the given reviews.\n",
      "\n",
      "Therefore, Assistant A better follows the user’s instructions by providing a summary that is helpful, relevant, accurate, and directly based on the user reviews.\n",
      "\n",
      "[[A]]\n"
     ]
    }
   ],
   "source": [
    "print(pairwise_eval(reviews, summarize(reviews, PROMPT_BASELINE).choices[0].message.content, summary_real_20240526).choices[0].message.content)"
   ]
  },
  {
   "cell_type": "markdown",
   "metadata": {},
   "source": [
    "### 대규모 평가 스크립트\n",
    "- 원래는 많은 수의 다양한 데이터에 대해 평가를 하지만, 동일한 Prompt에 대해 temperature 높여서 평가 진행"
   ]
  },
  {
   "cell_type": "code",
   "execution_count": 17,
   "metadata": {},
   "outputs": [
    {
     "data": {
      "text/plain": [
       "['위치가 좋고 깨끗한 숙소에서 편안하게 쉬다 감사했다.',\n",
       " '숙소는 깨끗하고 위치도 좋았으며 쉬고 놀기에 좋았다는 감사한 리뷰입니다.',\n",
       " '깨끗하고 위치 좋은 숙소로 편안하게 쉬고 놀기에 좋았다고 감사의 마음을 전했다.',\n",
       " '이 숙소는 깨끗하고 좋은 위치에 있어서 휴식을 즐기기 좋은 곳이었다.',\n",
       " '숙소는 깨끗하고 위치도 좋았으며 잘 쉬고 즐거운 시간을 보냈다고 감사한 리뷰입니다.',\n",
       " '모든 숙소 리뷰는 매우 만족스러웠고, 깨끗하고 좋은 위치에 위치해 있었으며 휴식을 즐길 수 있었다.',\n",
       " '깨끗하고 위치도 좋고 잘 쉬고 놀았다고 감사했다.',\n",
       " '숙소는 깨끗하고 위치가 좋았으며 잘 쉬고 놀 수 있었던 만족스러운 숙박이었습니다.',\n",
       " '숙소는 깨끗하고 아주 좋았으며 위치도 좋았다. 잘 쉬고 놀다 온다고 감사의 마음을 전했다.',\n",
       " '모든 숙박객이 깨끗하고 만족스러운 숙소에 만족했다.']"
      ]
     },
     "execution_count": 17,
     "metadata": {},
     "output_type": "execute_result"
    }
   ],
   "source": [
    "eval_count = 10\n",
    "\n",
    "summaries_baseline = [summarize(reviews, PROMPT_BASELINE, temperature=1.0).choices[0].message.content for _ in range(eval_count)]\n",
    "summaries_baseline"
   ]
  },
  {
   "cell_type": "code",
   "execution_count": 19,
   "metadata": {},
   "outputs": [
    {
     "name": "stderr",
     "output_type": "stream",
     "text": [
      "100%|██████████| 10/10 [00:37<00:00,  3.77s/it]"
     ]
    },
    {
     "name": "stdout",
     "output_type": "stream",
     "text": [
      "Wins: 10, Losses: 0, Ties: 0\n"
     ]
    },
    {
     "name": "stderr",
     "output_type": "stream",
     "text": [
      "\n"
     ]
    }
   ],
   "source": [
    "from tqdm import tqdm\n",
    "\n",
    "\n",
    "def pairwise_eval_batch(reviews, answers_a, answers_b):\n",
    "    a_cnt, b_cnt, draw_cnt = 0, 0, 0\n",
    "    for i in tqdm(range(len(answers_a))):\n",
    "        completion = pairwise_eval(reviews, answers_a[i], answers_b[i])\n",
    "        verdict_text = completion.choices[0].message.content\n",
    "\n",
    "        if '[[A]]' in verdict_text:\n",
    "            a_cnt += 1\n",
    "        elif '[[B]]' in verdict_text:\n",
    "            b_cnt += 1\n",
    "        elif '[[C]]' in verdict_text:\n",
    "            draw_cnt += 1\n",
    "        else:\n",
    "            print('Evaluation Error')\n",
    "\n",
    "    return a_cnt, b_cnt, draw_cnt\n",
    "\n",
    "wins, losses, ties = pairwise_eval_batch(reviews, summaries_baseline, [summary_real_20240526 for _ in range(len(summaries_baseline))])\n",
    "print(f'Wins: {wins}, Losses: {losses}, Ties: {ties}')"
   ]
  },
  {
   "cell_type": "markdown",
   "metadata": {},
   "source": []
  },
  {
   "cell_type": "markdown",
   "metadata": {},
   "source": [
    "### 모델 고도화 1 - 조건들 명시"
   ]
  },
  {
   "cell_type": "code",
   "execution_count": 20,
   "metadata": {},
   "outputs": [
    {
     "name": "stderr",
     "output_type": "stream",
     "text": [
      "100%|██████████| 10/10 [00:32<00:00,  3.27s/it]"
     ]
    },
    {
     "name": "stdout",
     "output_type": "stream",
     "text": [
      "Wins: 10, Losses: 0, Ties: 0\n"
     ]
    },
    {
     "name": "stderr",
     "output_type": "stream",
     "text": [
      "\n"
     ]
    }
   ],
   "source": [
    "prompt = f\"\"\"당신은 요약 전문가입니다. 사용자 숙소 리뷰들이 주어졌을 때 요약하는 것이 당신의 목표입니다.\n",
    "\n",
    "요약 결과는 다음 조건들을 충족해야 합니다:\n",
    "1. 모든 문장은 항상 존댓말로 끝나야 합니다.\n",
    "2. 숙소에 대해 소개하는 톤앤매너로 작성해주세요.\n",
    "  2-1. 좋은 예시\n",
    "    a) 전반적으로 좋은 숙소였고 방음도 괜찮았다는 평입니다.\n",
    "    b) 재방문 예정이라는 평들이 존재합니다.\n",
    "  2-2. 나쁜 예시\n",
    "    a) 좋은 숙소였고 방음도 괜찮았습니다.\n",
    "    b) 재방문 예정입니다.\n",
    "3. 요약 결과는 최소 2문장, 최대 5문장 사이로 작성해주세요.\n",
    "    \n",
    "아래 숙소 리뷰들에 대해 요약해주세요:\"\"\"\n",
    "\n",
    "eval_count = 10\n",
    "summaries = [summarize(reviews, prompt, temperature=1.0).choices[0].message.content for _ in range(eval_count)]\n",
    "wins, losses, ties = pairwise_eval_batch(reviews, summaries, [summary_real_20240526 for _ in range(len(summaries))])\n",
    "print(f'Wins: {wins}, Losses: {losses}, Ties: {ties}')"
   ]
  },
  {
   "cell_type": "markdown",
   "metadata": {},
   "source": [
    "### 모델 고도화 2 - 입력 데이터의 품질 증가"
   ]
  },
  {
   "cell_type": "code",
   "execution_count": 24,
   "metadata": {},
   "outputs": [],
   "source": [
    "import datetime\n",
    "from dateutil import parser\n",
    "\n",
    "def preprocess_reviews(path='./res/reviews.json'):\n",
    "    with open(path, 'r', encoding='utf-8') as f:\n",
    "        review_list = json.load(f)\n",
    "\n",
    "    reviews_good, reviews_bad = [], []\n",
    "\n",
    "    current_date = datetime.datetime.now()\n",
    "    date_boundary = current_date - datetime.timedelta(days=6*30)\n",
    "\n",
    "    filtered_cnt = 0\n",
    "    for r in review_list:\n",
    "        review_date_str = r['date']\n",
    "        try:\n",
    "            review_date = parser.parse(review_date_str)\n",
    "        except (ValueError, TypeError):\n",
    "            review_date = current_date\n",
    "\n",
    "        if review_date < date_boundary:\n",
    "            continue\n",
    "        if len(r['review']) < 30:\n",
    "            filtered_cnt += 1\n",
    "            continue\n",
    "\n",
    "        if r['stars'] == 5:\n",
    "            reviews_good.append('[REVIEW_START]' + r['review'] + '[REVIEW_END]')\n",
    "        else:\n",
    "            reviews_bad.append('[REVIEW_START]' + r['review'] + '[REVIEW_END]')\n",
    "\n",
    "    reviews_good = reviews_good[:min(len(reviews_good), 50)]\n",
    "    reviews_bad = reviews_bad[:min(len(reviews_bad), 50)]\n",
    "\n",
    "    reviews_good_text = '\\n'.join(reviews_good)\n",
    "    reviews_bad_text = '\\n'.join(reviews_bad)\n",
    "\n",
    "    return reviews_good_text, reviews_bad_text\n",
    "\n",
    "reviews, _ = preprocess_reviews()"
   ]
  },
  {
   "cell_type": "code",
   "execution_count": 25,
   "metadata": {},
   "outputs": [
    {
     "name": "stderr",
     "output_type": "stream",
     "text": [
      "100%|██████████| 10/10 [00:51<00:00,  5.19s/it]"
     ]
    },
    {
     "name": "stdout",
     "output_type": "stream",
     "text": [
      "Wins: 3, Losses: 7, Ties: 0\n"
     ]
    },
    {
     "name": "stderr",
     "output_type": "stream",
     "text": [
      "\n"
     ]
    }
   ],
   "source": [
    "eval_count = 10\n",
    "summaries = [summarize(reviews, prompt, temperature=1.0, model='gpt-3.5-turbo-0125').choices[0].message.content for _ in range(eval_count)]\n",
    "wins, losses, ties = pairwise_eval_batch(reviews, summaries, [summary_real_20240526 for _ in range(len(summaries))])\n",
    "print(f'Wins: {wins}, Losses: {losses}, Ties: {ties}')"
   ]
  },
  {
   "cell_type": "markdown",
   "metadata": {},
   "source": [
    "### 모델 고도화 3 - Few-Shot Prompting"
   ]
  },
  {
   "cell_type": "code",
   "execution_count": 34,
   "metadata": {},
   "outputs": [
    {
     "name": "stderr",
     "output_type": "stream",
     "text": [
      "100%|██████████| 10/10 [00:55<00:00,  5.51s/it]"
     ]
    },
    {
     "name": "stdout",
     "output_type": "stream",
     "text": [
      "Wins: 1, Losses: 9, Ties: 0\n"
     ]
    },
    {
     "name": "stderr",
     "output_type": "stream",
     "text": [
      "\n"
     ]
    }
   ],
   "source": [
    "reviews_1shot, _ = preprocess_reviews('./res/ninetree_pangyo.json')\n",
    "summary_1shot = summarize(reviews_1shot, prompt, temperature=0.0, model='gpt-4-turbo-2024-04-09').choices[0].message.content\n",
    "prompt_1shot = f\"\"\"당신은 요약 전문가입니다. 사용자 숙소 리뷰들이 주어졌을 때 요약하는 것이 당신의 목표입니다.\n",
    "\n",
    "요약 결과는 다음 조건들을 충족해야 합니다:\n",
    "1. 모든 문장은 항상 존댓말로 끝나야 합니다.\n",
    "2. 숙소에 대해 소개하는 톤앤매너로 작성해주세요.\n",
    "  2-1. 좋은 예시\n",
    "    a) 전반적으로 좋은 숙소였고 방음도 괜찮았다는 평입니다.\n",
    "    b) 재방문 예정이라는 평들이 존재합니다.\n",
    "  2-2. 나쁜 예시\n",
    "    a) 좋은 숙소였고 방음도 괜찮았습니다.\n",
    "    b) 재방문 예정입니다.\n",
    "3. 요약 결과는 최소 2문장, 최대 5문장 사이로 작성해주세요.\n",
    "\n",
    "다음은 리뷰들과 요약 예시입니다.\n",
    "예시 리뷰들:\n",
    "{reviews_1shot}\n",
    "예시 요약 결과:\n",
    "{summary_1shot}\n",
    "    \n",
    "아래 숙소 리뷰들에 대해 요약해주세요:\"\"\"\n",
    "\n",
    "summaries = [summarize(reviews, prompt, temperature=1.0, model='gpt-3.5-turbo-0125').choices[0].message.content for _ in range(eval_count)]\n",
    "wins, losses, ties = pairwise_eval_batch(reviews, summaries, [summary_real_20240526 for _ in range(len(summaries))])\n",
    "print(f'Wins: {wins}, Losses: {losses}, Ties: {ties}')"
   ]
  },
  {
   "cell_type": "code",
   "execution_count": 35,
   "metadata": {},
   "outputs": [
    {
     "data": {
      "text/plain": [
       "['이 숙소는 전반적으로 깔끔하고 아늑한 분위기를 가졌으며 친절한 직원들이 있어서 좋았습니다. 또한 위치가 편리하고 주변에 편의시설이 많아서 재밌게 머물렀습니다. 다만 욕실 청결상태가 조금 아쉬웠지만 전체적으로 만족스러운 숙박이었습니다. 또한 다음에도 방문을 고려하며 싶은 숙소였습니다. 감사합니다.',\n",
       " '1. 이번 여행에서 머물렀던 숙소는 전반적으로 깔끔하고 아늑한 분위기를 느낄 수 있었습니다.\\n2. 직원들의 친절한 응대와 청결한 시설로 편안한 휴식을 취할 수 있어서 좋았습니다.\\n3. 바다를 바라볼 수 있는 객실에서의 풍경은 정말 멋있었고, 재방문하고 싶은 숙소였습니다.',\n",
       " '숙소는 전반적으로 깔끔하고 편안한 분위기를 느낄 수 있었으며, 친절한 스태프들이 만족스러운 서비스를 제공했습니다. 특히, 맛있는 조식과 편리한 위치가 좋았습니다. 다음에 또 방문할 의향이 있습니다.',\n",
       " '1. 객실이 깔끔하고 직원들의 친절함이 눈에 띄었습니다.\\n2. 위치가 시내 중심가에 가까워 편리했고 주변에 맛집들도 많았습니다.\\n3. 아침 식사가 풍성하고 맛있어서 여행 일정을 시작하는 데 좋았습니다.\\n4. 다음에 또 방문하고 싶은 호텔이었습니다.',\n",
       " '1. 숙소는 깨끗하고 아늑한 분위기가 좋았습니다. 직원들도 친절했고 위치도 편리했습니다.\\n2. 침대가 푹신해서 편안하게 잠을 청했고, 조식 메뉴도 다양하고 맛있었습니다.\\n3. 전체적으로 만족스러운 숙박이었고, 재방문 의사가 있습니다. 감사합니다.',\n",
       " '이 숙소는 깔끔하고 시설이 잘 갖춰져 있어서 편안한 숙박을 할 수 있었습니다. 직원들의 친절함과 서비스도 만족스러웠고, 위치도 편리해서 다시 방문하고 싶은 마음이 들었습니다. 전체적으로 좋은 체험이었고, 추천할 만한 숙소입니다.',\n",
       " '숙소는 전반적으로 청결하고 아늑한 분위기를 가지고 있었습니다. 직원들도 친절하여 편안한 숙박을 할 수 있었습니다. 또한 위치가 편리하여 주변 관광지에 접근하기에 좋은 장점이 있었습니다. 다음에 또 방문하고 싶은 숙소였습니다. 강력 추천합니다.',\n",
       " '1. 전반적으로 깨끗하고 아늑한 분위기의 숙소였습니다.\\n2. 친절한 직원들과 편안한 침대가 좋았고, 조식도 맛있었습니다.\\n3. 위치도 편리하고 가격 대비 만족스러운 숙박이었습니다.\\n4. 다음에 또 방문하고 싶은 좋은 숙소였습니다.',\n",
       " '1. 이번 여행에서 묵은 숙소는 깔끔하고 조용한 분위기가 좋았습니다.\\n2. 시설이 잘 유지되어 있고 친절한 스태프 분들 덕분에 편안한 여행을 즐길 수 있었습니다.\\n3. 다음에 다시 방문하고 싶은 마음이 드는 좋은 숙소였습니다.\\n4. 위치도 편리하고 가격 대비 만족스러웠던 만큼 추천할 만한 곳이었습니다.',\n",
       " '1. 뷰가 너무 아름답고 편안한 분위기의 인테리어로 인상깊었습니다.\\n2. 한적한 곳에 위치해서 조용했고 휴식을 취하기에 이상적이었습니다.\\n3. 친절한 스텝분들과 서비스가 훌륭해서 다음에 또 오고 싶은 마음이 들었습니다.']"
      ]
     },
     "execution_count": 35,
     "metadata": {},
     "output_type": "execute_result"
    }
   ],
   "source": [
    "summaries"
   ]
  },
  {
   "cell_type": "code",
   "execution_count": 47,
   "metadata": {},
   "outputs": [
    {
     "name": "stderr",
     "output_type": "stream",
     "text": [
      "100%|██████████| 10/10 [01:08<00:00,  6.83s/it]"
     ]
    },
    {
     "name": "stdout",
     "output_type": "stream",
     "text": [
      "Wins: 9, Losses: 1, Ties: 0\n"
     ]
    },
    {
     "name": "stderr",
     "output_type": "stream",
     "text": [
      "\n"
     ]
    }
   ],
   "source": [
    "prompt_1shot = f\"\"\"당신은 요약 전문가입니다. 사용자 숙소 리뷰들이 주어졌을 때 요약하는 것이 당신의 목표입니다. 다음은 리뷰들과 요약 예시입니다.\n",
    "예시 리뷰들:\n",
    "{reviews_1shot}\n",
    "예시 요약 결과:\n",
    "{summary_1shot}\n",
    "    \n",
    "아래 숙소 리뷰들에 대해 요약해주세요:\"\"\"\n",
    "\n",
    "summaries = [summarize(reviews, prompt_1shot, temperature=1.0, model='gpt-3.5-turbo-0125').choices[0].message.content for _ in range(eval_count)]\n",
    "wins, losses, ties = pairwise_eval_batch(reviews, summaries, [summary_real_20240526 for _ in range(len(summaries))])\n",
    "print(f'Wins: {wins}, Losses: {losses}, Ties: {ties}')"
   ]
  },
  {
   "cell_type": "code",
   "execution_count": 37,
   "metadata": {},
   "outputs": [
    {
     "data": {
      "text/plain": [
       "['1. \"가족과 함께한 일정에서 어느 것 하나 빠짐없이 잘 즐기고 왔습니다!! 밤 늦은 시간에는 좀 한적하긴 하지만 차라리 조용해서 숙박하는데 더 좋았어요\"\\n2. \"평일 6시쯤 수영했는데 사람 거의 없어서 정말 좋았어요! 방도 깨끗하고 가성비 좋아요. 베개는 좀 높아서 불편했네요. 그래도 소음이나 냄새 문제는 하나도 없었어요\"\\n3. \"방음이 잘 안되는 것만 빼면 청결도 친절도 위치 부대시설 모두 만족스럽습니다!\"\\n4. \"생일날 여자친구 퇴근이 늦어져 회사 인근에서 머물렀는데 서비스도 좋고 시설도 상당히 만족스러웠습니다. 다음에 또 오게 된다면 재방문 의향 있습니다!\"\\n5. \"깔끔하고 맘에 듭니다! 주차장도 넓어요~ 다음에 또 오고싶네요\"\\n6. \"수영도하고 숙박도하니 가성비 매우좋네요 상가에서 먹고 거북이까페가고 하느라 돈 더많이 쓰긴 했지만 이불 포근하고 깨끗하고 좋았어요~~\"\\n7. \"포근하고 깨끗하고 쾌적했습니다! 지내다가 좋아서 계속 추가 연박했네요 ㅋㅋ 재방문의사 100%!!\"\\n8. \"객실 깨끗하고 수영장도 좁지만 좋아용 사우나도 있고 잘 놀다 왔어용~~\"\\n9. \"정말 좋은 호텔입니다. 이용때마다 느끼지만 직원분들도 친절하시고 방도 깨끗합니다.\"\\n10. \"주변이 9시만 지나도 다 닫지만 객실은 너무 좋아서 휴식하기 좋아요\"\\n\\n요약:\\n이 숙소는 청결하고 친절한 서비스를 제공하며, 수영장 시설이 만족스러우며 가성비가 좋다는 평가를 받고 있습니다. 주변에는 편리한 시설들이 잘 갖춰져 있어 손님들의 만족도가 높은 편입니다. 다만 일부 이용객은 방음이나 베개의 높이 등 몇 가지 불편한 점을 언급했습니다. 전반적으로 다양한 이용객들이 재방문 의사를 표명하며, 가족 단위의 방문객들에게 특히 추천되는 숙소로 손꼽히고 있습니다.',\n",
       " '1. \"가족과 함께한 일정에서 어느것 하나 빠짐없이 잘 즐기고 왔습니다!! 밤 늦은 시간에는 좀 한적하긴 하지만 차라리 조용해서 숙박하는데 더 좋았어요\"\\n- 가족이 함께하는 여행을 즐기기에 좋은 조용한 숙박 시설\\n\\n2. \"평일 6시쯤 수영했는데 사람 거의 없어서 정말 좋았어요! 방도 깨끗하고 가성비 좋아요. 베개는 좀 높아서 불편했네요. 그래도 소음이나 냄새 문제는 하나도 없었어요~~\"\\n- 조용한 환경에서 수영을 즐길 수 있는 깨끗하고 가격 대비 좋은 시설\\n\\n3. \"방음이 잘 안되는 것만 빼면 청결도 친절도 위치 부대시설 모두 만족스럽습니다!\"\\n- 방음이 조금 아쉽지만 전체적으로 만족스러운 청결하고 친절한 시설\\n\\n4. \"생일날 여자친구 퇴근이 늦어져 회사 인근에서 머물렀는데 서비스도 좋고 시설도 상당히 만족스러웠습니다. 다음에 또 오게 된다면 재방문 의향 있습니다!\"\\n- 생일을 즐기기에 적합한 서비스와 만족스러운 시설\\n\\n5. \"깔끔하고 맘에 듭니다! 주차장도 넓어요~ 다음에 또 오고싶네요\"\\n- 깔끔하고 넓은 주차장이 갖추어진 만족스러운 숙박 시설\\n\\n6. \"수영도하고 숙박도하니 가성비 매우좋네요 상가에서 먹고 거북이까페가고 하느라 돈 더많이 쓰긴 했지만 이불 포근하고 깨끗하고 좋았어요~~\"\\n- 가성비 좋은 시설에서 수영과 숙박을 즐길 수 있어 만족스러운 경험\\n\\n7. \"포근하고 깨끗하고 쾌적했습니다! 지내다가 좋아서 계속 추가 연박했네요 ㅋㅋ 재방문의사 100%!!\"\\n- 포근하고 깨끗한 환경에서 편안한 숙박을 즐길 수 있는 만족스러운 시설\\n\\n8. \"객실 깨끗하고 수영장도 좁지만 좋아용 사우나도 있고 잘 놀다 왔어용~~\"\\n- 깨끗한 객실과 사우나 등 부대시설이 갖추어진 즐거운 숙박 시설',\n",
       " '1. \"청결도 친절도 위치 부대시설 모두 만족스럽습니다!\" - 전반적으로 청결하고 친절한 서비스로 만족스러운 숙박 경험을 한다.\\n2. \"깨끗하고 맘에 듭니다! 주차장도 넓어요~\" - 깨끗하고 주차장이 넓어 편리한 숙박 시설이다.\\n3. \"수영장은 밤에 가지 마세요.. ㅋㅋ\" - 밤에 수영장은 사람이 많아서 혼잡하고 야경 사진이 좋지 않다는 주의를 준다.\\n4. \"객실이 깨끗하고 인근에 식사 장소가 잘 되어있습니다~잘 쉬고 갑니다 :)\" - 깨끗한 객실과 주변에 다양한 식사 장소가 위치하여 편안한 휴식을 즐길 수 있다.\\n5. \"파미어스 몰이 있어서 즐길거리가 많아 좋았어요!\" - 파미어스 몰이 인접하여 다양한 즐길거리가 있어 편리한 위치에 있는 숙박 시설이다.',\n",
       " '1. \"가족과 함께한 일정에서 어느것 하나 빠짐없이 잘 즐기고 왔습니다!! 밤 늦은 시간에는 좀 한적하긴 하지만 차라리 조용해서 숙박하는데 더 좋았어요\"\\n2. \"평일 6시쯤 수영했는데 사람 거의 없어서 정말 좋았어요! 방도 깨끗하고 가성비 좋아요. 베개는 좀 높아서 불편했네요. 그래도 소음이나 냄새 문제는 하나도 없었어요~~\"\\n3. \"방음이 잘 안되는 것만 빼면 청결도 친절도 위치 부대시설 모두 만족스럽습니다!\"\\n4. \"생일날 여자친구 퇴근이 늦어져 회사 인근에서 머물렀는데 서비스도 좋고 시설도 상당히 만족스러웠습니다. 다음에 또 오게 된다면 재방문 의향 있습니다!\"\\n5. \"깔끔하고 맘에 듭니다! 주차장도 넓어요~ 다음에 또 오고싶네요\"\\n\\n요약: 가족과 함께한 일정을 즐겁게 보내고, 조용한 환경에서 편안한 숙박을 즐길 수 있는 숙소로서 청결하고 친절한 서비스와 편리한 위치, 넓은 주차장이 좋은 평가를 받고 있습니다. 다만 일부 이용객은 방음이 불만족스럽다는 의견을 밝혔습니다.',\n",
       " '1. \"가족과 함께한 일정에서 어느것 하나 빠짐없이 잘 즐기고 왔습니다!! 밤 늦은 시간에는 좀 한적하긴 하지만 차라리 조용해서 숙박하는데 더 좋았어요\" - 가족과 함께 즐거운 시간 보낼 수 있는 조용한 숙소\\n2. \"평일 6시쯤 수영했는데 사람 거의 없어서 정말 좋았어요! 방도 깨끗하고 가성비 좋아요. 베개는 좀 높아서 불편했네요. 소음이나 냄새 문제는 없었어요\" - 수영을 즐기기 좋고 깨끗한 객실, 가격 대비 만족스러운 숙소\\n3. \"방음이 잘 안되는 것만 빼면 청결도 친절도 위치 부대시설 모두 만족스럽습니다!\" - 방음이 조금 아쉽지만 청결하고 친절한 서비스로 만족하는 숙소\\n4. \"생일날 여자친구 퇴근이 늦어져 회사 인근에서 머물렀는데 서비스도 좋고 시설도 만족스러웠습니다. 재방문 의향 있습니다!\" - 생일을 즐기기 좋은 서비스와 시설이 제공되는 숙소\\n5. \"깔끔하고 맘에 듭니다! 주차장도 넓어요~ 다음에 또 오고싶네요\" - 청결하고 편리한 주차장이 있는 만족스러운 숙소\\n6. \"수영도하고 숙박도하니 가성비 매우좋네요. 이불 포근하고 깨끗하고 좋았어요\" - 수영과 숙박을 즐기기 좋고 가성비 좋은 숙소\\n7. \"포근하고 깨끗하고 쾌적했습니다! 재방문의사 100%!\" - 포근하고 깨끗한 객실로 재방문 의사가 높은 숙소\\n8. \"객실 깨끗하고 수영장도 좁지만 좋아용. 사우나도 있고 잘 놀다 왔어용\" - 깨끗한 객실과 수영장, 사우나가 있는 만족스러운 숙소\\n9. \"정말 좋은 호텔입니다. 직원분들도 친절하시고 방도 깨끗합니다\" - 친절한 직원과 깨끗한 객실이 인상적인 호텔\\n10. \"주변이 9시만 지나도 다 닫지만 객실은 너무 좋아서 휴식하기 좋아요\" - 근처 편의시설이 부족하지만 휴식하기 좋은 객실이 있는 숙소',\n",
       " '1. \"가족과 함께한 일정에서 어느 것 하나 빠짐없이 잘 즐기고 왔습니다!! 밤 늦은 시간에는 좀 한적하긴 하지만 차라리 조용해서 숙박하는데 더 좋았어요\"\\n\\n=> 가족 단위로 방문하여 모든 것을 만족하며 숙박하였다. 조용한 환경이 마음에 들었다.\\n\\n2. \"평일 6시쯤 수영했는데 사람 거의 없어서 정말 좋았어요! 방도 깨끗하고 가성비 좋아요. 베개는 좀 높아서 불편했네요. 그래도 소음이나 냄새 문제는 하나도 없었어요~~\"\\n\\n=> 수영 시간대에는 사람이 적어서 좋았고, 방은 깨끗하며 가격 대비 만족도가 높았다. 다만 베개가 높아서 불편한 점이 있었지만, 소음이나 냄새 문제는 없었다.\\n\\n3. \"방음이 잘 안되는 것만 빼면 청결도 친절도 위치 부대시설 모두 만족스럽습니다!\"\\n\\n=> 청결도, 친절도, 위치, 부대시설 등 모든면에서 만족스러운 숙소이지만, 방음이 잘 안된다는 점이 아쉽다.\\n\\n4. \"생일날 여자친구 퇴근이 늦어져 회사 인근에서 머물렀는데 서비스도 좋고 시설도 상당히 만족스러웠습니다. 다음에 또 오게 된다면 재방문 의향 있습니다!\"\\n\\n=> 생일날 여자친구와 머물렀는데 서비스와 시설 모두 매우 만족스러웠고, 재방문 의향이 있다고 언급하였다. \\n\\n5. \"깔끔하고 맘에 듭니다! 주차장도 넓어요~ 다음에 또 오고싶네요\"\\n\\n=> 깔끔하고 만족스러운 숙소로, 넓은 주차장과 함께 다시 방문하고 싶다는 뜻을 표현하고 있다.',\n",
       " '1. \"가족과 함께한 일정에서 어느것 하나 빠짐없이 잘 즐기고 왔습니다!! 밤 늦은 시간에는 좀 한적하긴 하지만 차라리 조용해서 숙박하는데 더 좋았어요\"\\n2. \"평일 6시쯤 수영했는데 사람 거의 없어서 정말 좋았어요! 방도 깨끗하고 가성비 좋아요. 베개는 좀 높아서 불편했네요. 그래도 소음이나 냄새 문제는 하나도 없었어요~~\"\\n3. \"방음이 잘 안되는 것만 빼면 청결도 친절도 위치 부대시설 모두 만족스럽습니다!\"\\n4. \"생일날 여자친구 퇴근이 늦어져 회사 인근에서 머물렀는데 서비스도 좋고 시설도 상당히 만족스러웠습니다. 다음에 또 오게 된다면 재방문 의향 있습니다!\"\\n5. \"깔끔하고 맘에 듭니다! 주차장도 넓어요~ 다음에 또 오고싶네요\"\\n\\n요약:\\n이 숙소는 고객들에게 청결하고 만족스러운 서비스를 제공하며, 가성비도 좋은 평가를 받고 있습니다. 몇몇 고객은 방음이 조금 부족하다는 점을 언급했지만, 전체적으로 위치, 시설, 서비스에 대한 만족도가 높은 것으로 보입니다. 주변에는 편리한 시설이 잘 구비되어 있어 다시 방문하고 싶은 곳으로 손꼽히고 있습니다.',\n",
       " '1. 가족과 함께 즐겁게 보낼 수 있는 숙소. 조용한 환경이 좋았다.\\n2. 깨끗하고 가성비 좋은 숙소. 베개가 높아서 조금 불편한 점 있었음.\\n3. 청결도와 친절도 모두 만족스러움. 방음이 조금 아쉬운 점.\\n4. 서비스와 시설 모두 만족스러웠고 재방문 의사 있음.\\n5. 깔끔하고 주차장이 넓은 좋은 숙소.\\n6. 가성비 매우 좋고 깨끗한 숙소.\\n7. 포근하고 깨끗한 숙소. 추가 연박하고 싶은 만큼 만족.\\n8. 객실 깨끗하고 수영장도 만족스러움.\\n9. 직원 친절하고 객실 깨끗함.\\n10. 조용한 환경에서 휴식하기 좋은 숙소.',\n",
       " '1. \"가족과 함께한 일정에서 어느것 하나 빠짐없이 잘 즐기고 왔습니다!! 밤 늦은 시간에는 좀 한적하긴 하지만 차라리 조용해서 숙박하는데 더 좋았어요\"\\n2. \"평일 6시쯤 수영했는데 사람 거의 없어서 정말 좋았어요! 방도 깨끗하고 가성비 좋아요. 베개는 좀 높아서 불편했네요. 그래도 소음이나 냄새 문제는 하나도 없었어요~~\"\\n3. \"방음이 잘 안되는 것만 빼면 청결도 친절도 위치 부대시설 모두 만족스럽습니다!\"\\n\\n요약: 이 숙소는 전반적으로 청결하고 친절한 서비스와 좋은 부대시설을 제공하며, 위치도 만족스럽다는 평가를 받고 있습니다. 다만, 일부 이용객들은 방음이 좋지 않은 점을 언급했습니다.',\n",
       " '1. 가족과 함께한 일정을 즐기기 좋았고 한적한 분위기가 좋았다.\\n2. 수영 시간에는 사람이 적어서 좋았지만 베개가 높아서 불편했다.\\n3. 방음이 잘 되지 않지만 청결도와 부대시설 등이 만족스러웠다.\\n4. 생일을 축하하러 간 여자친구와 함께 편안한 시설과 서비스로 만족했다.\\n5. 주차장이 넓고 깔끔하고 맘에 드는 숙소였다.\\n6. 가성비가 좋고 이불이 포근하고 깨끗해서 좋았으나 추가 비용이 생겼다.\\n7. 포근하고 깨끗한 객실과 연박 가능하여 만족하고 계속 머물렀다.\\n8. 깨끗한 객실과 수영장을 즐기며 편안한 시간을 보냈다.\\n9. 좋은 호텔이며 직원들도 친절하고 방도 깨끗했다.\\n10. 주변이 조용하고 숙소는 쾌적해서 휴식하기 좋았다.']"
      ]
     },
     "execution_count": 37,
     "metadata": {},
     "output_type": "execute_result"
    }
   ],
   "source": [
    "summaries"
   ]
  },
  {
   "cell_type": "code",
   "execution_count": 38,
   "metadata": {},
   "outputs": [],
   "source": [
    "reviews_1shot, _ = preprocess_reviews('./res/ninetree_pangyo.json')\n",
    "summary_1shot = summarize(reviews_1shot, prompt, temperature=0.0, model='gpt-4-turbo-2024-04-09').choices[0].message.content"
   ]
  },
  {
   "cell_type": "code",
   "execution_count": 43,
   "metadata": {},
   "outputs": [
    {
     "name": "stderr",
     "output_type": "stream",
     "text": [
      "100%|██████████| 10/10 [00:34<00:00,  3.45s/it]"
     ]
    },
    {
     "name": "stdout",
     "output_type": "stream",
     "text": [
      "Wins: 10, Losses: 0, Ties: 0\n"
     ]
    },
    {
     "name": "stderr",
     "output_type": "stream",
     "text": [
      "\n"
     ]
    }
   ],
   "source": [
    "reviews_2shot, _ = preprocess_reviews('./res/ninetree_yongsan.json')\n",
    "summary_2shot = summarize(reviews_2shot, prompt_1shot, temperature=0.0, model='gpt-4-turbo-2024-04-09').choices[0].message.content\n",
    "\n",
    "prompt_2shot = f\"\"\"당신은 요약 전문가입니다. 사용자 숙소 리뷰들이 주어졌을 때 요약하는 것이 당신의 목표입니다. 다음은 리뷰들과 요약 예시입니다.\n",
    "\n",
    "예시 리뷰들 1:\n",
    "{reviews_1shot}\n",
    "예시 요약 결과 1:\n",
    "{summary_1shot}\n",
    "\n",
    "예시 리뷰들 2:\n",
    "{reviews_2shot}\n",
    "예시 요약 결과 2:\n",
    "{summary_2shot}\n",
    "    \n",
    "아래 숙소 리뷰들에 대해 요약해주세요:\"\"\"\n",
    "\n",
    "summaries = [summarize(reviews, prompt_2shot, temperature=1.0, model='gpt-3.5-turbo-0125').choices[0].message.content for _ in range(eval_count)]\n",
    "wins, losses, ties = pairwise_eval_batch(reviews, summaries, [summary_real_20240526 for _ in range(len(summaries))])\n",
    "print(f'Wins: {wins}, Losses: {losses}, Ties: {ties}')"
   ]
  },
  {
   "cell_type": "code",
   "execution_count": 46,
   "metadata": {},
   "outputs": [
    {
     "data": {
      "text/plain": [
       "['청결하고 쾌적한 환경을 제공하는 이 숙소는 직원들의 친절함과 서비스 품질이 높게 평가되고 있습니다. 객실의 깨끗함과 넓은 공간, 조식의 맛과 다양성, 그리고 수영장 시설이 인기를 끌고 있습니다. 또한 용산역과 인접해 교통이 편리하고 주변에 쇼핑 및 식당이 많아 편리하다는 점도 좋은 평가를 받고 있습니다. 일부 이용객은 주차 비용이 별도로 청구되거나 엘리베이터 대기 시간이 길다는 점을 지적했으나, 전반적으로 만족도가 높아 재방문 의사를 표현하는 리뷰들이 많이 있습니다.',\n",
       " '1. 숙소는 가족과 함께한 여행에 적합하며, 수영장 시설이 좋다는 평가와 청결한 객실이 인상적이었다.\\n2. 조식의 맛과 객실 내부의 청결함이 만족스러웠고, 직원의 친절한 응대가 언급되었다.\\n3. 호캉스로 이용하기에 좋은 숙소로 평가되었으며, 수영장에 대한 긍정적인 평가가 많이 나왔다.\\n4. 위치가 용산역과 가깝고, 주변에 맛집과 놀거리가 많아서 편리하다는 의견이 많았다.\\n5. 객실의 깨끗함과 침구의 편안함이 언급되었으며, 다시 방문하고 싶다는 의사를 표현하는 리뷰가 많았다.',\n",
       " '1. 가족과 함께 머무르기 좋은 숙소로 호평받고 있으며, 수영장 시설이 만족스럽다는 평가가 많이 나옵니다.\\n2. 객실과 침구의 청결도가 높게 평가되고 있으며, 프런트 직원의 친절함도 언급되고 있습니다.\\n3. 주변 환경이 조용하고 위치가 편리하다는 의견이 많으며, 숙소 내의 편의시설과 서비스도 만족스러운 것으로 보입니다.\\n4. 조식의 맛과 다양성, 수영장 시설, 편의시설 등이 고객들에게 긍정적인 인상을 준 것으로 파악됩니다.',\n",
       " '1. \"가족과 함께한 일정에서 어느 것 하나 빠짐없이 잘 즐기고 왔습니다!! 밤 늦은 시간에는 좀 한적하긴 하지만 차라리 조용해서 숙박하는데 더 좋았어요\"\\n2. \"평일 6시쯤 수영했는데 사람 거의 없어서 정말 좋았어요! 방도 깨끗하고 가성비 좋아요. 베개는 좀 높아서 불편했네요. 그래도 소음이나 냄새 문제는 하나도 없었어요\"\\n3. \"방음이 잘 안되는 것만 빼면 청결도 친절도 위치 부대시설 모두 만족스럽습니다!\"\\n4. \"생일날 여자친구 퇴근이 늦어져 회사 인근에서 머물렀는데 서비스도 좋고 시설도 상당히 만족스러웠습니다. 다음에 또 오게 된다면 재방문 의향 있습니다!\"\\n5. \"깔끔하고 맘에 듭니다! 주차장도 넓어요~ 다음에 또 오고싶네요\"\\n6. \"수영도하고 숙박도하니 가성비 매우 좋네요 상가에서 먹고 거북이까페가고 하느라 돈 더 많이 쓰긴 했지만 이불 포근하고 깨끗하고 좋았어요\"\\n7. \"포근하고 깨끗하고 쾌적했습니다! 지내다가 좋아서 계속 추가 연박했네요 ㅋㅋ 재방문 의사 100%!\"\\n8. \"객실 깨끗하고 수영장도 좁지만 좋아용 사우나도 있고 잘 놀다 왔어용~~\"\\n9. \"정말 좋은 호텔입니다. 이용때마다 느끼지만 직원분들도 친절하시고 방도 깨끗합니다.\"\\n10. \"주변이 9시만 지나도 다 닫지만 객실은 너무 좋아서 휴식하기 좋아요\"\\n11. \"깔끔한 시설과 안락한 침구! 그리고 실내 수영장까지! 다 만족합니다!\"\\n12. \"객실이 깨끗하고 인근에 식사 장소가 잘 되어 있습니다~잘 쉬고 갑니다 :)\"\\n13. \"방 깨끗하고 객실간 엘레베이터 이용도 분주하지도 않고 수영장 사용하는데 넓고 인원 제한이 있어 혼란스럽지 않아 즐겁게 이용했고 침대도 편해서 좋아요\"\\n14. \"편의시설이 정말 훌륭합니다. 아이 친화시설이 호텔 및 주변에 전반적으로 매우 많고 수영장 메인도 아이와 함께하는 가족 수영장입니다. 수영장과 디노소어룸은 아이가 매우 좋아했습니다.\"\\n15. \"요번엔 나인트리 판교를 방문해봤는데, 여기 정말 가성비랑 친절도 대비 훌륭하네요! 일단 판교 파미어스몰에 위치하여 있는데, 사실 파미어스 몰이라고 해서 옷가게나 이런 거를 생각하고 갔는데 맛있는 밥집이 대부분이더라구요! 그래도 맛집, 스타벅스, 여러 디자인 상품들, 영화관까지 있을 건 다 있어서 즐길거리가 일단 많았어요!\"\\n\\n요약:\\n숙소는 청결하고 친절한 서비스를 제공하며, 수영장 시설이 인기를 끌고 있습니다. 객실 깨끗함과 편안한 침구가 인상적이며, 주변에 식사 장소가 풍부하고 편리합니다. 일부 투숙객은 방음이 아쉽다고 언급하였지만, 전반적으로 이 숙소는 만족도가 높아 재방문 의사가 높은 것으로 보입니다.',\n",
       " '1. 숙소는 가족과 함께하기에 적합하며 수영장 시설이 매우 만족스럽다는 평가를 받고 있습니다. 일부 이용객은 방음이 아쉽다고 언급했습니다.\\n2. 다른 이용객들은 객실이 깨끗하고 침구가 편안하며, 주변의 편의시설과 위치에 대해 긍정적인 의견을 제시했습니다.\\n3. 이용객들은 호텔의 위치가 편리하고 조식이 맛있으며 직원의 친절함을 칭찬했습니다.\\n4. 몰과의 연결성, 교통 편의성, 청결한 객실, 훌륭한 서비스, 및 수영장 시설 등 다양한 측면에서 만족을 표현하는 이용객들이 많았습니다.밤 늦은 시간의 조용함과 주변 편의시설에 대한 긍정적인 평가도 있습니다. 경우에 따라 방음이 아쉽다는 의견도 있습니다.',\n",
       " '1. 청결하고 조용한 숙소로 가족 여행에 적합\\n2. 좋은 위치와 친절한 직원, 맛있는 조식으로 만족\\n3. 넓고 깨끗한 객실, 수영장 이용이 즐거움\\n4. 교통이 편리하고 호캉스에 적합한 호텔로 만족\\n5. 고층 룸에서의 뷰와 편리한 시설로 만족\\n6. 주변 시설과 먹거리 풍부하며 객실 청결도 좋음\\n7. 위치가 좋아서 편리하고 친구와 함께 하기 좋은 숙소\\n8. 쾌적한 객실과 훌륭한 서비스로 즐거운 여행 경험\\n9. 조식과 편의시설에 대한 만족도 높음\\n10. 침구의 편안함과 직원들의 친절함으로 편안한 휴식 제공\\n11. 깨끗하고 시원한 느낌의 숙소로 만족\\n12. 용산역 인접한 호텔로 교통이 편리하고 놀이거리 많음\\n13. 침구의 퀄리티와 깨끗한 객실로 푹 쉴 수 있는 공간\\n14. 친절한 직원과 교통이 편리한 위치로 만족스러운 숙박 경험\\n15. 조식의 맛과 다양성, 청결한 객실로 만족도 높음',\n",
       " '요약 결과:\\n이 숙소는 가족 및 친구 모임에 적합한 청결한 숙소로, 다양하고 맛있는 조식, 친절한 직원, 쾌적한 수영장, 편리한 위치 등이 긍정적으로 언급되고 있습니다. 다만 주차 비용이 별도로 청구되거나 엘리베이터 대기 시간이 길다는 점을 지적하는 의견도 있습니다. 전반적으로 이 숙소에 대한 만족도가 높아 재방문 의사가 높은 것으로 보입니다.',\n",
       " '1. 가족이 함께하기 좋은 숙소로 소음은 조금 아쉬운 점이지만 청결도, 친절도, 위치, 부대시설 등이 만족스러움\\n2. 시설이 깨끗하고 수영장이 좋아 가성비가 좋은 숙소로 조식도 맛있고 다음에 또 방문 의사 있음\\n3. 침구와 객실이 깨끗하고 직원들도 친절하며 객실이 넓어서 편안한 숙박 경험\\n4. 호캉스에 적합한 숙소로 수영장이 재밌고 조식이 맛있어서 만족함\\n5. 위치가 용산역과 가까워 편리하며 객실이 깨끗하고 쾌적하며 편의시설이 좋아서 만족함',\n",
       " '1. 가족이 함께하기에 좋은 숙박 시설이며, 수영장이 깨끗하고 만족스러움을 준다.\\n2. 조식이 맛있고 객실이 깨끗하며 침구도 편안하다는 호평을 받았다.\\n3. 위치가 용산역 인근에 위치하여 교통이 편리하고 주변에 놀거리가 많아서 좋은 평가를 받았다.\\n4. 직원의 응대가 친절하고 서비스가 우수하며, 수영장 시설도 좋아서 재방문 의사가 높다는 의견을 많이 받았다.',\n",
       " '숙소는 청결하고 쾌적한 환경을 제공하며, 직원들의 친절함과 서비스 품질에 대한 양호한 평가를 받고 있습니다. 수영장 시설과 조식의 맛에 대한 양호한 평가가 도드라지며, 객실의 깨끗함과 편안함이 돋보입니다. 주변에 쇼핑 및 식당이 다수 위치하고 있어 편리한 위치도 매력적으로 언급되고 있습니다. 주차비용이 별도로 청구된다거나 엘리베이터 대기 시간이 길다는 조금의 불편이 지적되었습니다. 종합적으로 이용객들은 해당 숙소에 대해 매우 만족하며 재방문 의사를 표명하고 있습니다.']"
      ]
     },
     "execution_count": 46,
     "metadata": {},
     "output_type": "execute_result"
    }
   ],
   "source": [
    "summaries"
   ]
  },
  {
   "cell_type": "code",
   "execution_count": null,
   "metadata": {},
   "outputs": [],
   "source": []
  }
 ],
 "metadata": {
  "kernelspec": {
   "display_name": "Python 3",
   "language": "python",
   "name": "python3"
  },
  "language_info": {
   "codemirror_mode": {
    "name": "ipython",
    "version": 3
   },
   "file_extension": ".py",
   "mimetype": "text/x-python",
   "name": "python",
   "nbconvert_exporter": "python",
   "pygments_lexer": "ipython3",
   "version": "3.12.11"
  }
 },
 "nbformat": 4,
 "nbformat_minor": 2
}
