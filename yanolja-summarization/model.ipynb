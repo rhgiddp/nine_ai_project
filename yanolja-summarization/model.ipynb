{
 "cells": [
  {
   "cell_type": "code",
   "execution_count": 1,
   "metadata": {},
   "outputs": [
    {
     "name": "stdout",
     "output_type": "stream",
     "text": [
      "Hello! How can I assist you today?\n"
     ]
    }
   ],
   "source": [
    "from utils import get_openai_client\n",
    "\n",
    "# OpenAI 클라이언트 생성 (env.txt에서 API 키 자동 로드)\n",
    "client = get_openai_client()\n",
    "\n",
    "# API 연결 테스트\n",
    "completion = client.chat.completions.create(\n",
    "    model='gpt-3.5-turbo-0125',\n",
    "    messages=[{'role': 'user', 'content': 'hi'}],\n",
    "    temperature=0.0\n",
    ")\n",
    "\n",
    "print(completion.choices[0].message.content)"
   ]
  },
  {
   "cell_type": "markdown",
   "metadata": {},
   "source": [
    "### 데이터 전처리 함수 작성\n"
   ]
  },
  {
   "cell_type": "markdown",
   "metadata": {},
   "source": [
    "리뷰 JSON 파일 로드"
   ]
  },
  {
   "cell_type": "code",
   "execution_count": 2,
   "metadata": {},
   "outputs": [
    {
     "data": {
      "text/plain": [
       "[{'review': '깨끗하고 너무 좋았어요', 'stars': 5, 'date': '22시간 전'},\n",
       " {'review': '위치도 아주좋고 숙소도 깨끗하고 좋아요~', 'stars': 5, 'date': '2일 전'},\n",
       " {'review': '잘쉬고놀다갑니다  감사', 'stars': 5, 'date': '6일 전'}]"
      ]
     },
     "execution_count": 2,
     "metadata": {},
     "output_type": "execute_result"
    }
   ],
   "source": [
    "import json\n",
    "\n",
    "with open('./res/reviews.json', 'r', encoding='utf-8') as f:\n",
    "    review_list = json.load(f)\n",
    "\n",
    "review_list[:3]"
   ]
  },
  {
   "cell_type": "markdown",
   "metadata": {},
   "source": [
    "좋은 평점 및 나쁜 평점 정의\n",
    "- 좋은 평점 = 별 5개\n",
    "- 나쁜 평점 = 별 4개 이하"
   ]
  },
  {
   "cell_type": "code",
   "execution_count": 3,
   "metadata": {},
   "outputs": [
    {
     "data": {
      "text/plain": [
       "(177, 43)"
      ]
     },
     "execution_count": 3,
     "metadata": {},
     "output_type": "execute_result"
    }
   ],
   "source": [
    "good_cnt, bad_cnt = 0, 0\n",
    "for r in review_list:\n",
    "    if r['stars'] == 5:\n",
    "        good_cnt += 1\n",
    "    else:\n",
    "        bad_cnt += 1\n",
    "\n",
    "good_cnt, bad_cnt"
   ]
  },
  {
   "cell_type": "markdown",
   "metadata": {},
   "source": [
    "좋은 리뷰 및 나쁜 리뷰로 구분 후 저장"
   ]
  },
  {
   "cell_type": "code",
   "execution_count": 4,
   "metadata": {},
   "outputs": [
    {
     "data": {
      "text/plain": [
       "['[REVIEW_START]인사동, 북촌동, 종각 등등 근처에 갈곳두 많구\\r\\n숙소두 깨끗하구 너무 좋아요\\r\\n엘베를 2번 타야하는게 살짝 번거롭지만\\r\\n그거빼구 다 좋아요[REVIEW_END]',\n",
       " '[REVIEW_START]근처 볼거리 놀거리가 가까이 있어 편했으나 \\n조계사 고층뷰는 의미 없이 배정해 주었으며\\n객실 내 청결상태가 별로였음 욕조 머리카락, 수건의 먼지등\\n재방문 의사 없음[REVIEW_END]',\n",
       " '[REVIEW_START]2월21일(수) 오전7시경, 카운터에 계시던 남자 직원 불친절\\n방음 최악[REVIEW_END]']"
      ]
     },
     "execution_count": 4,
     "metadata": {},
     "output_type": "execute_result"
    }
   ],
   "source": [
    "reviews_good, reviews_bad = [], []\n",
    "for r in review_list:\n",
    "    if r['stars'] == 5:\n",
    "        reviews_good.append('[REVIEW_START]' + r['review'] + '[REVIEW_END]')\n",
    "    else:\n",
    "        reviews_bad.append('[REVIEW_START]' + r['review'] + '[REVIEW_END]')\n",
    "\n",
    "reviews_bad[:3]"
   ]
  },
  {
   "cell_type": "code",
   "execution_count": 5,
   "metadata": {},
   "outputs": [
    {
     "data": {
      "text/plain": [
       "'[REVIEW_START]인사동, 북촌동, 종각 등등 근처에 갈곳두 많구\\r\\n숙소두 깨끗하구 너무 좋아요\\r\\n엘베를 2번 타야하는게 살짝 번거롭지만\\r\\n그거빼구 다 좋아요[REVIEW_'"
      ]
     },
     "execution_count": 5,
     "metadata": {},
     "output_type": "execute_result"
    }
   ],
   "source": [
    "reviews_good_text = '\\n'.join(reviews_good)\n",
    "reviews_bad_text = '\\n'.join(reviews_bad)\n",
    "\n",
    "reviews_bad_text[:100]"
   ]
  },
  {
   "cell_type": "markdown",
   "metadata": {},
   "source": [
    "전처리 함수 작성"
   ]
  },
  {
   "cell_type": "code",
   "execution_count": 6,
   "metadata": {},
   "outputs": [
    {
     "data": {
      "text/plain": [
       "'[REVIEW_START]깨끗하고 너무 좋았어요[REVIEW_END]\\n[REVIEW_START]위치도 아주좋고 숙소도 깨끗하고 좋아요~[REVIEW_END]\\n[REVIEW_STAR'"
      ]
     },
     "execution_count": 6,
     "metadata": {},
     "output_type": "execute_result"
    }
   ],
   "source": [
    "import datetime\n",
    "from dateutil import parser\n",
    "\n",
    "def preprocess_reviews(path='./res/reviews.json'):\n",
    "    with open(path, 'r', encoding='utf-8') as f:\n",
    "        review_list = json.load(f)\n",
    "\n",
    "    reviews_good, reviews_bad = [], []\n",
    "\n",
    "    current_date = datetime.datetime.now()\n",
    "    date_boundary = current_date - datetime.timedelta(days=6*30)\n",
    "\n",
    "    for r in review_list:\n",
    "        review_date_str = r['date']\n",
    "        try:\n",
    "            review_date = parser.parse(review_date_str)\n",
    "        except (ValueError, TypeError):\n",
    "            review_date = current_date\n",
    "\n",
    "        if review_date < date_boundary:\n",
    "            continue\n",
    "\n",
    "        if r['stars'] == 5:\n",
    "            reviews_good.append('[REVIEW_START]' + r['review'] + '[REVIEW_END]')\n",
    "        else:\n",
    "            reviews_bad.append('[REVIEW_START]' + r['review'] + '[REVIEW_END]')\n",
    "\n",
    "    reviews_good_text = '\\n'.join(reviews_good)\n",
    "    reviews_bad_text = '\\n'.join(reviews_bad)\n",
    "\n",
    "    return reviews_good_text, reviews_bad_text\n",
    "\n",
    "good, bad = preprocess_reviews()\n",
    "good[:100]"
   ]
  },
  {
   "cell_type": "markdown",
   "metadata": {},
   "source": [
    "### 평가용 함수 작성"
   ]
  },
  {
   "cell_type": "markdown",
   "metadata": {},
   "source": [
    "평가 기준 설정\n",
    "- MT-Bench 논문 기반 Pairwise Comparision (=LLM 기반 평가)\n",
    "  - 비교하는 방식 vs. 점수 매기는 방식\n",
    "  - 점수라는게 애매 할 수 있음 (ex. 어느 정도의 요약 품질이 3점인가?)\n",
    "  - 경험상 점수보다는 비교가 상대적으로 더 정확한 편"
   ]
  },
  {
   "cell_type": "markdown",
   "metadata": {},
   "source": [
    "평가 스크립트 작성\n",
    "- MT-Bench 논문 Prompt에서 일부 단어만 수정 (ex. Korean summaries, accommodations)"
   ]
  },
  {
   "cell_type": "code",
   "execution_count": 7,
   "metadata": {},
   "outputs": [],
   "source": [
    "def pairwise_eval(reviews, answer_a, answer_b):\n",
    "    eval_prompt = f\"\"\"[System]\n",
    "Please act as an impartial judge and evaluate the quality of the Korean summaries provided by two\n",
    "AI assistants to the set of user reviews on accommodations displayed below. You should choose the assistant that\n",
    "follows the user’s instructions and answers the user’s question better. Your evaluation\n",
    "should consider factors such as the helpfulness, relevance, accuracy, depth, creativity,\n",
    "and level of detail of their responses. Begin your evaluation by comparing the two\n",
    "responses and provide a short explanation. Avoid any position biases and ensure that the\n",
    "order in which the responses were presented does not influence your decision. Do not allow\n",
    "the length of the responses to influence your evaluation. Do not favor certain names of\n",
    "the assistants. Be as objective as possible. After providing your explanation, output your\n",
    "final verdict by strictly following this format: \"[[A]]\" if assistant A is better, \"[[B]]\"\n",
    "if assistant B is better, and \"[[C]]\" for a tie.\n",
    "[User Reviews]\n",
    "{reviews}\n",
    "[The Start of Assistant A’s Answer]\n",
    "{answer_a}\n",
    "[The End of Assistant A’s Answer]\n",
    "[The Start of Assistant B’s Answer]\n",
    "{answer_b}\n",
    "[The End of Assistant B’s Answer]\"\"\"\n",
    "    \n",
    "    completion = client.chat.completions.create(\n",
    "        model='gpt-4o-2024-05-13',\n",
    "        messages=[{'role': 'user', 'content': eval_prompt}],\n",
    "        temperature=0.0\n",
    "    )\n",
    "\n",
    "    return completion"
   ]
  },
  {
   "cell_type": "markdown",
   "metadata": {},
   "source": [
    "### Baseline 모델 개발"
   ]
  },
  {
   "cell_type": "code",
   "execution_count": 41,
   "metadata": {},
   "outputs": [],
   "source": [
    "PROMPT_BASELINE = f\"\"\"아래 숙소 리뷰에 대해 5문장 내로 요약해줘:\"\"\""
   ]
  },
  {
   "cell_type": "code",
   "execution_count": null,
   "metadata": {},
   "outputs": [
    {
     "ename": "NameError",
     "evalue": "name 'PROMPT_BASELINE' is not defined",
     "output_type": "error",
     "traceback": [
      "\u001b[31m---------------------------------------------------------------------------\u001b[39m",
      "\u001b[31mNameError\u001b[39m                                 Traceback (most recent call last)",
      "\u001b[36mCell\u001b[39m\u001b[36m \u001b[39m\u001b[32mIn[8]\u001b[39m\u001b[32m, line 14\u001b[39m\n\u001b[32m      6\u001b[39m     completion = client.chat.completions.create(\n\u001b[32m      7\u001b[39m         model=model,\n\u001b[32m      8\u001b[39m         messages=[{\u001b[33m'\u001b[39m\u001b[33mrole\u001b[39m\u001b[33m'\u001b[39m: \u001b[33m'\u001b[39m\u001b[33muser\u001b[39m\u001b[33m'\u001b[39m, \u001b[33m'\u001b[39m\u001b[33mcontent\u001b[39m\u001b[33m'\u001b[39m: prompt}],\n\u001b[32m      9\u001b[39m         temperature=temperature\n\u001b[32m     10\u001b[39m     )\n\u001b[32m     12\u001b[39m     \u001b[38;5;28;01mreturn\u001b[39;00m completion\n\u001b[32m---> \u001b[39m\u001b[32m14\u001b[39m \u001b[38;5;28mprint\u001b[39m(summarize(reviews, \u001b[43mPROMPT_BASELINE\u001b[49m).choices[\u001b[32m0\u001b[39m].message.content)\n",
      "\u001b[31mNameError\u001b[39m: name 'PROMPT_BASELINE' is not defined"
     ]
    }
   ],
   "source": [
    "# PROMPT_BASELINE 정의\n",
    "PROMPT_BASELINE = f\"\"\"아래 숙소 리뷰에 대해 5문장 내로 요약해줘:\"\"\"\n",
    "\n",
    "reviews, _ = preprocess_reviews(path='./res/reviews.json')\n",
    "\n",
    "def summarize(reviews, prompt, temperature=0.0, model='gpt-3.5-turbo-0125'):\n",
    "    prompt = prompt + '\\n\\n' + reviews\n",
    "\n",
    "    completion = client.chat.completions.create(\n",
    "        model=model,\n",
    "        messages=[{'role': 'user', 'content': prompt}],\n",
    "        temperature=temperature\n",
    "    )\n",
    "\n",
    "    return completion\n",
    "\n",
    "print(summarize(reviews, PROMPT_BASELINE).choices[0].message.content)"
   ]
  },
  {
   "cell_type": "code",
   "execution_count": 43,
   "metadata": {},
   "outputs": [],
   "source": [
    "summary_real_20240526 = '위치가 매우 우수한 숙박시설로, 인사동과 조계사, 경복궁 등 관광지에 도보로 이동할 수 있는 편리한 위치에 있습니다. 객실은 깔끔하며 직원들의 친절한 서비스와 청결한 시설이 인상적입니다. 주변에는 맛집과 편의시설이 많아 편리하며, 교통 접근성도 좋습니다. 전체적으로 만족도가 높고 자주 방문하고 싶은 곳으로 손꼽히는 숙소로 평가됩니다.'"
   ]
  },
  {
   "cell_type": "code",
   "execution_count": 44,
   "metadata": {},
   "outputs": [
    {
     "name": "stdout",
     "output_type": "stream",
     "text": [
      "Assistant A provided a concise summary that accurately reflects the user reviews. The summary mentions the cleanliness, good location, and the enjoyment of a comfortable rest, which aligns well with the content of the reviews.\n",
      "\n",
      "Assistant B, on the other hand, provided a more detailed and elaborate summary. However, it includes information that is not present in the user reviews, such as specific tourist attractions, the friendliness of the staff, and the presence of nearby restaurants and convenience facilities. This additional information, while potentially useful, is not relevant to the specific user reviews provided.\n",
      "\n",
      "In terms of helpfulness, relevance, and accuracy, Assistant A's response is more aligned with the user reviews. Assistant B's response, although detailed, includes assumptions and additional details that were not mentioned in the reviews.\n",
      "\n",
      "Therefore, the better response is from Assistant A.\n",
      "\n",
      "[[A]]\n"
     ]
    }
   ],
   "source": [
    "print(pairwise_eval(reviews, summarize(reviews, PROMPT_BASELINE).choices[0].message.content, summary_real_20240526).choices[0].message.content)"
   ]
  },
  {
   "cell_type": "markdown",
   "metadata": {},
   "source": [
    "### 대규모 평가 스크립트\n",
    "- 원래는 많은 수의 다양한 데이터에 대해 평가를 하지만, 동일한 Prompt에 대해 temperature 높여서 평가 진행"
   ]
  },
  {
   "cell_type": "code",
   "execution_count": 45,
   "metadata": {},
   "outputs": [
    {
     "data": {
      "text/plain": [
       "['숙소는 깨끗하고 위치도 좋아서 편안한 휴식을 즐길 수 있었다는 솔직한 리뷰입니다.',\n",
       " '깨끗하고 좋은 위치에 위치한 숙소로 편히 쉬고 즐거운 여행이었어요.',\n",
       " '숙소는 깨끗하고 위치도 좋아요. 편히 쉬고 즐거운 여행이었어요.',\n",
       " '이 숙소는 깨끗하고 좋은 위치에 있으며 휴식을 잘 즐길 수 있는 곳이었습니다. 감사합니다.',\n",
       " '숙소는 깨끗하고 위치도 좋았으며 편안하게 쉬다 갈 수 있었다는 내용의 리뷰입니다.',\n",
       " '숙소는 깨끗하고 위치가 좋았으며 편안한 휴식을 즐겼다고 감사의 인사를 전했다.',\n",
       " '이 숙소는 깨끗하고 좋은 위치에 위치해 있으며 휴식을 즐기기에 좋은 곳이었습니다. 감사합니다.',\n",
       " '숙소는 깨끗하고 위치도 좋았으며 잘 쉬고 놀았다고 감사했다.',\n",
       " '깨끗하고 위치도 좋았던 숙소에서 잘 쉬고 놀았다. 도움이 되도록 감사했다.',\n",
       " '숙소는 깨끗하고 위치가 좋았으며 잘 쉬고 놀 수 있었다고 감사한 리뷰를 남겼다.']"
      ]
     },
     "execution_count": 45,
     "metadata": {},
     "output_type": "execute_result"
    }
   ],
   "source": [
    "eval_count = 10\n",
    "\n",
    "summaries_baseline = [summarize(reviews, PROMPT_BASELINE, temperature=1.0).choices[0].message.content for _ in range(eval_count)]\n",
    "summaries_baseline"
   ]
  },
  {
   "cell_type": "code",
   "execution_count": 46,
   "metadata": {},
   "outputs": [
    {
     "name": "stderr",
     "output_type": "stream",
     "text": [
      "100%|██████████| 10/10 [00:29<00:00,  2.97s/it]"
     ]
    },
    {
     "name": "stdout",
     "output_type": "stream",
     "text": [
      "Wins: 10, Losses: 0, Ties: 0\n"
     ]
    },
    {
     "name": "stderr",
     "output_type": "stream",
     "text": [
      "\n"
     ]
    }
   ],
   "source": [
    "from tqdm import tqdm\n",
    "\n",
    "\n",
    "def pairwise_eval_batch(reviews, answers_a, answers_b):\n",
    "    a_cnt, b_cnt, draw_cnt = 0, 0, 0\n",
    "    for i in tqdm(range(len(answers_a))):\n",
    "        completion = pairwise_eval(reviews, answers_a[i], answers_b[i])\n",
    "        verdict_text = completion.choices[0].message.content\n",
    "\n",
    "        if '[[A]]' in verdict_text:\n",
    "            a_cnt += 1\n",
    "        elif '[[B]]' in verdict_text:\n",
    "            b_cnt += 1\n",
    "        elif '[[C]]' in verdict_text:\n",
    "            draw_cnt += 1\n",
    "        else:\n",
    "            print('Evaluation Error')\n",
    "\n",
    "    return a_cnt, b_cnt, draw_cnt\n",
    "\n",
    "wins, losses, ties = pairwise_eval_batch(reviews, summaries_baseline, [summary_real_20240526 for _ in range(len(summaries_baseline))])\n",
    "print(f'Wins: {wins}, Losses: {losses}, Ties: {ties}')"
   ]
  },
  {
   "cell_type": "markdown",
   "metadata": {},
   "source": [
    "### 모델 고도화 1 - 조건들 명시"
   ]
  },
  {
   "cell_type": "code",
   "execution_count": 47,
   "metadata": {},
   "outputs": [
    {
     "name": "stderr",
     "output_type": "stream",
     "text": [
      "100%|██████████| 10/10 [00:40<00:00,  4.08s/it]"
     ]
    },
    {
     "name": "stdout",
     "output_type": "stream",
     "text": [
      "Wins: 10, Losses: 0, Ties: 0\n"
     ]
    },
    {
     "name": "stderr",
     "output_type": "stream",
     "text": [
      "\n"
     ]
    }
   ],
   "source": [
    "prompt = f\"\"\"당신은 요약 전문가입니다. 사용자 숙소 리뷰들이 주어졌을 때 요약하는 것이 당신의 목표입니다.\n",
    "\n",
    "요약 결과는 다음 조건들을 충족해야 합니다:\n",
    "1. 모든 문장은 항상 존댓말로 끝나야 합니다.\n",
    "2. 숙소에 대해 소개하는 톤앤매너로 작성해주세요.\n",
    "  2-1. 좋은 예시\n",
    "    a) 전반적으로 좋은 숙소였고 방음도 괜찮았다는 평입니다.\n",
    "    b) 재방문 예정이라는 평들이 존재합니다.\n",
    "  2-2. 나쁜 예시\n",
    "    a) 좋은 숙소였고 방음도 괜찮았습니다.\n",
    "    b) 재방문 예정입니다.\n",
    "3. 요약 결과는 최소 2문장, 최대 5문장 사이로 작성해주세요.\n",
    "    \n",
    "아래 숙소 리뷰들에 대해 요약해주세요:\"\"\"\n",
    "\n",
    "eval_count = 10\n",
    "summaries = [summarize(reviews, prompt, temperature=1.0).choices[0].message.content for _ in range(eval_count)]\n",
    "wins, losses, ties = pairwise_eval_batch(reviews, summaries, [summary_real_20240526 for _ in range(len(summaries))])\n",
    "print(f'Wins: {wins}, Losses: {losses}, Ties: {ties}')"
   ]
  },
  {
   "cell_type": "markdown",
   "metadata": {},
   "source": [
    "### 모델 고도화 2 - 입력 데이터의 품질 증가"
   ]
  },
  {
   "cell_type": "code",
   "execution_count": 48,
   "metadata": {},
   "outputs": [],
   "source": [
    "import datetime\n",
    "from dateutil import parser\n",
    "\n",
    "def preprocess_reviews(path='./res/reviews.json'):\n",
    "    with open(path, 'r', encoding='utf-8') as f:\n",
    "        review_list = json.load(f)\n",
    "\n",
    "    reviews_good, reviews_bad = [], []\n",
    "\n",
    "    current_date = datetime.datetime.now()\n",
    "    date_boundary = current_date - datetime.timedelta(days=6*30)\n",
    "\n",
    "    filtered_cnt = 0\n",
    "    for r in review_list:\n",
    "        review_date_str = r['date']\n",
    "        try:\n",
    "            review_date = parser.parse(review_date_str)\n",
    "        except (ValueError, TypeError):\n",
    "            review_date = current_date\n",
    "\n",
    "        if review_date < date_boundary:\n",
    "            continue\n",
    "        if len(r['review']) < 30:\n",
    "            filtered_cnt += 1\n",
    "            continue\n",
    "\n",
    "        if r['stars'] == 5:\n",
    "            reviews_good.append('[REVIEW_START]' + r['review'] + '[REVIEW_END]')\n",
    "        else:\n",
    "            reviews_bad.append('[REVIEW_START]' + r['review'] + '[REVIEW_END]')\n",
    "\n",
    "    reviews_good = reviews_good[:min(len(reviews_good), 50)]\n",
    "    reviews_bad = reviews_bad[:min(len(reviews_bad), 50)]\n",
    "\n",
    "    reviews_good_text = '\\n'.join(reviews_good)\n",
    "    reviews_bad_text = '\\n'.join(reviews_bad)\n",
    "\n",
    "    return reviews_good_text, reviews_bad_text\n",
    "\n",
    "reviews, _ = preprocess_reviews()"
   ]
  },
  {
   "cell_type": "code",
   "execution_count": 26,
   "metadata": {},
   "outputs": [
    {
     "name": "stderr",
     "output_type": "stream",
     "text": [
      "100%|██████████| 10/10 [00:35<00:00,  3.51s/it]"
     ]
    },
    {
     "name": "stdout",
     "output_type": "stream",
     "text": [
      "Wins: 3, Losses: 7, Ties: 0\n"
     ]
    },
    {
     "name": "stderr",
     "output_type": "stream",
     "text": [
      "\n"
     ]
    }
   ],
   "source": [
    "eval_count = 10\n",
    "summaries = [summarize(reviews, prompt, temperature=1.0, model='gpt-3.5-turbo-0125').choices[0].message.content for _ in range(eval_count)]\n",
    "wins, losses, ties = pairwise_eval_batch(reviews, summaries, [summary_real_20240526 for _ in range(len(summaries))])\n",
    "print(f'Wins: {wins}, Losses: {losses}, Ties: {ties}')"
   ]
  },
  {
   "cell_type": "markdown",
   "metadata": {},
   "source": [
    "### 모델 고도화 3 - Few-Shot Prompting"
   ]
  },
  {
   "cell_type": "code",
   "execution_count": 27,
   "metadata": {},
   "outputs": [
    {
     "name": "stderr",
     "output_type": "stream",
     "text": [
      "100%|██████████| 10/10 [00:33<00:00,  3.40s/it]"
     ]
    },
    {
     "name": "stdout",
     "output_type": "stream",
     "text": [
      "Wins: 3, Losses: 7, Ties: 0\n"
     ]
    },
    {
     "name": "stderr",
     "output_type": "stream",
     "text": [
      "\n"
     ]
    }
   ],
   "source": [
    "reviews_1shot, _ = preprocess_reviews('./res/ninetree_pangyo.json')\n",
    "summary_1shot = summarize(reviews_1shot, prompt, temperature=0.0, model='gpt-4-turbo-2024-04-09').choices[0].message.content\n",
    "prompt_1shot = f\"\"\"당신은 요약 전문가입니다. 사용자 숙소 리뷰들이 주어졌을 때 요약하는 것이 당신의 목표입니다.\n",
    "\n",
    "요약 결과는 다음 조건들을 충족해야 합니다:\n",
    "1. 모든 문장은 항상 존댓말로 끝나야 합니다.\n",
    "2. 숙소에 대해 소개하는 톤앤매너로 작성해주세요.\n",
    "  2-1. 좋은 예시\n",
    "    a) 전반적으로 좋은 숙소였고 방음도 괜찮았다는 평입니다.\n",
    "    b) 재방문 예정이라는 평들이 존재합니다.\n",
    "  2-2. 나쁜 예시\n",
    "    a) 좋은 숙소였고 방음도 괜찮았습니다.\n",
    "    b) 재방문 예정입니다.\n",
    "3. 요약 결과는 최소 2문장, 최대 5문장 사이로 작성해주세요.\n",
    "\n",
    "다음은 리뷰들과 요약 예시입니다.\n",
    "예시 리뷰들:\n",
    "{reviews_1shot}\n",
    "예시 요약 결과:\n",
    "{summary_1shot}\n",
    "    \n",
    "아래 숙소 리뷰들에 대해 요약해주세요:\"\"\"\n",
    "\n",
    "summaries = [summarize(reviews, prompt, temperature=1.0, model='gpt-3.5-turbo-0125').choices[0].message.content for _ in range(eval_count)]\n",
    "wins, losses, ties = pairwise_eval_batch(reviews, summaries, [summary_real_20240526 for _ in range(len(summaries))])\n",
    "print(f'Wins: {wins}, Losses: {losses}, Ties: {ties}')"
   ]
  },
  {
   "cell_type": "code",
   "execution_count": 28,
   "metadata": {},
   "outputs": [
    {
     "data": {
      "text/plain": [
       "['이 숙소는 전반적으로 편안하고 아늑한 분위기를 가지고 있습니다. 직원들의 친절함과 청결한 시설들이 좋은 평가를 받고 있습니다. 또한 주변에 편의시설들이 가까이 있어 편리한 숙박을 경험할 수 있습니다. 객실은 깔끔하고 현대적으로 꾸며져 있으며 재방문을 고려하고 싶은 숙소입니다. 이곳에서의 숙박은 편안한 휴식을 취할 수 있는 좋은 경험이 될 것입니다.',\n",
       " '1. 전반적으로 깔끔하고 아늑한 분위기의 숙소입니다.\\n2. 위치도 편리하고 주변 편의시설들이 잘 갖춰져 있습니다.\\n3. 친절한 스태프와 깨끗한 시설로 다시 방문하고 싶은 숙소입니다.',\n",
       " '1. 이 숙소는 위치가 너무 편리해서 다음에 또 오고 싶습니다.\\n2. 객실은 깔끔하고 편안해서 좋았습니다.\\n3. 직원들의 서비스 태도도 친절해서 기분 좋게 머물렀습니다.',\n",
       " '리뷰 1: 숙소 위치가 편리하고 깨끗한 시설 덕분에 편히 머물렀어요. 담당 직원들도 친절해서 만족스러웠습니다.\\n리뷰 2: 숙소 내 인테리어가 멋지고 편안한 분위기를 즐길 수 있었어요. 조식도 맛있었습니다.\\n리뷰 3: 방이 조금 작았지만 전체적으로 만족스러운 경험이었어요. 주변에 맛집이 많아서 좋았습니다.\\n\\n요약: 편리한 위치와 깨끗한 시설을 자랑하는 숙소로, 친절한 직원들과 만족스러운 서비스를 경험할 수 있었습니다. 멋진 인테리어와 편안한 분위기를 즐길 수 있는 숙소이며 조식 또한 맛있었습니다. 방은 조금 작을 수 있지만 전반적으로 만족스러운 숙박 경험을 제공합니다.',\n",
       " '1. 전체적으로 깔끔하고 조용한 숙소였습니다.\\n2. 친절한 스탭들과 편안한 침대가 인상적이었습니다.\\n3. 위치도 편리하고 다음에 또 방문할 의향이 있습니다.',\n",
       " '리뷰 1: 호텔 위치가 좋고 청결하며 직원들의 서비스가 친절했습니다. 아침식사도 맛있었습니다.\\n\\n리뷰 2: 객실이 깔끔하고 조용해서 편안한 휴식을 취할 수 있었습니다. 다음에 또 묵고 싶은 호텔입니다.\\n\\n리뷰 3: 호텔 시설이 잘 갖춰져 있어 편안한 숙박을 경험할 수 있었습니다. 직원들의 응대도 매우 친절했습니다.\\n\\n요약: 전반적으로 호텔은 좋은 위치와 청결한 객실, 친절한 직원들로 이루어져 있습니다. 휴식을 취하기에 안성맞춤이며 다음에도 또 묵고 싶은 호텔입니다.',\n",
       " '리뷰 1: \"이 호텔은 위치가 아주 좋았고 직원들도 친절했습니다. 객실은 깨끗하고 편안했어요.\"\\n리뷰 2: \"조식도 맛있었고 룸 서비스도 만족스러웠습니다. 다음에 또 방문하고 싶어요.\"\\n\\n총평: 전체적으로 위치가 우수하며 친절한 직원들과 깨끗하고 편안한 객실이 특징인 호텔로, 조식과 룸 서비스도 만족스러운 수준이었습니다.재방문을 고려하고 싶은 호텔이라는 느낌을 받을 수 있는 리뷰들이었습니다.',\n",
       " '이 숙소는 전반적으로 깔끔하고 아늑한 분위기를 자랑합니다. 직원들의 친절한 서비스도 기억에 남는다. 방음이 잘 되어 편안한 휴식을 취할 수 있었습니다. 또한, 위치가 시내 중심가에 인접해 편리한 이동이 가능합니다. 다음 여행 때도 재방문을 고려 중입니다.',\n",
       " '이 숙소는 전반적으로 매우 편안하고 깨끗한 분위기를 느낄 수 있었습니다. 직원들은 매우 친절했고 필요한 것이 있을 때 언제든 도와주었습니다. 객실은 넓고 편안하며 잠을 잘 수 있었습니다. 또한 위치가 편리하여 주변 관광지에 쉽게 접근할 수 있었습니다. 다시 방문하고 싶은 숙소였습니다.',\n",
       " '1. 숙소는 전반적으로 깔끔하고 쾌적한 환경을 제공했습니다.\\n2. 위치도 좋아서 주변 관광지 이용이 편했고, 직원들의 친절한 응대도 좋았습니다.\\n3. 숙소 내 시설들도 잘 관리되어 있어 편안한 숙박을 할 수 있었습니다.\\n4. 다음에 또 방문하고 싶은 숙소였습니다. 감사합니다.']"
      ]
     },
     "execution_count": 28,
     "metadata": {},
     "output_type": "execute_result"
    }
   ],
   "source": [
    "summaries"
   ]
  },
  {
   "cell_type": "code",
   "execution_count": 29,
   "metadata": {},
   "outputs": [
    {
     "name": "stderr",
     "output_type": "stream",
     "text": [
      "100%|██████████| 10/10 [00:35<00:00,  3.52s/it]"
     ]
    },
    {
     "name": "stdout",
     "output_type": "stream",
     "text": [
      "Wins: 10, Losses: 0, Ties: 0\n"
     ]
    },
    {
     "name": "stderr",
     "output_type": "stream",
     "text": [
      "\n"
     ]
    }
   ],
   "source": [
    "prompt_1shot = f\"\"\"당신은 요약 전문가입니다. 사용자 숙소 리뷰들이 주어졌을 때 요약하는 것이 당신의 목표입니다. 다음은 리뷰들과 요약 예시입니다.\n",
    "예시 리뷰들:\n",
    "{reviews_1shot}\n",
    "예시 요약 결과:\n",
    "{summary_1shot}\n",
    "    \n",
    "아래 숙소 리뷰들에 대해 요약해주세요:\"\"\"\n",
    "\n",
    "summaries = [summarize(reviews, prompt_1shot, temperature=1.0, model='gpt-3.5-turbo-0125').choices[0].message.content for _ in range(eval_count)]\n",
    "wins, losses, ties = pairwise_eval_batch(reviews, summaries, [summary_real_20240526 for _ in range(len(summaries))])\n",
    "print(f'Wins: {wins}, Losses: {losses}, Ties: {ties}')"
   ]
  },
  {
   "cell_type": "code",
   "execution_count": 30,
   "metadata": {},
   "outputs": [
    {
     "data": {
      "text/plain": [
       "['[REVIEW_START]첫 방문이었는데 직원들이 너무 친절하고 깨끗해서 좋았어요. 다음에 또 오고 싶어요![REVIEW_END]\\n[REVIEW_START]룸 컨디션도 좋고 조식도 훌륭했어요. 다시 방문할 의향이 있습니다.[REVIEW_END]\\n\\n요약 결과:\\n이 숙소는 첫 방문에도 직원의 친절함과 청결함에 만족한 손님들이 많았습니다. 또한, 객실 상태와 조식에 대한 긍정적인 평가가 많아 재방문을 고려하는 손님들도 있습니다.',\n",
       " '1. [REVIEW_START]이번에 처음 방문했는데 정말 만족했습니다. 친절한 직원들과 깔끔한 객실이 인상적이었습니다. 다음에 또 방문하고 싶어요![REVIEW_END]\\n2. [REVIEW_START]가격 대비 정말 좋은 숙소였어요. 위치도 좋고 시설도 깔끔해서 편안한 여행이 되었습니다. 추천합니다![REVIEW_END]\\n\\n요약 결과:\\n숙소는 처음 방문한 손님들에게도 만족감을 준 친절한 직원들과 깔끔한 객실이 인상적이었고, 가격 대비 좋은 서비스와 깔끔한 시설로 편안한 여행을 선사했다는 호평을 받고 있습니다. 재방문을 고려하는 투숙객들이 많은 것으로 보입니다.',\n",
       " '1. [REVIEW_START]직원분들이 너무 친절해서 더 좋은 기억으로 남았어요. 객실도 깨끗하고 편안해서 다음에 또 방문하고 싶어요![REVIEW_END]\\n2. [REVIEW_START]조식이 푸짐하고 맛있어서 더 좋았습니다. 위치도 시내 중심가에 있어서 이동이 편리했어요. 다음에 또 방문할 예정입니다![REVIEW_END]\\n3. [REVIEW_START]가격 대비 최고의 숙소였습니다. 침구류도 편안하고 시설도 깨끗해서 매우 만족했습니다! 추천합니다![REVIEW_END]\\n\\n요약 결과:\\n손님들은 직원들의 친절함과 깨끗하고 편안한 객실로 좋은 추억을 만들었으며, 조식의 풍성함과 시내 중심가에 위치한 편리성을 칭찬했습니다. 또한, 가격 대비 최고의 숙소로 침구류의 편안함과 깨끗한 시설에 매우 만족했으며 추천한다는 의견을 보였습니다.',\n",
       " '[REVIEW_START]이번에 처음 방문했는데 숙소가 깨끗하고 직원들도 친절해서 좋았어요. 다음에 또 방문하고 싶어요![REVIEW_END]\\n[REVIEW_START]위치가 시내 중심가에 있어서 이동하기 편리했고, 주변에 맛집이 많아서 좋았어요. 다음에 또 방문할 의향이 있습니다.[REVIEW_END] \\n\\n요약 결과:\\n이 숙소는 깨끗하고 친절한 직원들이 있어서 좋다는 평가를 받고 있습니다. 또한, 시내 중심가에 위치하여 이동이 편리하고 맛집이 주변에 많아 만족스러운 숙박 경험을 제공한다는 손님들의 의견이 있습니다. 또한, 재방문할 의향도 있는 것으로 보입니다.',\n",
       " '1. [REVIEW_START]이번에 처음 묵어보는데 직원분들이 친절했어요. 방도 깨끗하고 조식도 맛있었습니다. 추천합니다![REVIEW_END]\\n2. [REVIEW_START]가격 대비 좋은 편이에요. 위치도 좋고 깨끗해서 다음에 또 이용할 예정입니다.[REVIEW_END]\\n3. [REVIEW_START]조용한 분위기가 좋았어요. 다만, 청결 상태가 조금 아쉬웠습니다. 그래도 전반적으로 만족스러웠어요.[REVIEW_END]\\n\\n요약 결과:\\n이 숙소는 직원분들의 친절함과 깨끗한 객실, 맛있는 조식으로 추천을 받고 있습니다. 또한, 가격 대비 좋은 위치와 깨끗한 시설이 다시 이용하고 싶은 이유라는 의견이 있습니다. 다만, 일부 손님들은 청결 상태에 조금 아쉬움을 표현했지만 전반적으로 만족스러운 경험을 한 것으로 보입니다.',\n",
       " '1. [REVIEW_START]이번에 처음 방문했는데, 객실이 깔끔하고 직원들도 친절해서 좋았습니다. 다음에 또 방문하고 싶어요.[REVIEW_END]\\n2. [REVIEW_START]가격대비 만족할만한 숙소입니다. 주변 편의시설도 충분히 갖춰져 있어서 편리했습니다.[REVIEW_END]\\n\\n요약 결과:\\n이 숙소는 객실이 깔끔하고 직원들이 친절해서 좋은 평가를 받고 있습니다. 또한 가격대비 만족할 만한 숙소로, 주변 편의시설이 충분히 갖춰져 편리하다는 의견이 있습니다. 이 숙소는 재방문을 고려할만한 가치가 있다고 할 수 있습니다.',\n",
       " '1. [REVIEW_START]이번 여행에서 머물렀던 숙소는 정말 깨끗하고 아늑해서 편안했습니다. 직원들도 친절하고 서비스가 좋았어요![REVIEW_END]\\n2. [REVIEW_START]위치가 시내 중심가에 있어서 이동이 편리하고 주변에 맛집이 많아서 좋았습니다. 다음에 또 방문하고 싶어요![REVIEW_END]\\n\\n요약 결과:\\n이 숙소는 깨끗하고 아늑하며 친절한 직원들과 좋은 서비스를 제공한다는 평가를 받고 있습니다. 또한, 시내 중심가에 위치하여 이동이 편리하고 주변에 다양한 맛집이 있어 편리하다는 손님들의 의견이 있습니다. 재방문 의사가 있는 것으로 보입니다.',\n",
       " '[REVIEW_START]이번에 처음으로 이용했는데 너무 만족했습니다. 직원분들도 친절하고 시설도 깔끔하고 좋았어요. 다음에도 꼭 다시 방문하고 싶어요![REVIEW_END]\\n[REVIEW_START]가족들과 함께 묵었는데 모두 만족했습니다. 아이들도 너무 좋아했어요. 특히 조식이 푸짐해서 좋았습니다. 위치도 좋아서 주변 관광지도 잘 다녀왔어요.[REVIEW_END] \\n\\n요약 결과:\\n숙소는 처음 이용한 손님들에게 친절한 직원과 깔끔한 시설로 만족을 끌어올린 것으로 보입니다. 가족들과 함께 머물렀을 때 특히 아이들이 좋아하는 숙소로 손님들의 호평을 받고 있으며, 맛있는 조식과 편리한 위치가 특징으로 손님들의 관심을 끌고 있습니다.',\n",
       " '1. [REVIEW_START]이번에 처음 방문했는데 친절한 직원들과 깨끗한 시설에 기분 좋게 머물렀습니다. 다음에 또 방문하고 싶어요![REVIEW_END]\\n2. [REVIEW_START]가격대비 만족스러운 숙소입니다. 위치도 좋고 주변에 편의시설이 많아 편리했습니다. 다만 조식 메뉴가 다양하지 않은 점이 아쉬웠어요[REVIEW_END]\\n\\n요약 결과:\\n이 숙소는 처음 방문하는 손님들도 친절한 직원들과 깨끗한 시설로 기분 좋게 머무를 수 있으며, 가격대비 만족스러운 숙소로 소개되고 있습니다. 위치도 좋고 주변에 편의시설이 많아 편리하지만, 조식 메뉴 다양성이 부족하다는 의견이 있습니다.',\n",
       " '1. [REVIEW_START]이번에 처음 방문했는데 직원분들이 친절하고 시설도 깨끗해서 좋았습니다. 다음에 또 방문하고 싶어요![REVIEW_END]\\n2. [REVIEW_START]가격 대비 좋은 퀄리티를 자랑하는 숙소입니다. 주변에 편의시설도 잘 갖춰져 있어 편했습니다. 잘 쉬다 갑니다![REVIEW_END]\\n3. [REVIEW_START]조용한 환경과 깔끔한 인테리어에 감탄했습니다. 주변 관광지에 접근하기도 편리해서 다음에 다시 방문하려구요![REVIEW_END]\\n\\n요약 결과:\\n이 숙소는 청결하고 친절한 직원분들로 유명하며, 가격 대비 좋은 퀄리티를 자랑합니다. 또한, 조용한 환경과 깔끔한 인테리어에 감탄을 한 손님들이 많으며, 주변 관광지에도 쉽게 접근할 수 있다는 점이 좋아하는 이유로 언급되었습니다.']"
      ]
     },
     "execution_count": 30,
     "metadata": {},
     "output_type": "execute_result"
    }
   ],
   "source": [
    "summaries"
   ]
  },
  {
   "cell_type": "code",
   "execution_count": 31,
   "metadata": {},
   "outputs": [],
   "source": [
    "reviews_1shot, _ = preprocess_reviews('./res/ninetree_pangyo.json')\n",
    "summary_1shot = summarize(reviews_1shot, prompt, temperature=0.0, model='gpt-4-turbo-2024-04-09').choices[0].message.content"
   ]
  },
  {
   "cell_type": "code",
   "execution_count": 32,
   "metadata": {},
   "outputs": [
    {
     "name": "stderr",
     "output_type": "stream",
     "text": [
      "100%|██████████| 10/10 [00:22<00:00,  2.22s/it]"
     ]
    },
    {
     "name": "stdout",
     "output_type": "stream",
     "text": [
      "Wins: 0, Losses: 10, Ties: 0\n"
     ]
    },
    {
     "name": "stderr",
     "output_type": "stream",
     "text": [
      "\n"
     ]
    }
   ],
   "source": [
    "reviews_2shot, _ = preprocess_reviews('./res/ninetree_yongsan.json')\n",
    "summary_2shot = summarize(reviews_2shot, prompt_1shot, temperature=0.0, model='gpt-4-turbo-2024-04-09').choices[0].message.content\n",
    "\n",
    "prompt_2shot = f\"\"\"당신은 요약 전문가입니다. 사용자 숙소 리뷰들이 주어졌을 때 요약하는 것이 당신의 목표입니다. 다음은 리뷰들과 요약 예시입니다.\n",
    "\n",
    "예시 리뷰들 1:\n",
    "{reviews_1shot}\n",
    "예시 요약 결과 1:\n",
    "{summary_1shot}\n",
    "\n",
    "예시 리뷰들 2:\n",
    "{reviews_2shot}\n",
    "예시 요약 결과 2:\n",
    "{summary_2shot}\n",
    "    \n",
    "아래 숙소 리뷰들에 대해 요약해주세요:\"\"\"\n",
    "\n",
    "summaries = [summarize(reviews, prompt_2shot, temperature=1.0, model='gpt-3.5-turbo-0125').choices[0].message.content for _ in range(eval_count)]\n",
    "wins, losses, ties = pairwise_eval_batch(reviews, summaries, [summary_real_20240526 for _ in range(len(summaries))])\n",
    "print(f'Wins: {wins}, Losses: {losses}, Ties: {ties}')"
   ]
  },
  {
   "cell_type": "code",
   "execution_count": 33,
   "metadata": {},
   "outputs": [
    {
     "data": {
      "text/plain": [
       "['죄송하지만, 숙소 리뷰가 제공되지 않았습니다. 숙소 리뷰를 제공해주시면 제가 요약해드릴 수 있습니다.',\n",
       " '죄송하지만 숙소 리뷰들을 제공해주셔야 요약을 도와드릴 수 있습니다. 숙소 리뷰들을 입력해주시면 감사하겠습니다.',\n",
       " '죄송하지만 숙소 리뷰가 제공되지 않았습니다. 숙소 리뷰를 제공해주시면 요약을 도와드리겠습니다.',\n",
       " '리뷰 내용을 입력해주세요.',\n",
       " '죄송하지만 숙소 리뷰들이 제공되지 않아요. 리뷰들을 제공해주시면 제가 요약을 도와드릴게요!',\n",
       " '죄송하지만, 숙소 리뷰가 제공되지 않았습니다. 숙소 리뷰를 입력해 주시면 요약을 도와드리겠습니다.',\n",
       " '죄송하지만 숙소 리뷰가 제공되지 않아 요약을 도와드릴 수 없습니다. 숙소 리뷰를 제공해주시면 요약을 도와드리겠습니다.',\n",
       " '리뷰 내용을 제공해주시면 요약을 도와드리겠습니다.',\n",
       " '죄송하지만 제공해주신 숙소 리뷰가 없어서 요약할 수 없습니다. 숙소 리뷰를 제공해주시면 해당 리뷰들을 요약해 드리겠습니다. 감사합니다.',\n",
       " '죄송하지만, 숙소 리뷰가 제공되지 않아요. 숙소 리뷰를 제공해주시면 요약을 도와드리겠습니다.']"
      ]
     },
     "execution_count": 33,
     "metadata": {},
     "output_type": "execute_result"
    }
   ],
   "source": [
    "summaries"
   ]
  },
  {
   "cell_type": "code",
   "execution_count": null,
   "metadata": {},
   "outputs": [],
   "source": []
  }
 ],
 "metadata": {
  "kernelspec": {
   "display_name": "Python (venv-yanolja)",
   "language": "python",
   "name": "venv-yanolja"
  },
  "language_info": {
   "codemirror_mode": {
    "name": "ipython",
    "version": 3
   },
   "file_extension": ".py",
   "mimetype": "text/x-python",
   "name": "python",
   "nbconvert_exporter": "python",
   "pygments_lexer": "ipython3",
   "version": "3.13.5"
  }
 },
 "nbformat": 4,
 "nbformat_minor": 2
}
