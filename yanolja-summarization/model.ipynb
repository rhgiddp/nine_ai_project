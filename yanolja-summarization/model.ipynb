{
 "cells": [
  {
   "cell_type": "code",
   "execution_count": 1,
   "metadata": {},
   "outputs": [
    {
     "name": "stdout",
     "output_type": "stream",
     "text": [
      "Hello! How can I assist you today?\n"
     ]
    }
   ],
   "source": [
    "import os\n",
    "\n",
    "from openai import OpenAI\n",
    "\n",
    "\n",
    "OPENAI_API_KEY = os.environ['OPENAI_API_KEY']\n",
    "\n",
    "client = OpenAI(api_key=OPENAI_API_KEY)\n",
    "\n",
    "completion = client.chat.completions.create(\n",
    "    model='gpt-3.5-turbo-0125',\n",
    "    messages=[{'role': 'user', 'content': 'hi'}],\n",
    "    temperature=0.0\n",
    ")\n",
    "\n",
    "print(completion.choices[0].message.content)"
   ]
  },
  {
   "cell_type": "markdown",
   "metadata": {},
   "source": [
    "### 데이터 전처리 함수 작성\n"
   ]
  },
  {
   "cell_type": "markdown",
   "metadata": {},
   "source": [
    "리뷰 JSON 파일 로드"
   ]
  },
  {
   "cell_type": "code",
   "execution_count": 2,
   "metadata": {},
   "outputs": [
    {
     "data": {
      "text/plain": [
       "[{'review': '깨끗하고 너무 좋았어요', 'stars': 5, 'date': '22시간 전'},\n",
       " {'review': '위치도 아주좋고 숙소도 깨끗하고 좋아요~', 'stars': 5, 'date': '2일 전'},\n",
       " {'review': '잘쉬고놀다갑니다  감사', 'stars': 5, 'date': '6일 전'}]"
      ]
     },
     "execution_count": 2,
     "metadata": {},
     "output_type": "execute_result"
    }
   ],
   "source": [
    "import json\n",
    "\n",
    "with open('./res/reviews.json', 'r') as f:\n",
    "    review_list = json.load(f)\n",
    "\n",
    "review_list[:3]"
   ]
  },
  {
   "cell_type": "markdown",
   "metadata": {},
   "source": [
    "좋은 평점 및 나쁜 평점 정의\n",
    "- 좋은 평점 = 별 5개\n",
    "- 나쁜 평점 = 별 4개 이하"
   ]
  },
  {
   "cell_type": "code",
   "execution_count": 3,
   "metadata": {},
   "outputs": [
    {
     "data": {
      "text/plain": [
       "(177, 43)"
      ]
     },
     "execution_count": 3,
     "metadata": {},
     "output_type": "execute_result"
    }
   ],
   "source": [
    "good_cnt, bad_cnt = 0, 0\n",
    "for r in review_list:\n",
    "    if r['stars'] == 5:\n",
    "        good_cnt += 1\n",
    "    else:\n",
    "        bad_cnt += 1\n",
    "\n",
    "good_cnt, bad_cnt"
   ]
  },
  {
   "cell_type": "markdown",
   "metadata": {},
   "source": [
    "좋은 리뷰 및 나쁜 리뷰로 구분 후 저장"
   ]
  },
  {
   "cell_type": "code",
   "execution_count": 4,
   "metadata": {},
   "outputs": [
    {
     "data": {
      "text/plain": [
       "['[REVIEW_START]인사동, 북촌동, 종각 등등 근처에 갈곳두 많구\\r\\n숙소두 깨끗하구 너무 좋아요\\r\\n엘베를 2번 타야하는게 살짝 번거롭지만\\r\\n그거빼구 다 좋아요[REVIEW_END]',\n",
       " '[REVIEW_START]근처 볼거리 놀거리가 가까이 있어 편했으나 \\n조계사 고층뷰는 의미 없이 배정해 주었으며\\n객실 내 청결상태가 별로였음 욕조 머리카락, 수건의 먼지등\\n재방문 의사 없음[REVIEW_END]',\n",
       " '[REVIEW_START]2월21일(수) 오전7시경, 카운터에 계시던 남자 직원 불친절\\n방음 최악[REVIEW_END]']"
      ]
     },
     "execution_count": 4,
     "metadata": {},
     "output_type": "execute_result"
    }
   ],
   "source": [
    "reviews_good, reviews_bad = [], []\n",
    "for r in review_list:\n",
    "    if r['stars'] == 5:\n",
    "        reviews_good.append('[REVIEW_START]' + r['review'] + '[REVIEW_END]')\n",
    "    else:\n",
    "        reviews_bad.append('[REVIEW_START]' + r['review'] + '[REVIEW_END]')\n",
    "\n",
    "reviews_bad[:3]"
   ]
  },
  {
   "cell_type": "code",
   "execution_count": 5,
   "metadata": {},
   "outputs": [
    {
     "data": {
      "text/plain": [
       "'[REVIEW_START]인사동, 북촌동, 종각 등등 근처에 갈곳두 많구\\r\\n숙소두 깨끗하구 너무 좋아요\\r\\n엘베를 2번 타야하는게 살짝 번거롭지만\\r\\n그거빼구 다 좋아요[REVIEW_'"
      ]
     },
     "execution_count": 5,
     "metadata": {},
     "output_type": "execute_result"
    }
   ],
   "source": [
    "reviews_good_text = '\\n'.join(reviews_good)\n",
    "reviews_bad_text = '\\n'.join(reviews_bad)\n",
    "\n",
    "reviews_bad_text[:100]"
   ]
  },
  {
   "cell_type": "markdown",
   "metadata": {},
   "source": [
    "전처리 함수 작성"
   ]
  },
  {
   "cell_type": "code",
   "execution_count": 8,
   "metadata": {},
   "outputs": [
    {
     "data": {
      "text/plain": [
       "'[REVIEW_START]깨끗하고 너무 좋았어요[REVIEW_END]\\n[REVIEW_START]위치도 아주좋고 숙소도 깨끗하고 좋아요~[REVIEW_END]\\n[REVIEW_STAR'"
      ]
     },
     "execution_count": 8,
     "metadata": {},
     "output_type": "execute_result"
    }
   ],
   "source": [
    "import datetime\n",
    "from dateutil import parser\n",
    "\n",
    "def preprocess_reviews(path='./res/reviews.json'):\n",
    "    with open(path, 'r', encoding='utf-8') as f:\n",
    "        review_list = json.load(f)\n",
    "\n",
    "    reviews_good, reviews_bad = [], []\n",
    "\n",
    "    current_date = datetime.datetime.now()\n",
    "    date_boundary = current_date - datetime.timedelta(days=6*30)\n",
    "\n",
    "    for r in review_list:\n",
    "        review_date_str = r['date']\n",
    "        try:\n",
    "            review_date = parser.parse(review_date_str)\n",
    "        except (ValueError, TypeError):\n",
    "            review_date = current_date\n",
    "\n",
    "        if review_date < date_boundary:\n",
    "            continue\n",
    "\n",
    "        if r['stars'] == 5:\n",
    "            reviews_good.append('[REVIEW_START]' + r['review'] + '[REVIEW_END]')\n",
    "        else:\n",
    "            reviews_bad.append('[REVIEW_START]' + r['review'] + '[REVIEW_END]')\n",
    "\n",
    "    reviews_good_text = '\\n'.join(reviews_good)\n",
    "    reviews_bad_text = '\\n'.join(reviews_bad)\n",
    "\n",
    "    return reviews_good_text, reviews_bad_text\n",
    "\n",
    "good, bad = preprocess_reviews()\n",
    "good[:100]"
   ]
  },
  {
   "cell_type": "markdown",
   "metadata": {},
   "source": [
    "### 평가용 함수 작성"
   ]
  },
  {
   "cell_type": "markdown",
   "metadata": {},
   "source": [
    "평가 기준 설정\n",
    "- MT-Bench 논문 기반 Pairwise Comparision (=LLM 기반 평가)\n",
    "  - 비교하는 방식 vs. 점수 매기는 방식\n",
    "  - 점수라는게 애매 할 수 있음 (ex. 어느 정도의 요약 품질이 3점인가?)\n",
    "  - 경험상 점수보다는 비교가 상대적으로 더 정확한 편"
   ]
  },
  {
   "cell_type": "markdown",
   "metadata": {},
   "source": [
    "평가 스크립트 작성\n",
    "- MT-Bench 논문 Prompt에서 일부 단어만 수정 (ex. Korean summaries, accommodations)"
   ]
  },
  {
   "cell_type": "code",
   "execution_count": 9,
   "metadata": {},
   "outputs": [],
   "source": [
    "def pairwise_eval(reviews, answer_a, answer_b):\n",
    "    eval_prompt = f\"\"\"[System]\n",
    "Please act as an impartial judge and evaluate the quality of the Korean summaries provided by two\n",
    "AI assistants to the set of user reviews on accommodations displayed below. You should choose the assistant that\n",
    "follows the user’s instructions and answers the user’s question better. Your evaluation\n",
    "should consider factors such as the helpfulness, relevance, accuracy, depth, creativity,\n",
    "and level of detail of their responses. Begin your evaluation by comparing the two\n",
    "responses and provide a short explanation. Avoid any position biases and ensure that the\n",
    "order in which the responses were presented does not influence your decision. Do not allow\n",
    "the length of the responses to influence your evaluation. Do not favor certain names of\n",
    "the assistants. Be as objective as possible. After providing your explanation, output your\n",
    "final verdict by strictly following this format: \"[[A]]\" if assistant A is better, \"[[B]]\"\n",
    "if assistant B is better, and \"[[C]]\" for a tie.\n",
    "[User Reviews]\n",
    "{reviews}\n",
    "[The Start of Assistant A’s Answer]\n",
    "{answer_a}\n",
    "[The End of Assistant A’s Answer]\n",
    "[The Start of Assistant B’s Answer]\n",
    "{answer_b}\n",
    "[The End of Assistant B’s Answer]\"\"\"\n",
    "    \n",
    "    completion = client.chat.completions.create(\n",
    "        model='gpt-4o-2024-05-13',\n",
    "        messages=[{'role': 'user', 'content': eval_prompt}],\n",
    "        temperature=0.0\n",
    "    )\n",
    "\n",
    "    return completion"
   ]
  },
  {
   "cell_type": "markdown",
   "metadata": {},
   "source": [
    "### Baseline 모델 개발"
   ]
  },
  {
   "cell_type": "code",
   "execution_count": 10,
   "metadata": {},
   "outputs": [],
   "source": [
    "PROMPT_BASELINE = f\"\"\"아래 숙소 리뷰에 대해 5문장 내로 요약해줘:\"\"\""
   ]
  },
  {
   "cell_type": "code",
   "execution_count": 11,
   "metadata": {},
   "outputs": [
    {
     "name": "stdout",
     "output_type": "stream",
     "text": [
      "다양한 리뷰 중에서는 \"깨끗하고 위치가 좋아서 만족스러웠다\"가 요약될 수 있겠네요.\n"
     ]
    }
   ],
   "source": [
    "reviews, _ = preprocess_reviews(path='./res/reviews.json')\n",
    "\n",
    "def summarize(reviews, prompt, temperature=0.0, model='gpt-3.5-turbo-0125'):\n",
    "    prompt = prompt + '\\n\\n' + reviews\n",
    "\n",
    "    completion = client.chat.completions.create(\n",
    "        model=model,\n",
    "        messages=[{'role': 'user', 'content': prompt}],\n",
    "        temperature=temperature\n",
    "    )\n",
    "\n",
    "    return completion\n",
    "\n",
    "print(summarize(reviews, PROMPT_BASELINE).choices[0].message.content)"
   ]
  },
  {
   "cell_type": "code",
   "execution_count": 12,
   "metadata": {},
   "outputs": [],
   "source": [
    "summary_real_20240526 = '위치가 매우 우수한 숙박시설로, 인사동과 조계사, 경복궁 등 관광지에 도보로 이동할 수 있는 편리한 위치에 있습니다. 객실은 깔끔하며 직원들의 친절한 서비스와 청결한 시설이 인상적입니다. 주변에는 맛집과 편의시설이 많아 편리하며, 교통 접근성도 좋습니다. 전체적으로 만족도가 높고 자주 방문하고 싶은 곳으로 손꼽히는 숙소로 평가됩니다.'"
   ]
  },
  {
   "cell_type": "code",
   "execution_count": 13,
   "metadata": {},
   "outputs": [
    {
     "name": "stdout",
     "output_type": "stream",
     "text": [
      "Assistant A의 요약은 매우 간단하고 포괄적입니다. \"깨끗하고 위치가 좋아서 만족스러웠다\"는 리뷰의 핵심을 짧게 요약했지만, 세부적인 정보나 다양한 리뷰의 내용을 충분히 반영하지 못했습니다.\n",
      "\n",
      "반면, Assistant B의 요약은 더 구체적이고 상세합니다. 위치, 청결, 직원 서비스, 주변 편의시설, 교통 접근성 등 다양한 측면을 언급하며, 리뷰에서 언급된 여러 요소들을 잘 반영하고 있습니다. 또한, 전반적인 만족도와 재방문 의사까지 포함하여 리뷰의 전반적인 분위기를 잘 전달하고 있습니다.\n",
      "\n",
      "따라서, Assistant B의 요약이 더 도움이 되고, 리뷰의 내용을 더 정확하고 깊이 있게 반영했다고 판단됩니다.\n",
      "\n",
      "[[B]]\n"
     ]
    }
   ],
   "source": [
    "print(pairwise_eval(reviews, summarize(reviews, PROMPT_BASELINE).choices[0].message.content, summary_real_20240526).choices[0].message.content)"
   ]
  },
  {
   "cell_type": "markdown",
   "metadata": {},
   "source": [
    "### 대규모 평가 스크립트\n",
    "- 원래는 많은 수의 다양한 데이터에 대해 평가를 하지만, 동일한 Prompt에 대해 temperature 높여서 평가 진행"
   ]
  },
  {
   "cell_type": "code",
   "execution_count": 14,
   "metadata": {},
   "outputs": [
    {
     "data": {
      "text/plain": [
       "['다양한 고객들이 나인트리 인사동 숙소를 깨끗하고 위치가 좋다고 평가하며, 서비스와 시설에 대해 긍정적 평가를 했다. 위치가 편리하고 주변에 맛집이 많아 만족하며, 특히 교통과 위치가 최고의 장점으로 꼽는다. 가격 대비 시설이 좋고, 편한 휴식을 취할 수 있는 좋은 숙박을 경험했다. Car park charges are a downside but overall, the stay was comfortable and satisfactory.',\n",
       " '다양한 리뷰에서 숙소가 깨끗하고 위치가 좋다는 호평을 받고, 일부 방음이 조금 아쉽다는 언급도 있었습니다. 종종 이용하는 손님들도 있고, 가성비가 좋아서 재방문하고 싶다는 의견도 있었습니다.친절한 직원과 청결한 시설에 대한 긍정적인 평가가 많이 있습니다.',\n",
       " '다양한 리뷰 속에서 호텔의 위치, 깨끗함, 서비스, 시설 등에 대한 긍정적인 평가가 많았어요. 특히 인사동과의 접근성이 좋다는 평가가 많았습니다. 앞으로도 자주 이용하고 싶은 호텔로 손꼽히는 곳이었어요.',\n",
       " '다양한 리뷰 중에서 숙소 위치와 청결도에 대한 긍정적 평가가 많이 나왔습니다. 고객들은 대체로 만족하며 깔끔하고 좋은 서비스를 경험했다는 의견을 남겼습니다. 숙소 위치가 인사동이나 주변 관광지에 인근하여 관광하기에 편리하다는 점도 많이 언급되었습니다. 서비스나 시설 등 모든 면에서 만족스러운 경험을 한 고객들이 많았습니다.',\n",
       " '다양한 리뷰들 중에는 \"깨끗하고 위치 좋음\" \"시설 만족도 높고 관광지 인근\" \"인사동 접근성 좋고 교통도 편리\" \"친절한 직원들과 편안한 휴식\" \"가격 대비 만족도 높음\" 등이 있다.',\n",
       " '다양한 리뷰 중 \"깨끗하고 위치가 좋다\"는 내용이 주로 나타나는 것 같습니다. 위치와 청결도에 대한 언급이 많이 보여집니다.',\n",
       " '다양한 리뷰가 있지만 전반적으로 깨끗한 시설과 좋은 위치에 대한 만족이 높은 숙소로 요약할 수 있겠어요.',\n",
       " '다른 이용객들이 숙소를 깨끗하고 위치가 좋아서 만족하며 쉬고 놀았고, 특히 주변 관광지와 교통이 좋은 곳이라고 할 때가 있었어요.',\n",
       " '다양한 리뷰들 중에는 깨끗하고 위치가 좋다는 긍정적인 평가도 있지만, 방음이 아쉽다는 의견도 있었고, 특히 인사동과 위치가 좋다는 리뷰가 많이 있었습니다. 추천과 재방문 의사를 밝힌 리뷰도 있어서 전반적으로 만족스러운 경험을 한 것으로 보입니다.',\n",
       " '다양한 리뷰를 요약해보면, \"인사동 인근에 위치한 나인트리 호텔은 깨끗하고 좋은 시설을 제공하며, 교통이 편리하고 주변 관광지에 접근성이 좋아 만족도가 높은 숙소로 평가 받고 있습니다.\"']"
      ]
     },
     "execution_count": 14,
     "metadata": {},
     "output_type": "execute_result"
    }
   ],
   "source": [
    "eval_count = 10\n",
    "\n",
    "summaries_baseline = [summarize(reviews, PROMPT_BASELINE, temperature=1.0).choices[0].message.content for _ in range(eval_count)]\n",
    "summaries_baseline"
   ]
  },
  {
   "cell_type": "code",
   "execution_count": 15,
   "metadata": {},
   "outputs": [
    {
     "name": "stderr",
     "output_type": "stream",
     "text": [
      "100%|██████████| 10/10 [00:54<00:00,  5.49s/it]"
     ]
    },
    {
     "name": "stdout",
     "output_type": "stream",
     "text": [
      "Wins: 0, Losses: 10, Ties: 0\n"
     ]
    },
    {
     "name": "stderr",
     "output_type": "stream",
     "text": [
      "\n"
     ]
    }
   ],
   "source": [
    "from tqdm import tqdm\n",
    "\n",
    "\n",
    "def pairwise_eval_batch(reviews, answers_a, answers_b):\n",
    "    a_cnt, b_cnt, draw_cnt = 0, 0, 0\n",
    "    for i in tqdm(range(len(answers_a))):\n",
    "        completion = pairwise_eval(reviews, answers_a[i], answers_b[i])\n",
    "        verdict_text = completion.choices[0].message.content\n",
    "\n",
    "        if '[[A]]' in verdict_text:\n",
    "            a_cnt += 1\n",
    "        elif '[[B]]' in verdict_text:\n",
    "            b_cnt += 1\n",
    "        elif '[[C]]' in verdict_text:\n",
    "            draw_cnt += 1\n",
    "        else:\n",
    "            print('Evaluation Error')\n",
    "\n",
    "    return a_cnt, b_cnt, draw_cnt\n",
    "\n",
    "wins, losses, ties = pairwise_eval_batch(reviews, summaries_baseline, [summary_real_20240526 for _ in range(len(summaries_baseline))])\n",
    "print(f'Wins: {wins}, Losses: {losses}, Ties: {ties}')"
   ]
  },
  {
   "cell_type": "markdown",
   "metadata": {},
   "source": [
    "### 모델 고도화 1 - 조건들 명시"
   ]
  },
  {
   "cell_type": "code",
   "execution_count": 17,
   "metadata": {},
   "outputs": [
    {
     "name": "stderr",
     "output_type": "stream",
     "text": [
      "100%|██████████| 10/10 [00:52<00:00,  5.26s/it]"
     ]
    },
    {
     "name": "stdout",
     "output_type": "stream",
     "text": [
      "Wins: 2, Losses: 8, Ties: 0\n"
     ]
    },
    {
     "name": "stderr",
     "output_type": "stream",
     "text": [
      "\n"
     ]
    }
   ],
   "source": [
    "prompt = f\"\"\"당신은 요약 전문가입니다. 사용자 숙소 리뷰들이 주어졌을 때 요약하는 것이 당신의 목표입니다.\n",
    "\n",
    "요약 결과는 다음 조건들을 충족해야 합니다:\n",
    "1. 모든 문장은 항상 존댓말로 끝나야 합니다.\n",
    "2. 숙소에 대해 소개하는 톤앤매너로 작성해주세요.\n",
    "  2-1. 좋은 예시\n",
    "    a) 전반적으로 좋은 숙소였고 방음도 괜찮았다는 평입니다.\n",
    "    b) 재방문 예정이라는 평들이 존재합니다.\n",
    "  2-2. 나쁜 예시\n",
    "    a) 좋은 숙소였고 방음도 괜찮았습니다.\n",
    "    b) 재방문 예정입니다.\n",
    "3. 요약 결과는 최소 2문장, 최대 5문장 사이로 작성해주세요.\n",
    "    \n",
    "아래 숙소 리뷰들에 대해 요약해주세요:\"\"\"\n",
    "\n",
    "eval_count = 10\n",
    "summaries = [summarize(reviews, prompt, temperature=1.0).choices[0].message.content for _ in range(eval_count)]\n",
    "wins, losses, ties = pairwise_eval_batch(reviews, summaries, [summary_real_20240526 for _ in range(len(summaries))])\n",
    "print(f'Wins: {wins}, Losses: {losses}, Ties: {ties}')"
   ]
  },
  {
   "cell_type": "markdown",
   "metadata": {},
   "source": [
    "### 모델 고도화 2 - 입력 데이터의 품질 증가"
   ]
  },
  {
   "cell_type": "code",
   "execution_count": 30,
   "metadata": {},
   "outputs": [],
   "source": [
    "import datetime\n",
    "from dateutil import parser\n",
    "\n",
    "def preprocess_reviews(path='./res/reviews.json'):\n",
    "    with open(path, 'r', encoding='utf-8') as f:\n",
    "        review_list = json.load(f)\n",
    "\n",
    "    reviews_good, reviews_bad = [], []\n",
    "\n",
    "    current_date = datetime.datetime.now()\n",
    "    date_boundary = current_date - datetime.timedelta(days=6*30)\n",
    "\n",
    "    filtered_cnt = 0\n",
    "    for r in review_list:\n",
    "        review_date_str = r['date']\n",
    "        try:\n",
    "            review_date = parser.parse(review_date_str)\n",
    "        except (ValueError, TypeError):\n",
    "            review_date = current_date\n",
    "\n",
    "        if review_date < date_boundary:\n",
    "            continue\n",
    "        if len(r['review']) < 30:\n",
    "            filtered_cnt += 1\n",
    "            continue\n",
    "\n",
    "        if r['stars'] == 5:\n",
    "            reviews_good.append('[REVIEW_START]' + r['review'] + '[REVIEW_END]')\n",
    "        else:\n",
    "            reviews_bad.append('[REVIEW_START]' + r['review'] + '[REVIEW_END]')\n",
    "\n",
    "    reviews_good = reviews_good[:min(len(reviews_good), 50)]\n",
    "    reviews_bad = reviews_bad[:min(len(reviews_bad), 50)]\n",
    "\n",
    "    reviews_good_text = '\\n'.join(reviews_good)\n",
    "    reviews_bad_text = '\\n'.join(reviews_bad)\n",
    "\n",
    "    return reviews_good_text, reviews_bad_text\n",
    "\n",
    "reviews, _ = preprocess_reviews()"
   ]
  },
  {
   "cell_type": "code",
   "execution_count": 23,
   "metadata": {},
   "outputs": [
    {
     "name": "stderr",
     "output_type": "stream",
     "text": [
      "100%|██████████| 10/10 [00:49<00:00,  4.99s/it]"
     ]
    },
    {
     "name": "stdout",
     "output_type": "stream",
     "text": [
      "Wins: 7, Losses: 3, Ties: 0\n"
     ]
    },
    {
     "name": "stderr",
     "output_type": "stream",
     "text": [
      "\n"
     ]
    }
   ],
   "source": [
    "eval_count = 10\n",
    "summaries = [summarize(reviews, prompt, temperature=1.0, model='gpt-3.5-turbo-0125').choices[0].message.content for _ in range(eval_count)]\n",
    "wins, losses, ties = pairwise_eval_batch(reviews, summaries, [summary_real_20240526 for _ in range(len(summaries))])\n",
    "print(f'Wins: {wins}, Losses: {losses}, Ties: {ties}')"
   ]
  },
  {
   "cell_type": "markdown",
   "metadata": {},
   "source": [
    "### 모델 고도화 3 - Few-Shot Prompting"
   ]
  },
  {
   "cell_type": "code",
   "execution_count": 24,
   "metadata": {},
   "outputs": [
    {
     "name": "stderr",
     "output_type": "stream",
     "text": [
      "100%|██████████| 10/10 [00:59<00:00,  5.93s/it]"
     ]
    },
    {
     "name": "stdout",
     "output_type": "stream",
     "text": [
      "Wins: 4, Losses: 6, Ties: 0\n"
     ]
    },
    {
     "name": "stderr",
     "output_type": "stream",
     "text": [
      "\n"
     ]
    }
   ],
   "source": [
    "reviews_1shot, _ = preprocess_reviews('./res/ninetree_pangyo.json')\n",
    "summary_1shot = summarize(reviews_1shot, prompt, temperature=0.0, model='gpt-4-turbo-2024-04-09').choices[0].message.content\n",
    "prompt_1shot = f\"\"\"당신은 요약 전문가입니다. 사용자 숙소 리뷰들이 주어졌을 때 요약하는 것이 당신의 목표입니다.\n",
    "\n",
    "요약 결과는 다음 조건들을 충족해야 합니다:\n",
    "1. 모든 문장은 항상 존댓말로 끝나야 합니다.\n",
    "2. 숙소에 대해 소개하는 톤앤매너로 작성해주세요.\n",
    "  2-1. 좋은 예시\n",
    "    a) 전반적으로 좋은 숙소였고 방음도 괜찮았다는 평입니다.\n",
    "    b) 재방문 예정이라는 평들이 존재합니다.\n",
    "  2-2. 나쁜 예시\n",
    "    a) 좋은 숙소였고 방음도 괜찮았습니다.\n",
    "    b) 재방문 예정입니다.\n",
    "3. 요약 결과는 최소 2문장, 최대 5문장 사이로 작성해주세요.\n",
    "\n",
    "다음은 리뷰들과 요약 예시입니다.\n",
    "예시 리뷰들:\n",
    "{reviews_1shot}\n",
    "예시 요약 결과:\n",
    "{summary_1shot}\n",
    "    \n",
    "아래 숙소 리뷰들에 대해 요약해주세요:\"\"\"\n",
    "\n",
    "summaries = [summarize(reviews, prompt, temperature=1.0, model='gpt-3.5-turbo-0125').choices[0].message.content for _ in range(eval_count)]\n",
    "wins, losses, ties = pairwise_eval_batch(reviews, summaries, [summary_real_20240526 for _ in range(len(summaries))])\n",
    "print(f'Wins: {wins}, Losses: {losses}, Ties: {ties}')"
   ]
  },
  {
   "cell_type": "code",
   "execution_count": 25,
   "metadata": {},
   "outputs": [
    {
     "data": {
      "text/plain": [
       "['인사동과 조계사를 도보로 품은 최고의 위치에 위치한 숙소입니다. 주변 관광지와 교통도 편리하며 시설과 서비스 모두 최고라는 호평을 받고 있습니다. 깨끗하고 편안한 만족스러운 숙박 경험을 제공받았습니다. 나인트리 인사동은 다양한 맛집과 편의시설이 가까이에 있어 편리한 여행을 즐길 수 있는 곳으로 추천합니다. 위치와 서비스 모두 최고로 평가받고 있으며 다음 서울 여행 때도 묵고 싶은 숙소로 손꼽힙니다.',\n",
       " '고품격 숙소로, 주변 관광지를 품은 최고의 입지를 자랑합니다. 3번째 방문자로서 좋은 평가를 받았고, 시설과 서비스로 최고의 숙소라는 평가를 받았습니다. 위치와 교통의 편리함을 강조한 후에, 다음 방문을 고려하고 있는 다양한 사용자 리뷰들이 있습니다. 위치와 가격, 시설로 인해 만족도가 높은 숙박 경험이 공유되고 있습니다.',\n",
       " '고객님의 소중한 후기를 요약해드리겠습니다. \\n숙소는 말할 것도 없이 주변에 있는 인사동과 조계사 위로 경복궁까지 도보로 품은 입지가 최고의 장점입니다. \\n모든 편의시설이 완벽하게 갖춰져 있어서 편안하고 편리한 숙박을 경험하실 수 있습니다. 이번에도 편안하게 휴식을 취하고 오셨다는 후기들이 많아요^^',\n",
       " '인사동과 조계사를 도보로 품은 최적의 입지에 위치한 숙소입니다. 관광지와 교통이 편리하여 재방문하고 싶은 인기 숙박지입니다. 시설과 서비스 모두 뛰어나며, 깨끗하고 편안한 휴식을 제공받을 수 있습니다. 위치와 교통편이 좋아 즐거운 여행을 즐기기에 최적의 선택입니다. 호캉스나 가족 여행에 추천드리는 숙소입니다.',\n",
       " '고퀄리티의 숙소인 나인트리인사동은 조계사와 경복궁을 도보로 즐길 수 있는 최고의 입지를 자랑합니다. 위치와 교통이 훌륭한 이 숙소는 시설과 서비스가 빠짐없이 완벽하여, 편안한 휴식을 제공합니다. 또한, 인사동의 관광지와 가까운 위치로 여행객들에게 강력한 선택지로 손꼽힙니다. 맛집이나 볼거리를 찾으러다니기에도 최적의 환경을 제공합니다. 최고의 위치와 서비스로 과거 방문한 고객들의 기대를 충족시켜, 만족도를 높이는 나인트리인사동은 당신의 다음 서울 여행지로 추천할 만한 숙소입니다.',\n",
       " '고품격 숙박을 원한다면 인사동의 위치가 최고인 나인트리인사동을 추천드립니다. 관광지와 교통이 편리하며 시설과 서비스 모두 최상급으로 만족스러운 숙박을 경험하실 수 있습니다. 공용시설도 깨끗하고 직원분들의 친절한 서비스가 인상적이었습니다. 위치, 서비스, 시설 등 모든면에서 최고의 선택이었습니다.',\n",
       " '고요한 인사동과 조계사, 경복궁이 인접한 숙소입니다. 3번째 방문인데 주변 관광지와 교통이 편리한 좋은 곳이라고 합니다. 나인트리인사동은 시설, 위치, 서비스 모두 최고로 편안한 휴식을 제공합니다. 편안한 공간에서 조용한 여행을 즐기기에 좋은 곳이라고 평가받고 있습니다. 위치, 시설, 서비스가 모두 최고인 곳으로 추천받고 있습니다. 로비와 방은 넓고 깨끗하며, 서비스와 시설 모두 만족스러운 곳으로 호불호 없는 숙박을 기대할 수 있습니다.',\n",
       " '인사동과 조계사를 품은 숙소로, 근처 관광지와 교통이 편리하며 위치가 최고입니다. 시설과 서비스 모두 빠짐없이 최고 수준으로 만족스럽고, 깨끗하고 친절한 직원들이 있어 편안한 투숙을 경험하실 수 있습니다. 근처 맛집과 편의시설이 가까워 휴양을 즐기기에도 최적의 장소입니다. 추천드립니다! 😊👍',\n",
       " '고객들이 남긴 리뷰들을 종합해보면, 인사동과 조계사 위로 경복궁을 도보로 품은 최고의 입지를 자랑하는 숙소입니다. 주변 관광지와 교통이 편리하며, 시설과 서비스 모두 뛰어나다는 평가를 받고 있습니다. 또한, 깨끗하고 편안한 환경과 친절한 직원 분들이 인상적이라는 평이 많이 남아 있습니다. 종합하여 다음 서울 여행에도 또 방문하고 싶은 숙소로 손꼽히고 있습니다.',\n",
       " '서울 인사동에 위치한 나인트리 호텔은 주변 관광지와 교통이 편리한 최고의 숙소로 손꼽힙니다. 시설과 서비스 모두 뛰어나며, 위치 또한 인사동의 매력을 가장 잘 즐길 수 있는 곳으로 평가받고 있습니다. 숙소 내부는 깔끔하고 직원분들도 친절하여 편안한 휴식을 취할 수 있습니다. 또한, 주변 맛집들과의 접근성도 높아 가을에 다시 방문할 예정이라는 평가도 받고 있습니다. 최고의 가성비 숙소로 소비자들로부터 높은 만족도를 얻고 있습니다. 최상의 서비스와 시설을 제공하여 편안한 휴식을 즐길 수 있는 곳으로 강력 추천합니다.']"
      ]
     },
     "execution_count": 25,
     "metadata": {},
     "output_type": "execute_result"
    }
   ],
   "source": [
    "summaries"
   ]
  },
  {
   "cell_type": "code",
   "execution_count": 26,
   "metadata": {},
   "outputs": [
    {
     "name": "stderr",
     "output_type": "stream",
     "text": [
      "100%|██████████| 10/10 [00:50<00:00,  5.10s/it]"
     ]
    },
    {
     "name": "stdout",
     "output_type": "stream",
     "text": [
      "Wins: 9, Losses: 1, Ties: 0\n"
     ]
    },
    {
     "name": "stderr",
     "output_type": "stream",
     "text": [
      "\n"
     ]
    }
   ],
   "source": [
    "prompt_1shot = f\"\"\"당신은 요약 전문가입니다. 사용자 숙소 리뷰들이 주어졌을 때 요약하는 것이 당신의 목표입니다. 다음은 리뷰들과 요약 예시입니다.\n",
    "예시 리뷰들:\n",
    "{reviews_1shot}\n",
    "예시 요약 결과:\n",
    "{summary_1shot}\n",
    "    \n",
    "아래 숙소 리뷰들에 대해 요약해주세요:\"\"\"\n",
    "\n",
    "summaries = [summarize(reviews, prompt_1shot, temperature=1.0, model='gpt-3.5-turbo-0125').choices[0].message.content for _ in range(eval_count)]\n",
    "wins, losses, ties = pairwise_eval_batch(reviews, summaries, [summary_real_20240526 for _ in range(len(summaries))])\n",
    "print(f'Wins: {wins}, Losses: {losses}, Ties: {ties}')"
   ]
  },
  {
   "cell_type": "code",
   "execution_count": 27,
   "metadata": {},
   "outputs": [
    {
     "data": {
      "text/plain": [
       "['이 숙소는 인사동에 위치하여 주변 관광지와의 접근성이 매우 좋으며, 교통편 또한 편리하게 이용할 수 있습니다. 방과 시설 모두 깔끔하고 청결하며, 직원들의 친절한 서비스도 만족스러운 것으로 평가받고 있습니다. 특히 위치가 최고라고 극찬하는 리뷰도 많이 있습니다. 다만 일부 고객들은 방음이나 주차요금 등에 대한 아쉬움을 표현하기도 했습니다. 이 숙소는 관광객이나 가족 여행객들에게 매력적인 숙박지로 평가됩니다.',\n",
       " '요약 결과:\\n나인트리 인사동 호텔은 인사동 한복판에 위치하여 관광지까지 접근성이 뛰어나며, 시설과 서비스 모두 훌륭한 호텔로 평가받고 있습니다. 깨끗하고 친절한 직원들이 인상적이며, 청결도와 편의성을 높게 평가받고 있습니다. 또한 위치적으로도 매우 우수하며, 근처에 맛집과 명소가 많아 먹거리나 즐길 거리가 풍부합니다. 다만, 일부 리뷰에서 방음이나 주차요금 등에 대한 약간의 불만이 있었지만, 전반적으로 고객들의 만족도가 높은 호텔로써, 재방문 의사가 매우 높은 편입니다. 결과적으로 가성비로 높은 호텔로 평가받고 있습니다.',\n",
       " '요약:\\n나인트리 인사동은 숙소 자체의 품질이나 서비스, 위치 등에 대해 매우 높은 만족도를 보여주고 있습니다. 주변 인사동과 명동 등 관광지까지의 접근성도 좋고, 근처에 맛집과 편의시설이 많아 편리한 여행을 지낼 수 있습니다. 객실 청결도도 훌륭하며, 일부 소음이 있을 수는 있지만 전반적으로 가성비 좋은 호텔로 호텔 내시설, 위치, 서비스 등 모든면에서 만족을 느낀 고객들이 많은 편입니다.',\n",
       " '이 숙소는 대부분의 리뷰에서 위치가 좋고 깨끗하며 인사동과 관광지에 가까워서 편리하다는 평가를 받았습니다. 직원들의 친절함과 객실 청결도도 높게 평가받았으며, 가성비가 좋은 숙소로 확인되었습니다. 일부 방음이 아쉬운 점으로 지적되었지만 전반적으로 고객들의 만족도가 높았습니다.위치가 좋고 인사동과 가까운 숙소라는 점이 많은 이용자들에게 만족을 준 것으로 나타났습니다.',\n",
       " '이 숙소는 위치가 매우 훌륭하며, 교통편도 좋고 주변 관광지와 맛집들에 접근성이 좋은 것으로 유명합니다. 또한, 청결도와 시설 상태도 우수하며, 직원분들의 친절한 서비스가 인상적입니다. 다음에도 또 방문하고 싶은 곳으로 평가받고 있습니다. 전체적으로 가격 대비 만족도가 높은 숙소로, 깨끗하고 편안한 숙박을 경험할 수 있다는 평가가 많습니다. 개선이 필요한 점으로는 일부 리뷰에서 방음이 아쉬움을 표현한 점이 있습니다.하지만, 전반적으로 다양한 요인들이 만족스러운 투숙 경험을 제공하는 것으로 나타났습니다.',\n",
       " '예시 숙소 리뷰들에 대한 요약 결과:\\n나인트리 인사동은 위치가 최고로 평가받는 숙소로, 주변 관광지와 교통이 편리하다는 평이 많이 나왔습니다. 숙소 자체는 깔끔하고 침구도 편안하며, 직원들의 친절한 서비스도 언급되었습니다. 방음이 약간 아쉬운 점이지만, 가성비와 위치의 장점이 크게 강조되고 있습니다. 음식점이나 놀거리가 많이 있는 인사동과 인접해있어 다양한 활동을 할 수 있는 점이 좋은 평가를 받은 숙소입니다.',\n",
       " '이 숙소는 주변 관광지와 교통이 편리한 위치에 있어 많은 만족도를 얻고 있습니다. 숙소 자체의 청결도와 시설 또한 높은 평가를 받았고, 직원들의 친절함도 좋은 평가를 받았습니다. 주변에 맛집과 편의시설이 잘 갖춰져 있어 다양한 즐길거리가 있어요. 다만, 일부 리뷰에서는 방음이 조금 아쉽다는 의견이 있었습니다. 전반적으로 쾌적하고 편리한 환경에서 편안하게 머무를 수 있는 숙소로 손님들의 재방문 의사가 높은 것으로 보입니다.',\n",
       " '이 숙소는 다양한 리뷰를 통해 높은 만족도를 보여주고 있습니다. 주변 명소와 교통에 대한 접근성이 우수하며, 시설과 서비스 모두 고객들로부터 좋은 평가를 받고 있습니다. 특히 청결도와 위치에 대한 언급이 많으며, 직원의 친절함과 가격대비 만족도가 높게 평가되고 있습니다. 또한, 주변에 맛집이나 관광명소가 많아 즐거운 여행을 즐길 수 있다는 의견이 많이 나왔습니다. 전반적으로 교통편과 위치, 서비스, 시설 등에서 만족스러운 숙박 경험을 제공하는 숙소로 평가받고 있습니다.',\n",
       " '예시 숙소 리뷰들을 종합하여 요약하면, 나인트리 인사동은 위치가 매우 우수하고 시설 및 서비스에 대한 만족도가 높게 평가되는 숙소입니다. 주변 관광지와 교통 편의성이 좋아서 관광객들에게 인기가 있으며, 깨끗한 객실과 친절한 직원들이 인상적입니다. 또한, 파미어스몰과 인사동을 즐길 수 있는 위치가 큰 장점으로 손꼽힙니다. 다만, 일부 리뷰에서는 간혹 방음이 되지 않는 점에 대한 불만이 언급되었으나 전반적인 만족도가 높다는 내용을 요약할 수 있겠습니다.',\n",
       " '이 숙소는 고객들로부터 높은 만족도를 받고 있는 인사동 지점으로, 주변에 관광지와 교통편이 편리하다는 점이 많은 호평을 받고 있습니다. 또한, 위치적인 장점 외에도 깨끗하고 친절한 서비스, 청결한 객실 상태, 그리고 화장실 관리 등이 호텔을 더욱 매력적으로 만들고 있습니다. 주변의 맛집과 장소들을 즐기기에도 편리하고, 다양한 편의시설이 구비되어 있어 편안한 숙박을 즐길 수 있는 곳으로 손님들의 많은 호감을 받고 있는 것으로 보입니다.']"
      ]
     },
     "execution_count": 27,
     "metadata": {},
     "output_type": "execute_result"
    }
   ],
   "source": [
    "summaries"
   ]
  },
  {
   "cell_type": "code",
   "execution_count": 31,
   "metadata": {},
   "outputs": [],
   "source": [
    "reviews_1shot, _ = preprocess_reviews('./res/ninetree_pangyo.json')\n",
    "summary_1shot = summarize(reviews_1shot, prompt, temperature=0.0, model='gpt-4-turbo-2024-04-09').choices[0].message.content"
   ]
  },
  {
   "cell_type": "code",
   "execution_count": 32,
   "metadata": {},
   "outputs": [
    {
     "name": "stderr",
     "output_type": "stream",
     "text": [
      "100%|██████████| 10/10 [00:47<00:00,  4.77s/it]"
     ]
    },
    {
     "name": "stdout",
     "output_type": "stream",
     "text": [
      "Wins: 9, Losses: 1, Ties: 0\n"
     ]
    },
    {
     "name": "stderr",
     "output_type": "stream",
     "text": [
      "\n"
     ]
    }
   ],
   "source": [
    "reviews_2shot, _ = preprocess_reviews('./res/ninetree_yongsan.json')\n",
    "summary_2shot = summarize(reviews_2shot, prompt_1shot, temperature=0.0, model='gpt-4-turbo-2024-04-09').choices[0].message.content\n",
    "\n",
    "prompt_2shot = f\"\"\"당신은 요약 전문가입니다. 사용자 숙소 리뷰들이 주어졌을 때 요약하는 것이 당신의 목표입니다. 다음은 리뷰들과 요약 예시입니다.\n",
    "\n",
    "예시 리뷰들 1:\n",
    "{reviews_1shot}\n",
    "예시 요약 결과 1:\n",
    "{summary_1shot}\n",
    "\n",
    "예시 리뷰들 2:\n",
    "{reviews_2shot}\n",
    "예시 요약 결과 2:\n",
    "{summary_2shot}\n",
    "    \n",
    "아래 숙소 리뷰들에 대해 요약해주세요:\"\"\"\n",
    "\n",
    "summaries = [summarize(reviews, prompt_2shot, temperature=1.0, model='gpt-3.5-turbo-0125').choices[0].message.content for _ in range(eval_count)]\n",
    "wins, losses, ties = pairwise_eval_batch(reviews, summaries, [summary_real_20240526 for _ in range(len(summaries))])\n",
    "print(f'Wins: {wins}, Losses: {losses}, Ties: {ties}')"
   ]
  },
  {
   "cell_type": "code",
   "execution_count": 33,
   "metadata": {},
   "outputs": [
    {
     "data": {
      "text/plain": [
       "['이 호텔은 주변 관광지와 교통이 좋고 청결한 시설을 자랑합니다. 게스트는 위치의 편리성과 깨끗한 객실을 칭찬했으며, 직원의 친절함과 뷰에 대한 언급도 많이 나왔습니다. 다만 일부 리뷰에서는 방음에 대한 언급이 있지만 전체적으로 고객들은 만족하며 재방문하고 싶다는 의사를 밝혔습니다.격한 소리가 들린다는 의견이 있습니다. 이야기하는 소리가 들렸다.[REVIEW_END]',\n",
       " '이 숙소는 위치가 인사동 중심에 있어서 관광하기에 편리하며, 청결하고 깔끔한 시설을 자랑합니다. 많은 이용객들이 직원들의 친절함에 대해 언급하며, 교통 접근성도 좋다는 평을 받았습니다. 또한, 주변 시설과 맛집들이 풍부하여 편의성이 뛰어나다고 말했고, 다음에 또 방문하고 싶다는 의견이 많이 나타났습니다. 전반적으로 고객들은 이 숙소에서의 청결함, 위치, 서비스에 만족하며 재방문 의사가 높은 것으로 나타났습니다.',\n",
       " '요약 결과:\\n이 숙소는 높은 청결도, 편리한 위치, 그리고 친절한 직원들이 장점으로 꼽힙니다. 주변 관광지에 접근성이 좋고, 객실은 깔끔하며 시설도 모던합니다. 일부 방음이 아쉬운 점을 제외하고 객실 상태와 편의시설, 서비스 등에 매우 만족한 고객들이 많이 있습니다. 또한, 가격 대비 가성비가 높다는 평가도 받고 있습니다. 앞으로도 재방문하고 싶은 숙소로 손꼽히고 있습니다.',\n",
       " '이 숙소는 인사동과 주변 관광지에 위치하여 접근성이 뛰어나며, 깨끗한 시설과 친절한 서비스를 자랑합니다. 객실은 깔끔하고 편리한 시설을 갖추고 있어 다양한 이용객들로부터 좋은 후기를 받고 있습니다. 주변에 맛집이나 쇼핑 시설이 가까이에 있어서 이용자들의 만족도가 높고, 위치가 좋아 좋은 추억을 만들기에 적합한 숙소로 평가받고 있습니다. 방음이 좀 아쉬움이 있을 수 있지만, 전반적으로 고객들은 재방문 의사가 높은 호텔로서 호감을 표현하고 있습니다.',\n",
       " '이 숙소는 인사동과 조계사를 걸어서 즐길 수 있는 입지에 위치하여 접근성이 좋고, 교통편도 편리하다는 리뷰들이 많이 있습니다. 다양한 시설과 서비스로 만족을 준다는 평가도 있으며, 청결도와 방의 깔끔함에 대한 언급도 많이 보입니다. 주변 관광지와의 접근성, 침구의 편안함, 직원들의 친절함 등 다양한 면에서 호텔을 추천하는 의견들이 나타나고 있습니다. 또한, 명동이나 궁궐 등 주변 명소와의 접근성이 뛰어나다는 포인트도 언급되고 있습니다. 이 숙소에서의 체류를 즐기는 많은 이용자들의 만족도가 높다고 할 수 있습니다.',\n",
       " '위 숙소 리뷰들을 종합해보면, 이 숙소는 깔끔한 시설과 좋은 서비스로 손님들을 매력적으로 만드는 것으로 보입니다. 많은 손님들이 숙소의 위치가 인사동 근처에 있어 관광에 매우 용이하다고 언급하였습니다. 또한, 직원들의 친절함과 깨끗한 객실에 대한 긍정적인 평가가 많이 있습니다. 몇몇 리뷰에서는 방음이 부족하다는 의견이 있었지만, 전반적으로만족도가 높고 재방문 의사도 굉장히 높아 보입니다. 이 숙소는 인사동 관광이나 서울 여행에 이상적인 선택이라는 것을 강하게 시사합니다.',\n",
       " '이 숙소는 주변 관광지와 교통이 편리한 위치로 소문나 있습니다. 많은 이용객들이 체크인 과정과 객실의 청결함에 만족을 표현하고 있으며, 인근에 맛집이나 쇼핑 시설이 풍부하여 편리함을 누리기 좋다는 의견이 많습니다. 또한, 직원들의 친절함과 서비스도 높게 평가받고 있습니다. 다만, 일부 소음에 민감한 이용객들은 방음에 대한 부분적인 불만을 표현했으나, 총론적으로 호텔의 매력적인 위치와 서비스로 재방문 의사가 높은 것으로 보입니다.',\n",
       " '이 숙소는 주변 관광지와 교통 접근성이 뛰어나며 깨끗하고 편안한 숙소로 평가받고 있습니다. 다수의 리뷰에서 위치가 좋고 깔끔하며 친절한 서비스를 주목하고 있습니다. 특히 인사동과의 접근성이 좋아 관광하기에 편리하다는 의견이 많습니다. 다만 방음에 대한 조금의 불만이 있었지만, 전반적으로 만족도가 높은 편입니다. 이 숙소를 이용한 고객들은 재방문 의사가 높다고 평가하고 있습니다.',\n",
       " '이 숙소는 주변 인사동과 경복궁, 조계사 등 관광지를 도보로 편하게 즐길 수 있는 위치에 있습니다. 주변 시설과 교통이 편리하며, 깨끗한 호텔 시설과 친절한 직원이 인상적이라는 리뷰가 많이 있습니다. 또한, 가성비와 위치, 서비스 등 모든 면에서 만족도가 높게 평가되어 재방문 의사가 높은 호텔로 나타났습니다. 호텔내 청결도에 관한 이야기가 일부 있으나 대체적으로 만족스러운 여행을 보낸 고객 리뷰가 많았습니다.',\n",
       " '이 숙소는 주변 관광지와 교통이 좋아 인심좋은 직원과 깔끔한 객실 등으로 많은 호평을 받고 있습니다. 특히 인사동과 조계사, 경복궁 등 주요 관광지를 걸어다닐 수 있는 위치에 있어 접근성이 좋다는 평가를 받았습니다. 또한, 근처에 맛집과 편의시설이 많아 편리하게 머무르기에 좋다는 의견도 있습니다. 다만, 일부 리뷰에서는 방음에 대한 아쉬움을 표현한 것도 있습니다. 하지만, 전체적으로 고객들은 만족스러운 숙박 경험을 한 것으로 보입니다.']"
      ]
     },
     "execution_count": 33,
     "metadata": {},
     "output_type": "execute_result"
    }
   ],
   "source": [
    "summaries"
   ]
  },
  {
   "cell_type": "code",
   "execution_count": null,
   "metadata": {},
   "outputs": [],
   "source": []
  }
 ],
 "metadata": {
  "kernelspec": {
   "display_name": ".venv",
   "language": "python",
   "name": "python3"
  },
  "language_info": {
   "codemirror_mode": {
    "name": "ipython",
    "version": 3
   },
   "file_extension": ".py",
   "mimetype": "text/x-python",
   "name": "python",
   "nbconvert_exporter": "python",
   "pygments_lexer": "ipython3",
   "version": "3.12.3"
  }
 },
 "nbformat": 4,
 "nbformat_minor": 2
}
