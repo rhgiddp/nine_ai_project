{
 "cells": [
  {
   "cell_type": "markdown",
   "metadata": {},
   "source": [
    "## RAG 데이터 확보\n",
    "- Allganize의 RAG 데이터 중 금융 도메인 데이터 200개 활용"
   ]
  },
  {
   "cell_type": "code",
   "execution_count": 3,
   "metadata": {},
   "outputs": [
    {
     "name": "stderr",
     "output_type": "stream",
     "text": [
      "/Users/rein20/Documents/lectures/ai-service/retrieval-augmented-generation/.venv/lib/python3.12/site-packages/huggingface_hub/file_download.py:1194: UserWarning: `local_dir_use_symlinks` parameter is deprecated and will be ignored. The process to download files to a local folder has been updated and do not rely on symlinks anymore. You only need to pass a destination folder as`local_dir`.\n",
      "For more details, check out https://huggingface.co/docs/huggingface_hub/main/en/guides/download#download-files-to-local-folder.\n",
      "  warnings.warn(\n",
      "Fetching 4 files: 100%|██████████| 4/4 [00:00<00:00, 9828.48it/s]"
     ]
    },
    {
     "name": "stdout",
     "output_type": "stream",
     "text": [
      "\n"
     ]
    },
    {
     "name": "stderr",
     "output_type": "stream",
     "text": [
      "\n"
     ]
    }
   ],
   "source": [
    "# https://huggingface.co/datasets/allganize/rag-ko\n",
    "\n",
    "from huggingface_hub import snapshot_download\n",
    "\n",
    "snapshot_download(\n",
    "    repo_id='allganize/rag-ko',\n",
    "    repo_type='dataset',\n",
    "    local_dir='./res/rag-ko',\n",
    "    local_dir_use_symlinks=False\n",
    ")\n",
    "\n",
    "print()"
   ]
  },
  {
   "cell_type": "markdown",
   "metadata": {},
   "source": [
    "### 데이터 설명\n",
    "- 질문과 정답이 있고, 답변에 필요한 정보(Context)가 질문 별로 3개씩 존재\n",
    "  - 3개의 정보 중 하나가 실제로 필요한 정보이고, 나머지 2개는 필요하지 않은 정보\n",
    "- Column 별 설명\n",
    "  - system: 시스템 프롬프트 (Context 3개가 여기에 있음)\n",
    "  - humman: 질문\n",
    "  - answer_context_summary: 실제로 필요한 Context\n",
    "  - answer_position: 3개의 Context 중 몇 번째가 실제로 필요한 Context인지\n",
    "  - answer: 정답"
   ]
  },
  {
   "cell_type": "code",
   "execution_count": 4,
   "metadata": {},
   "outputs": [
    {
     "data": {
      "text/html": [
       "<div>\n",
       "<style scoped>\n",
       "    .dataframe tbody tr th:only-of-type {\n",
       "        vertical-align: middle;\n",
       "    }\n",
       "\n",
       "    .dataframe tbody tr th {\n",
       "        vertical-align: top;\n",
       "    }\n",
       "\n",
       "    .dataframe thead th {\n",
       "        text-align: right;\n",
       "    }\n",
       "</style>\n",
       "<table border=\"1\" class=\"dataframe\">\n",
       "  <thead>\n",
       "    <tr style=\"text-align: right;\">\n",
       "      <th></th>\n",
       "      <th>index</th>\n",
       "      <th>system</th>\n",
       "      <th>human</th>\n",
       "      <th>answer</th>\n",
       "      <th>answer_position</th>\n",
       "      <th>answer_context_title</th>\n",
       "      <th>answer_context_summary</th>\n",
       "    </tr>\n",
       "  </thead>\n",
       "  <tbody>\n",
       "    <tr>\n",
       "      <th>0</th>\n",
       "      <td>0</td>\n",
       "      <td>You are a financial expert.\\nYou are fluent at...</td>\n",
       "      <td>글로벌 저금리 현상이 부각된 원인은 무엇인가요?</td>\n",
       "      <td>글로벌 저금리 현상이 부각된 원인은 여러 가지입니다. 첫째, 2008년 글로벌 금융...</td>\n",
       "      <td>3</td>\n",
       "      <td>132579145651725164_KIFRT2021-02 (2)</td>\n",
       "      <td>2. 뉴노멀의 도래(신 3저의 도래)\\n최근 코로나 사태를 포함하여 2008년 글로...</td>\n",
       "    </tr>\n",
       "    <tr>\n",
       "      <th>1</th>\n",
       "      <td>1</td>\n",
       "      <td>You are a financial expert.\\nYou are fluent at...</td>\n",
       "      <td>고수익-고위험 부문으로의 쏠림현상에 대해 설명해주세요.</td>\n",
       "      <td>고수익-고위험 부문으로의 쏠림현상은 투자자들이 더 높은 수익률을 추구하기 위해 위험...</td>\n",
       "      <td>2</td>\n",
       "      <td>132579145651725164_KIFRT2021-02 (2)</td>\n",
       "      <td>축소되어 자산운용의 어려움이 가중\\n∙ 투자자 입장에서는 원하는 수익률을 얻기 어려...</td>\n",
       "    </tr>\n",
       "    <tr>\n",
       "      <th>2</th>\n",
       "      <td>2</td>\n",
       "      <td>You are a financial expert.\\nYou are fluent at...</td>\n",
       "      <td>20세기 이후 디지털화의 진전이 금융투자업의 사업모형과 산업구조에 어떤 영향을 미쳤...</td>\n",
       "      <td>20세기 이후 디지털화의 진전은 금융투자업의 사업모형과 산업구조에 큰 영향을 미쳤습...</td>\n",
       "      <td>1</td>\n",
       "      <td>132579145651725164_KIFRT2021-02 (2)</td>\n",
       "      <td>1. 디지털화의 진전과 금융투자업의 변화 : 20세기 이후\\n가. 1950~60년대...</td>\n",
       "    </tr>\n",
       "    <tr>\n",
       "      <th>3</th>\n",
       "      <td>3</td>\n",
       "      <td>You are a financial expert.\\nYou are fluent at...</td>\n",
       "      <td>2000년대 이후 글로벌 IB들이 어떤 전략을 추진하였나요?</td>\n",
       "      <td>2000년대 이후 글로벌 IB들은 스스로 전산화를 추진하였으며, 이와 밀접하게 연관...</td>\n",
       "      <td>3</td>\n",
       "      <td>132579145651725164_KIFRT2021-02 (2)</td>\n",
       "      <td>∙ 또한, 투자은행의 명성에 의존하는 대표적인 업무인 IPO, M&amp;A\\n등도 전산화...</td>\n",
       "    </tr>\n",
       "    <tr>\n",
       "      <th>4</th>\n",
       "      <td>4</td>\n",
       "      <td>You are a financial expert.\\nYou are fluent at...</td>\n",
       "      <td>금융시스템 개혁법은 언제 제정되었나요?</td>\n",
       "      <td>금융시스템 개혁법은 1998년에 제정되었습니다.</td>\n",
       "      <td>3</td>\n",
       "      <td>132579145651725164_KIFRT2021-02 (2)</td>\n",
       "      <td>및 일본 내 해외투자 수요를 포용하는데 적극적\\n일련의 변화과정에서 일본 금융당국의...</td>\n",
       "    </tr>\n",
       "    <tr>\n",
       "      <th>...</th>\n",
       "      <td>...</td>\n",
       "      <td>...</td>\n",
       "      <td>...</td>\n",
       "      <td>...</td>\n",
       "      <td>...</td>\n",
       "      <td>...</td>\n",
       "      <td>...</td>\n",
       "    </tr>\n",
       "    <tr>\n",
       "      <th>195</th>\n",
       "      <td>195</td>\n",
       "      <td>You are a financial expert.\\nYou are fluent at...</td>\n",
       "      <td>우리나라 은행들이 기업대출을 통해 외부자금을 필요로 하는 산업에 어떻게 기여하였나요?</td>\n",
       "      <td>우리나라 은행들은 기업대출을 통해 외부자금을 필요로 하는 산업에 자금을 효율적으로 ...</td>\n",
       "      <td>3</td>\n",
       "      <td>132859249008797508_FARPT21-06</td>\n",
       "      <td>... 긍정적인 측면과 부정적인 측면\\n∙ 우리나라 은행의 기업대출이 사업체 수 증...</td>\n",
       "    </tr>\n",
       "    <tr>\n",
       "      <th>196</th>\n",
       "      <td>196</td>\n",
       "      <td>You are a financial expert.\\nYou are fluent at...</td>\n",
       "      <td>은행의 기업대출이 중소기업의 부가가치 성장에 어떻게 기여하였는지 설명해주세요.</td>\n",
       "      <td>은행의 기업대출이 중소기업의 부가가치 성장에 기여하는 방식은 크게 두 가지로 볼 수...</td>\n",
       "      <td>2</td>\n",
       "      <td>132859249008797508_FARPT21-06</td>\n",
       "      <td>... 데\\n은행의 기업대출 대부분도 중소기업대출이어서 과연 은행이 중소기업대출을\\...</td>\n",
       "    </tr>\n",
       "    <tr>\n",
       "      <th>197</th>\n",
       "      <td>197</td>\n",
       "      <td>You are a financial expert.\\nYou are fluent at...</td>\n",
       "      <td>기업 저축의 역설에 대해 설명해주세요.</td>\n",
       "      <td>기업 저축의 역설이란, 기업들이 지나치게 많은 자금을 저축하면서 경제의 역동성이 상...</td>\n",
       "      <td>3</td>\n",
       "      <td>130328682579485000_KIFFS2013-08</td>\n",
       "      <td>... 현재의 기업 저축률은 불필요하게 높은 수준일 가능성을 시사\\n4. 2004년...</td>\n",
       "    </tr>\n",
       "    <tr>\n",
       "      <th>198</th>\n",
       "      <td>198</td>\n",
       "      <td>You are a financial expert.\\nYou are fluent at...</td>\n",
       "      <td>명목 경제 성장률이 높은 것이 경기호황을 의미하는 이유는 무엇인가요?</td>\n",
       "      <td>명목 경제 성장률이 높다는 것은 경기가 호황인 상태를 의미합니다. 이는 경제가 활발...</td>\n",
       "      <td>1</td>\n",
       "      <td>130328682579485000_KIFFS2013-08</td>\n",
       "      <td>...  비해 명목 성장률이 특별히 높았던 기간이 아니었다. 50) 먼저 2001년...</td>\n",
       "    </tr>\n",
       "    <tr>\n",
       "      <th>199</th>\n",
       "      <td>199</td>\n",
       "      <td>You are a financial expert.\\nYou are fluent at...</td>\n",
       "      <td>대기업들의 중소기업에 대한 부당행위를 근절하면 어떤 긍정적인 효과가 있을까요?</td>\n",
       "      <td>대기업들의 중소기업에 대한 부당행위를 근절하면, 중소기업이 받아야 할 몫을 중소기업...</td>\n",
       "      <td>1</td>\n",
       "      <td>130328682579485000_KIFFS2013-08</td>\n",
       "      <td>... \\n여전함을 적나라하게 보여 주고 있다. 62) 이러한 관행은 또한 중소기업...</td>\n",
       "    </tr>\n",
       "  </tbody>\n",
       "</table>\n",
       "<p>200 rows × 7 columns</p>\n",
       "</div>"
      ],
      "text/plain": [
       "     index                                             system  \\\n",
       "0        0  You are a financial expert.\\nYou are fluent at...   \n",
       "1        1  You are a financial expert.\\nYou are fluent at...   \n",
       "2        2  You are a financial expert.\\nYou are fluent at...   \n",
       "3        3  You are a financial expert.\\nYou are fluent at...   \n",
       "4        4  You are a financial expert.\\nYou are fluent at...   \n",
       "..     ...                                                ...   \n",
       "195    195  You are a financial expert.\\nYou are fluent at...   \n",
       "196    196  You are a financial expert.\\nYou are fluent at...   \n",
       "197    197  You are a financial expert.\\nYou are fluent at...   \n",
       "198    198  You are a financial expert.\\nYou are fluent at...   \n",
       "199    199  You are a financial expert.\\nYou are fluent at...   \n",
       "\n",
       "                                                 human  \\\n",
       "0                           글로벌 저금리 현상이 부각된 원인은 무엇인가요?   \n",
       "1                       고수익-고위험 부문으로의 쏠림현상에 대해 설명해주세요.   \n",
       "2    20세기 이후 디지털화의 진전이 금융투자업의 사업모형과 산업구조에 어떤 영향을 미쳤...   \n",
       "3                    2000년대 이후 글로벌 IB들이 어떤 전략을 추진하였나요?   \n",
       "4                                금융시스템 개혁법은 언제 제정되었나요?   \n",
       "..                                                 ...   \n",
       "195    우리나라 은행들이 기업대출을 통해 외부자금을 필요로 하는 산업에 어떻게 기여하였나요?   \n",
       "196        은행의 기업대출이 중소기업의 부가가치 성장에 어떻게 기여하였는지 설명해주세요.   \n",
       "197                              기업 저축의 역설에 대해 설명해주세요.   \n",
       "198             명목 경제 성장률이 높은 것이 경기호황을 의미하는 이유는 무엇인가요?   \n",
       "199        대기업들의 중소기업에 대한 부당행위를 근절하면 어떤 긍정적인 효과가 있을까요?   \n",
       "\n",
       "                                                answer  answer_position  \\\n",
       "0    글로벌 저금리 현상이 부각된 원인은 여러 가지입니다. 첫째, 2008년 글로벌 금융...                3   \n",
       "1    고수익-고위험 부문으로의 쏠림현상은 투자자들이 더 높은 수익률을 추구하기 위해 위험...                2   \n",
       "2    20세기 이후 디지털화의 진전은 금융투자업의 사업모형과 산업구조에 큰 영향을 미쳤습...                1   \n",
       "3    2000년대 이후 글로벌 IB들은 스스로 전산화를 추진하였으며, 이와 밀접하게 연관...                3   \n",
       "4                           금융시스템 개혁법은 1998년에 제정되었습니다.                3   \n",
       "..                                                 ...              ...   \n",
       "195  우리나라 은행들은 기업대출을 통해 외부자금을 필요로 하는 산업에 자금을 효율적으로 ...                3   \n",
       "196  은행의 기업대출이 중소기업의 부가가치 성장에 기여하는 방식은 크게 두 가지로 볼 수...                2   \n",
       "197  기업 저축의 역설이란, 기업들이 지나치게 많은 자금을 저축하면서 경제의 역동성이 상...                3   \n",
       "198  명목 경제 성장률이 높다는 것은 경기가 호황인 상태를 의미합니다. 이는 경제가 활발...                1   \n",
       "199  대기업들의 중소기업에 대한 부당행위를 근절하면, 중소기업이 받아야 할 몫을 중소기업...                1   \n",
       "\n",
       "                    answer_context_title  \\\n",
       "0    132579145651725164_KIFRT2021-02 (2)   \n",
       "1    132579145651725164_KIFRT2021-02 (2)   \n",
       "2    132579145651725164_KIFRT2021-02 (2)   \n",
       "3    132579145651725164_KIFRT2021-02 (2)   \n",
       "4    132579145651725164_KIFRT2021-02 (2)   \n",
       "..                                   ...   \n",
       "195        132859249008797508_FARPT21-06   \n",
       "196        132859249008797508_FARPT21-06   \n",
       "197      130328682579485000_KIFFS2013-08   \n",
       "198      130328682579485000_KIFFS2013-08   \n",
       "199      130328682579485000_KIFFS2013-08   \n",
       "\n",
       "                                answer_context_summary  \n",
       "0    2. 뉴노멀의 도래(신 3저의 도래)\\n최근 코로나 사태를 포함하여 2008년 글로...  \n",
       "1    축소되어 자산운용의 어려움이 가중\\n∙ 투자자 입장에서는 원하는 수익률을 얻기 어려...  \n",
       "2    1. 디지털화의 진전과 금융투자업의 변화 : 20세기 이후\\n가. 1950~60년대...  \n",
       "3    ∙ 또한, 투자은행의 명성에 의존하는 대표적인 업무인 IPO, M&A\\n등도 전산화...  \n",
       "4    및 일본 내 해외투자 수요를 포용하는데 적극적\\n일련의 변화과정에서 일본 금융당국의...  \n",
       "..                                                 ...  \n",
       "195  ... 긍정적인 측면과 부정적인 측면\\n∙ 우리나라 은행의 기업대출이 사업체 수 증...  \n",
       "196  ... 데\\n은행의 기업대출 대부분도 중소기업대출이어서 과연 은행이 중소기업대출을\\...  \n",
       "197  ... 현재의 기업 저축률은 불필요하게 높은 수준일 가능성을 시사\\n4. 2004년...  \n",
       "198  ...  비해 명목 성장률이 특별히 높았던 기간이 아니었다. 50) 먼저 2001년...  \n",
       "199  ... \\n여전함을 적나라하게 보여 주고 있다. 62) 이러한 관행은 또한 중소기업...  \n",
       "\n",
       "[200 rows x 7 columns]"
      ]
     },
     "execution_count": 4,
     "metadata": {},
     "output_type": "execute_result"
    }
   ],
   "source": [
    "import pandas as pd\n",
    "\n",
    "\n",
    "df = pd.read_parquet('./res/rag-ko/data/test-00000-of-00001.parquet')\n",
    "df"
   ]
  },
  {
   "cell_type": "code",
   "execution_count": 5,
   "metadata": {},
   "outputs": [
    {
     "name": "stdout",
     "output_type": "stream",
     "text": [
      "You are a financial expert.\n",
      "You are fluent at Korean.\n",
      "Answer the question to User in CONTEXT.\n",
      "When using information from the CONTEXT, You should always cite the context ID number \"number\" using \"(ID: number)\" format.\n",
      "\n",
      "CONTEXT=\"\"\"\n",
      "(context 1)= Title: 132579145651725164_KIFRT2021-02 (2).pdf\n",
      "... 변화의 동인은 크게 두 가지로 분류할\n",
      "수 있다. 하나는 금융업계 전반에 부각되는 디지털화(digitalization)1)이고\n",
      "다른 하나는 저금리·저성장으로 대표되는 뉴노멀(new normal)이다.  ... . 뉴노멀의 특징으로는 금융투자\n",
      "및 자산운용의 어려움이 가중되는 경향, 고수익-고위험 부문으로의 쏠림\n",
      "현상 등의 위험요인과 함께 자산관리서비스 수요의 증가 등 대응 노력을\n",
      "살펴본다. 제III장은 디지털화 및 뉴노멀에 대응하는 해외 사례들을 살펴본다.  ... 뉴노멀의\n",
      "주요 특징인 저성장, 저금리 등은 일본의 금융투자업계가 30년 전부터 고민해\n",
      "온 문제이기 때문이다.  ... 제III장에서 살펴본 해외\n",
      "사례들에서 살펴본 금융투자업계 변화의 규칙성이 어느 정도 유지될 것이라는\n",
      "1 디지털화(digitalization)에 대한 ...\n",
      "\n",
      "(context 2)= Title: 132599894715831637_KIFFR20201-03 (2).pdf\n",
      "3. 문제점\n",
      "1) 기업신용위험 평가항목의 적정성\n",
      "글로벌 금융위기 이후 저금리 기조가 지속되었고, 최근 추가적으로\n",
      "금리가 하락함에 따라 이자보상배율 등의 지표들이 기업의 부실을\n",
      "측정하는 데 적정한 지표인지에 대한 검토가 필요\n",
      "기업신용위험 정 ... 작용할 것으로 예상\n",
      "저금리 기조가 지속되는 가운데 금융비용이 감소하여 이자보상배\n",
      "율이 기업의 부실을 가늠하는 지표로 적합한지에 대해 의문이\n",
      "발생\n",
      "더불어 코로나19 사태로 인한 중소기업에 대한 금융권 대출 만기\n",
      "연장 및 이자상환 유예조치로 이 ... 는 추세\n",
      "이러한 졸업비율 감소 현상의 원인으로 저조한 경기의 영향이\n",
      "있었던 것으로 추정되지만 개시연도를 기준으로 졸 ...\n",
      "\n",
      "(context 3)= Title: 132579145651725164_KIFRT2021-02 (2)\n",
      "2. 뉴노멀의 도래(신 3저의 도래)\n",
      "최근 코로나 사태를 포함하여 2008년 글로벌 금융위기 이후 전세계적인\n",
      "저금리·저성장 상황\n",
      "∙ 글로벌 금융위기를 극복하는 과정에서 미국, 유럽, 일본 등 주요국의\n",
      "완화적 통화정책으로 글로벌 저금리 현상이 부각\n",
      "∙ 코로나 팬데믹이 진정되더라도 글로벌 저금리 추세가 지속되는 가운\n",
      "데 우리나라의 저금리 기조도 장기화될 가능성이 높음. 이러한 추세는 글로벌 금융위기 이후의 전세계적인 완화적 통화정책과\n",
      "그 이전부터 이어진 경제구조적 요인이 혼재된 결과\n",
      "∙ 선진국의 성장세가 둔화되고, 신흥국이 성장하면서 글로벌 무역 불\n",
      "균형(global imbalance)이 심화되고 저축과잉현상(global savings\n",
      "glut) 발생\n",
      "∙ 기 ... 가.  ...\n",
      "\"\"\"\n",
      "\n"
     ]
    }
   ],
   "source": [
    "print(df.iloc[0]['system'])"
   ]
  },
  {
   "cell_type": "code",
   "execution_count": 6,
   "metadata": {},
   "outputs": [
    {
     "name": "stdout",
     "output_type": "stream",
     "text": [
      "2. 뉴노멀의 도래(신 3저의 도래)\n",
      "최근 코로나 사태를 포함하여 2008년 글로벌 금융위기 이후 전세계적인\n",
      "저금리·저성장 상황\n",
      "∙ 글로벌 금융위기를 극복하는 과정에서 미국, 유럽, 일본 등 주요국의\n",
      "완화적 통화정책으로 글로벌 저금리 현상이 부각\n",
      "∙ 코로나 팬데믹이 진정되더라도 글로벌 저금리 추세가 지속되는 가운\n",
      "데 우리나라의 저금리 기조도 장기화될 가능성이 높음. 이러한 추세는 글로벌 금융위기 이후의 전세계적인 완화적 통화정책과\n",
      "그 이전부터 이어진 경제구조적 요인이 혼재된 결과\n",
      "∙ 선진국의 성장세가 둔화되고, 신흥국이 성장하면서 글로벌 무역 불\n",
      "균형(global imbalance)이 심화되고 저축과잉현상(global savings\n",
      "glut) 발생\n",
      "∙ 기 ... 가.  ...\n"
     ]
    }
   ],
   "source": [
    "print(df.iloc[0]['answer_context_summary'])"
   ]
  },
  {
   "cell_type": "markdown",
   "metadata": {},
   "source": [
    "시스템 프롬프트에서 3개의 Context를 파싱"
   ]
  },
  {
   "cell_type": "code",
   "execution_count": 7,
   "metadata": {},
   "outputs": [
    {
     "name": "stdout",
     "output_type": "stream",
     "text": [
      "Context 1:\n",
      "... 변화의 동인은 크게 두 가지로 분류할\n",
      "수 있다. 하나는 금융업계 전반에 부각되는 디지털화(digitalization)1)이고\n",
      "다른 하나는 저금리·저성장으로 대표되는 뉴노멀(new normal)이다.  ... . 뉴노멀의 특징으로는 금융투자\n",
      "및 자산운용의 어려움이 가중되는 경향, 고수익-고위험 부문으로의 쏠림\n",
      "현상 등의 위험요인과 함께 자산관리서비스 수요의 증가 등 대응 노력을\n",
      "살펴본다. 제III장은 디지털화 및 뉴노멀에 대응하는 해외 사례들을 살펴본다.  ... 뉴노멀의\n",
      "주요 특징인 저성장, 저금리 등은 일본의 금융투자업계가 30년 전부터 고민해\n",
      "온 문제이기 때문이다.  ... 제III장에서 살펴본 해외\n",
      "사례들에서 살펴본 금융투자업계 변화의 규칙성이 어느 정도 유지될 것이라는\n",
      "1 디지털화(digitalization)에 대한 ...\n",
      "--------------------------------------------------\n",
      "Context 2:\n",
      "3. 문제점\n",
      "1) 기업신용위험 평가항목의 적정성\n",
      "글로벌 금융위기 이후 저금리 기조가 지속되었고, 최근 추가적으로\n",
      "금리가 하락함에 따라 이자보상배율 등의 지표들이 기업의 부실을\n",
      "측정하는 데 적정한 지표인지에 대한 검토가 필요\n",
      "기업신용위험 정 ... 작용할 것으로 예상\n",
      "저금리 기조가 지속되는 가운데 금융비용이 감소하여 이자보상배\n",
      "율이 기업의 부실을 가늠하는 지표로 적합한지에 대해 의문이\n",
      "발생\n",
      "더불어 코로나19 사태로 인한 중소기업에 대한 금융권 대출 만기\n",
      "연장 및 이자상환 유예조치로 이 ... 는 추세\n",
      "이러한 졸업비율 감소 현상의 원인으로 저조한 경기의 영향이\n",
      "있었던 것으로 추정되지만 개시연도를 기준으로 졸 ...\n",
      "--------------------------------------------------\n",
      "Context 3:\n",
      "2. 뉴노멀의 도래(신 3저의 도래)\n",
      "최근 코로나 사태를 포함하여 2008년 글로벌 금융위기 이후 전세계적인\n",
      "저금리·저성장 상황\n",
      "∙ 글로벌 금융위기를 극복하는 과정에서 미국, 유럽, 일본 등 주요국의\n",
      "완화적 통화정책으로 글로벌 저금리 현상이 부각\n",
      "∙ 코로나 팬데믹이 진정되더라도 글로벌 저금리 추세가 지속되는 가운\n",
      "데 우리나라의 저금리 기조도 장기화될 가능성이 높음. 이러한 추세는 글로벌 금융위기 이후의 전세계적인 완화적 통화정책과\n",
      "그 이전부터 이어진 경제구조적 요인이 혼재된 결과\n",
      "∙ 선진국의 성장세가 둔화되고, 신흥국이 성장하면서 글로벌 무역 불\n",
      "균형(global imbalance)이 심화되고 저축과잉현상(global savings\n",
      "glut) 발생\n",
      "∙ 기 ... 가.  ...\n",
      "--------------------------------------------------\n"
     ]
    }
   ],
   "source": [
    "import re\n",
    "\n",
    "def extract_contexts(system_prompt):\n",
    "    context_match = re.search(r'CONTEXT=\"\"\"\\n(.*?)\"\"\"', system_prompt, re.DOTALL)\n",
    "    if not context_match:\n",
    "        return []\n",
    "\n",
    "    context_text = context_match.group(1)\n",
    "\n",
    "    contexts = re.findall(r'\\(context \\d+\\)=(.*?)(?=\\n\\(context \\d+\\)=|\\Z)', context_text, re.DOTALL)\n",
    "\n",
    "    cleaned_contexts = []\n",
    "    for context in contexts:\n",
    "        lines = context.split('\\n')\n",
    "        cleaned_lines = [line for line in lines if not line.strip().startswith('Title:')]\n",
    "        cleaned_context = '\\n'.join(cleaned_lines).strip()\n",
    "        cleaned_contexts.append(cleaned_context)\n",
    "\n",
    "    return cleaned_contexts\n",
    "\n",
    "system_prompt = df.iloc[0]['system']\n",
    "\n",
    "extracted_contexts = extract_contexts(system_prompt)\n",
    "\n",
    "for i, context in enumerate(extracted_contexts, 1):\n",
    "    print(f\"Context {i}:\")\n",
    "    print(context)\n",
    "    print(\"-\" * 50)"
   ]
  },
  {
   "cell_type": "code",
   "execution_count": 8,
   "metadata": {},
   "outputs": [
    {
     "data": {
      "text/plain": [
       "True"
      ]
     },
     "execution_count": 8,
     "metadata": {},
     "output_type": "execute_result"
    }
   ],
   "source": [
    "extracted_contexts[2] == df.iloc[0]['answer_context_summary']"
   ]
  },
  {
   "cell_type": "code",
   "execution_count": 17,
   "metadata": {},
   "outputs": [],
   "source": [
    "contexts = []\n",
    "for i in range(len(df)):\n",
    "    system_prompt = df.iloc[i]['system']\n",
    "    extracted_contexts = extract_contexts(system_prompt)\n",
    "    contexts.append(extracted_contexts)"
   ]
  },
  {
   "cell_type": "code",
   "execution_count": 19,
   "metadata": {},
   "outputs": [],
   "source": [
    "questions = [df.iloc[i]['human'] for i in range(len(df))]\n",
    "contexts_answers_idxs = [df.iloc[i]['answer_position'] - 1 for i in range(len(df))]\n",
    "contexts_answers = [df.iloc[i]['answer_context_summary'] for i in range(len(df))]\n",
    "answers = [df.iloc[i]['answer'] for i in range(len(df))]"
   ]
  },
  {
   "cell_type": "code",
   "execution_count": 20,
   "metadata": {},
   "outputs": [],
   "source": [
    "import pickle\n",
    "\n",
    "rag_data = {\n",
    "    'questions': questions,\n",
    "    'contexts': contexts,\n",
    "    'contexts_answer_idx': contexts_answers_idxs,\n",
    "    'contexts_answers': contexts_answers,\n",
    "    'answers': answers\n",
    "}\n",
    "\n",
    "with open('./res/rag_data.pkl', 'wb') as f:\n",
    "    pickle.dump(rag_data, f)"
   ]
  },
  {
   "cell_type": "code",
   "execution_count": null,
   "metadata": {},
   "outputs": [],
   "source": []
  },
  {
   "cell_type": "code",
   "execution_count": null,
   "metadata": {},
   "outputs": [],
   "source": []
  },
  {
   "cell_type": "markdown",
   "metadata": {},
   "source": [
    "### Accuracy\n",
    "- 정답이 있는 상황이라 가장 정확한 평가\n",
    "- Reference 또는 정답이 있을 때만 사용 가능\n",
    "  - 실제로는 없는 경우가 대부분"
   ]
  },
  {
   "cell_type": "code",
   "execution_count": 17,
   "metadata": {},
   "outputs": [],
   "source": [
    "from utils import get_embedding, cosine_similarity\n",
    "\n",
    "\n",
    "embed_q = get_embedding(questions[0], model='text-embedding-3-large')\n",
    "embed_c0 = get_embedding(contexts[0][0], model='text-embedding-3-large')\n",
    "embed_c1 = get_embedding(contexts[0][1], model='text-embedding-3-large')\n",
    "embed_c2 = get_embedding(contexts[0][2], model='text-embedding-3-large')"
   ]
  },
  {
   "cell_type": "code",
   "execution_count": 18,
   "metadata": {},
   "outputs": [
    {
     "data": {
      "text/plain": [
       "0.40569577266770523"
      ]
     },
     "execution_count": 18,
     "metadata": {},
     "output_type": "execute_result"
    }
   ],
   "source": [
    "cosine_similarity(embed_q, embed_c0)"
   ]
  },
  {
   "cell_type": "code",
   "execution_count": 19,
   "metadata": {},
   "outputs": [
    {
     "data": {
      "text/plain": [
       "0.3971132998649471"
      ]
     },
     "execution_count": 19,
     "metadata": {},
     "output_type": "execute_result"
    }
   ],
   "source": [
    "cosine_similarity(embed_q, embed_c1)"
   ]
  },
  {
   "cell_type": "code",
   "execution_count": 20,
   "metadata": {},
   "outputs": [
    {
     "data": {
      "text/plain": [
       "0.5338592736227118"
      ]
     },
     "execution_count": 20,
     "metadata": {},
     "output_type": "execute_result"
    }
   ],
   "source": [
    "cosine_similarity(embed_q, embed_c2)"
   ]
  },
  {
   "cell_type": "markdown",
   "metadata": {},
   "source": [
    "### RAGAS\n",
    "- 정답이 없는 경우에도 사용이 가능한 평가 라이브러리\n",
    "- 기본으로 제공하는 평가용 System Prompt는 영문 기반이라 엄청 정확하진 않은 편"
   ]
  },
  {
   "cell_type": "code",
   "execution_count": 25,
   "metadata": {},
   "outputs": [
    {
     "name": "stderr",
     "output_type": "stream",
     "text": [
      "Evaluating: 100%|██████████| 2/2 [00:07<00:00,  3.89s/it]\n"
     ]
    },
    {
     "data": {
      "text/html": [
       "<div>\n",
       "<style scoped>\n",
       "    .dataframe tbody tr th:only-of-type {\n",
       "        vertical-align: middle;\n",
       "    }\n",
       "\n",
       "    .dataframe tbody tr th {\n",
       "        vertical-align: top;\n",
       "    }\n",
       "\n",
       "    .dataframe thead th {\n",
       "        text-align: right;\n",
       "    }\n",
       "</style>\n",
       "<table border=\"1\" class=\"dataframe\">\n",
       "  <thead>\n",
       "    <tr style=\"text-align: right;\">\n",
       "      <th></th>\n",
       "      <th>question</th>\n",
       "      <th>answer</th>\n",
       "      <th>contexts</th>\n",
       "      <th>ground_truth</th>\n",
       "      <th>context_recall</th>\n",
       "      <th>context_precision</th>\n",
       "    </tr>\n",
       "  </thead>\n",
       "  <tbody>\n",
       "    <tr>\n",
       "      <th>0</th>\n",
       "      <td>글로벌 저금리 현상이 부각된 원인은 무엇인가요?</td>\n",
       "      <td>hi</td>\n",
       "      <td>[... 둔갑하여 발생하였다. 쏠림현상을 해결할 수 있는 방법은, 원론적인 이\\n야...</td>\n",
       "      <td>글로벌 저금리 현상이 부각된 원인은 여러 가지입니다. 첫째, 2008년 글로벌 금융...</td>\n",
       "      <td>0.166667</td>\n",
       "      <td>1.0</td>\n",
       "    </tr>\n",
       "  </tbody>\n",
       "</table>\n",
       "</div>"
      ],
      "text/plain": [
       "                     question answer  \\\n",
       "0  글로벌 저금리 현상이 부각된 원인은 무엇인가요?     hi   \n",
       "\n",
       "                                            contexts  \\\n",
       "0  [... 둔갑하여 발생하였다. 쏠림현상을 해결할 수 있는 방법은, 원론적인 이\\n야...   \n",
       "\n",
       "                                        ground_truth  context_recall  \\\n",
       "0  글로벌 저금리 현상이 부각된 원인은 여러 가지입니다. 첫째, 2008년 글로벌 금융...        0.166667   \n",
       "\n",
       "   context_precision  \n",
       "0                1.0  "
      ]
     },
     "execution_count": 25,
     "metadata": {},
     "output_type": "execute_result"
    }
   ],
   "source": [
    "from datasets import Dataset \n",
    "import os\n",
    "from ragas import evaluate\n",
    "from ragas.metrics import faithfulness, answer_correctness, context_relevancy, context_recall, context_precision\n",
    "\n",
    "\n",
    "data_samples = {\n",
    "    'question': [questions[0]],\n",
    "    'answer': ['hi'],\n",
    "    'contexts' : [contexts[1]],\n",
    "    'ground_truth': [df.iloc[0]['answer']]\n",
    "}\n",
    "\n",
    "dataset = Dataset.from_dict(data_samples)\n",
    "\n",
    "score = evaluate(dataset,metrics=[context_recall, context_precision])\n",
    "score.to_pandas()"
   ]
  },
  {
   "cell_type": "code",
   "execution_count": 41,
   "metadata": {},
   "outputs": [
    {
     "data": {
      "text/plain": [
       "['... 변화의 동인은 크게 두 가지로 분류할\\n수 있다. 하나는 금융업계 전반에 부각되는 디지털화(digitalization)1)이고\\n다른 하나는 저금리·저성장으로 대표되는 뉴노멀(new normal)이다.  ... . 뉴노멀의 특징으로는 금융투자\\n및 자산운용의 어려움이 가중되는 경향, 고수익-고위험 부문으로의 쏠림\\n현상 등의 위험요인과 함께 자산관리서비스 수요의 증가 등 대응 노력을\\n살펴본다. 제III장은 디지털화 및 뉴노멀에 대응하는 해외 사례들을 살펴본다.  ... 뉴노멀의\\n주요 특징인 저성장, 저금리 등은 일본의 금융투자업계가 30년 전부터 고민해\\n온 문제이기 때문이다.  ... 제III장에서 살펴본 해외\\n사례들에서 살펴본 금융투자업계 변화의 규칙성이 어느 정도 유지될 것이라는\\n1 디지털화(digitalization)에 대한 ...',\n",
       " '3. 문제점\\n1) 기업신용위험 평가항목의 적정성\\n글로벌 금융위기 이후 저금리 기조가 지속되었고, 최근 추가적으로\\n금리가 하락함에 따라 이자보상배율 등의 지표들이 기업의 부실을\\n측정하는 데 적정한 지표인지에 대한 검토가 필요\\n기업신용위험 정 ... 작용할 것으로 예상\\n저금리 기조가 지속되는 가운데 금융비용이 감소하여 이자보상배\\n율이 기업의 부실을 가늠하는 지표로 적합한지에 대해 의문이\\n발생\\n더불어 코로나19 사태로 인한 중소기업에 대한 금융권 대출 만기\\n연장 및 이자상환 유예조치로 이 ... 는 추세\\n이러한 졸업비율 감소 현상의 원인으로 저조한 경기의 영향이\\n있었던 것으로 추정되지만 개시연도를 기준으로 졸 ...',\n",
       " '2. 뉴노멀의 도래(신 3저의 도래)\\n최근 코로나 사태를 포함하여 2008년 글로벌 금융위기 이후 전세계적인\\n저금리·저성장 상황\\n∙ 글로벌 금융위기를 극복하는 과정에서 미국, 유럽, 일본 등 주요국의\\n완화적 통화정책으로 글로벌 저금리 현상이 부각\\n∙ 코로나 팬데믹이 진정되더라도 글로벌 저금리 추세가 지속되는 가운\\n데 우리나라의 저금리 기조도 장기화될 가능성이 높음. 이러한 추세는 글로벌 금융위기 이후의 전세계적인 완화적 통화정책과\\n그 이전부터 이어진 경제구조적 요인이 혼재된 결과\\n∙ 선진국의 성장세가 둔화되고, 신흥국이 성장하면서 글로벌 무역 불\\n균형(global imbalance)이 심화되고 저축과잉현상(global savings\\nglut) 발생\\n∙ 기 ... 가.  ...']"
      ]
     },
     "execution_count": 41,
     "metadata": {},
     "output_type": "execute_result"
    }
   ],
   "source": [
    "contexts[0]"
   ]
  },
  {
   "cell_type": "code",
   "execution_count": 47,
   "metadata": {},
   "outputs": [
    {
     "data": {
      "text/plain": [
       "'글로벌 저금리 현상이 부각된 원인은 여러 가지입니다. 첫째, 2008년 글로벌 금융위기를 극복하는 과정에서 미국, 유럽, 일본 등 주요국의 완화적 통화정책이 있습니다. 둘째, 선진국의 성장세가 둔화되고, 신흥국이 성장하면서 글로벌 무역 불균형이 심화되고 저축과잉현상이 발생했습니다. 셋째, 기술발전에 따른 자본재 가격 하락과 신기술 혁신에 따른 수익률이 낮아져 경제 전체적인 유효투자가 감소했습니다. 넷째, 세계적인 인구증가율 감소 추세는 유효수요 및 자본의 한계생산성과 투자이익 및 투자증가율을 감소시켰습니다. 따라서 이러한 요인들이 복합적으로 작용하여 글로벌 저금리 현상이 부각되었습니다.'"
      ]
     },
     "execution_count": 47,
     "metadata": {},
     "output_type": "execute_result"
    }
   ],
   "source": [
    "df.iloc[0]['answer']"
   ]
  },
  {
   "cell_type": "code",
   "execution_count": 31,
   "metadata": {},
   "outputs": [
    {
     "data": {
      "text/plain": [
       "'...  금융소비자보호법 제정안 및 금융위설치법 개정안 141에 대해서 2. 주요 전자금융 및 핀테크 관련 사고·범죄 방지은 (1) 금융위원회이고 145\\n9) 금융소비자보호법 제정안 및 금융위설치법 개정안 141에 대해서 2. 주요 전자금융 및 핀테크 관련 사고·범죄 방지 ... 고 145은 153\\n9) 금융소비자보호법 제정안 및 금융위설치법 개정안 141에 대해서 2. 주요 전자금융 및 핀테크 관련 사고·범죄 방지은 (5) ... 보호법 제정안 및 금융위설치법 개정안 141에 대해서 2. 주요 전자금융 및 핀테크 관련 사고·범죄 방지은 2) 소비자접점 시스템 업그레이드이고 145은 156\\n9) 금융소비자보호법 제정안 및 금융위설치법 개정안 141에 대해서 2. 주요 전자금융 및 핀테크 관련 사고·범 ...'"
      ]
     },
     "execution_count": 31,
     "metadata": {},
     "output_type": "execute_result"
    }
   ],
   "source": [
    "contexts[i][0]"
   ]
  },
  {
   "cell_type": "code",
   "execution_count": 32,
   "metadata": {},
   "outputs": [
    {
     "data": {
      "text/plain": [
       "'2006-04 자본시장 관련법 통합에 따른 금융법 통합의 기본방향과 주요과제, 2006.7./이지언. 구본성\\n2006-03 신용정보업의 현안과 정책 과제, 2006.6./정재욱. 이상제.  ... 이석호\\n2005-04 금융지주회사의 효율적 운용을 위한 제도개선 방안 연구, 2005.12/이건범.  ... 기업 구조개혁 종합평가-, 2003.6./이상제. 김우진\\n2003-04 전자금융거래법 제정방향, 2003.4./강임호\\n2003-03 합리적인 은행금리결정시스템 정착방안, 2003.3./김상환\\n2003-02 공적자금 회 ... 손상호\\n2001-04 은행 수수료체계 선진화 방안, 2001.12./이재연\\n2001-03 은행법 개정방안, 2001.12./강종만.  ... 이건범. 정재욱\\n2000-07 국경간(Cross-border) 금융서비스 거래 확대에 따른 규제 재정비 방안, 2000. 12./김정한\\n.차백인\\n2000-06 금융기관 퇴출제도의 개 ...  금융기관 인허가제도 개선방안, 1999.12./권재중'"
      ]
     },
     "execution_count": 32,
     "metadata": {},
     "output_type": "execute_result"
    }
   ],
   "source": [
    "contexts[i][1]"
   ]
  },
  {
   "cell_type": "code",
   "execution_count": 33,
   "metadata": {},
   "outputs": [
    {
     "data": {
      "text/plain": [
       "'및 일본 내 해외투자 수요를 포용하는데 적극적\\n일련의 변화과정에서 일본 금융당국의 노력(일본판 빅뱅)이 크게 기여\\n했다는 평가\\n∙ 예를 들어, 금융시스템 개혁법(1998), 투신법 개정(2001), 증권거래\\n법 개정(2003), 금융상품거래법 제정(2006)\\n∙ 투자상품 범위 확대, 증권업 등록제로 변경, 업권별 자회사 제한\\n완화, 판매채널 규제 완화 등이 이루어짐. IV. 예상 시나리오와 금융투자업의 전망\\n1. 시나리오 설정의 전제\\n향후 자본시장은 전술한 환경요인들의 영향으로 다양한 규모와 형태의\\n금융투자업자들이 공존하는 산업구조로 변화해 나갈 것으로 예상\\n∙ 사업영역 차원에서 종합금융투자업자, 일부 ...'"
      ]
     },
     "execution_count": 33,
     "metadata": {},
     "output_type": "execute_result"
    }
   ],
   "source": [
    "contexts[i][2]"
   ]
  },
  {
   "cell_type": "code",
   "execution_count": 30,
   "metadata": {},
   "outputs": [
    {
     "data": {
      "text/plain": [
       "'금융시스템 개혁법은 1998년에 제정되었습니다.'"
      ]
     },
     "execution_count": 30,
     "metadata": {},
     "output_type": "execute_result"
    }
   ],
   "source": [
    "df.iloc[i]['answer']"
   ]
  },
  {
   "cell_type": "code",
   "execution_count": 27,
   "metadata": {},
   "outputs": [
    {
     "name": "stderr",
     "output_type": "stream",
     "text": [
      "Evaluating: 100%|██████████| 2/2 [00:08<00:00,  4.19s/it]\n"
     ]
    },
    {
     "name": "stdout",
     "output_type": "stream",
     "text": [
      "{'context_recall': 0.5000, 'context_precision': 1.0000}\n"
     ]
    },
    {
     "name": "stderr",
     "output_type": "stream",
     "text": [
      "Evaluating: 100%|██████████| 2/2 [00:05<00:00,  2.68s/it]\n"
     ]
    },
    {
     "name": "stdout",
     "output_type": "stream",
     "text": [
      "{'context_recall': 0.5000, 'context_precision': 1.0000}\n"
     ]
    },
    {
     "name": "stderr",
     "output_type": "stream",
     "text": [
      "Evaluating: 100%|██████████| 2/2 [00:08<00:00,  4.42s/it]\n"
     ]
    },
    {
     "name": "stdout",
     "output_type": "stream",
     "text": [
      "{'context_recall': 0.7500, 'context_precision': 1.0000}\n"
     ]
    },
    {
     "name": "stderr",
     "output_type": "stream",
     "text": [
      "Evaluating: 100%|██████████| 2/2 [00:04<00:00,  2.27s/it]\n"
     ]
    },
    {
     "name": "stdout",
     "output_type": "stream",
     "text": [
      "{'context_recall': 1.0000, 'context_precision': 1.0000}\n"
     ]
    },
    {
     "name": "stderr",
     "output_type": "stream",
     "text": [
      "Evaluating:  50%|█████     | 1/2 [00:01<00:01,  1.56s/it]"
     ]
    },
    {
     "ename": "KeyboardInterrupt",
     "evalue": "",
     "output_type": "error",
     "traceback": [
      "\u001b[0;31m---------------------------------------------------------------------------\u001b[0m",
      "\u001b[0;31mKeyboardInterrupt\u001b[0m                         Traceback (most recent call last)",
      "Cell \u001b[0;32mIn[27], line 11\u001b[0m\n\u001b[1;32m      2\u001b[0m data_samples \u001b[38;5;241m=\u001b[39m {\n\u001b[1;32m      3\u001b[0m     \u001b[38;5;124m'\u001b[39m\u001b[38;5;124mquestion\u001b[39m\u001b[38;5;124m'\u001b[39m: [questions[i]],\n\u001b[1;32m      4\u001b[0m     \u001b[38;5;124m'\u001b[39m\u001b[38;5;124manswer\u001b[39m\u001b[38;5;124m'\u001b[39m: [\u001b[38;5;124m'\u001b[39m\u001b[38;5;124mhi\u001b[39m\u001b[38;5;124m'\u001b[39m],\n\u001b[1;32m      5\u001b[0m     \u001b[38;5;124m'\u001b[39m\u001b[38;5;124mcontexts\u001b[39m\u001b[38;5;124m'\u001b[39m : [contexts[i]],\n\u001b[1;32m      6\u001b[0m     \u001b[38;5;124m'\u001b[39m\u001b[38;5;124mground_truth\u001b[39m\u001b[38;5;124m'\u001b[39m: [df\u001b[38;5;241m.\u001b[39miloc[i][\u001b[38;5;124m'\u001b[39m\u001b[38;5;124manswer\u001b[39m\u001b[38;5;124m'\u001b[39m]]\n\u001b[1;32m      7\u001b[0m }\n\u001b[1;32m      9\u001b[0m dataset \u001b[38;5;241m=\u001b[39m Dataset\u001b[38;5;241m.\u001b[39mfrom_dict(data_samples)\n\u001b[0;32m---> 11\u001b[0m score \u001b[38;5;241m=\u001b[39m \u001b[43mevaluate\u001b[49m\u001b[43m(\u001b[49m\u001b[43mdataset\u001b[49m\u001b[43m,\u001b[49m\u001b[43mmetrics\u001b[49m\u001b[38;5;241;43m=\u001b[39;49m\u001b[43m[\u001b[49m\u001b[43mcontext_recall\u001b[49m\u001b[43m,\u001b[49m\u001b[43m \u001b[49m\u001b[43mcontext_precision\u001b[49m\u001b[43m]\u001b[49m\u001b[43m)\u001b[49m\n\u001b[1;32m     12\u001b[0m \u001b[38;5;28mprint\u001b[39m(score)\n",
      "File \u001b[0;32m~/Documents/lectures/ai-service/retrieval-augmented-generation/.venv/lib/python3.12/site-packages/ragas/evaluation.py:230\u001b[0m, in \u001b[0;36mevaluate\u001b[0;34m(dataset, metrics, llm, embeddings, callbacks, in_ci, is_async, run_config, raise_exceptions, column_map)\u001b[0m\n\u001b[1;32m    227\u001b[0m scores \u001b[38;5;241m=\u001b[39m []\n\u001b[1;32m    228\u001b[0m \u001b[38;5;28;01mtry\u001b[39;00m:\n\u001b[1;32m    229\u001b[0m     \u001b[38;5;66;03m# get the results\u001b[39;00m\n\u001b[0;32m--> 230\u001b[0m     results \u001b[38;5;241m=\u001b[39m \u001b[43mexecutor\u001b[49m\u001b[38;5;241;43m.\u001b[39;49m\u001b[43mresults\u001b[49m\u001b[43m(\u001b[49m\u001b[43m)\u001b[49m\n\u001b[1;32m    231\u001b[0m     \u001b[38;5;28;01mif\u001b[39;00m results \u001b[38;5;241m==\u001b[39m []:\n\u001b[1;32m    232\u001b[0m         \u001b[38;5;28;01mraise\u001b[39;00m ExceptionInRunner()\n",
      "File \u001b[0;32m~/Documents/lectures/ai-service/retrieval-augmented-generation/.venv/lib/python3.12/site-packages/ragas/executor.py:131\u001b[0m, in \u001b[0;36mExecutor.results\u001b[0;34m(self)\u001b[0m\n\u001b[1;32m    129\u001b[0m executor_job\u001b[38;5;241m.\u001b[39mstart()\n\u001b[1;32m    130\u001b[0m \u001b[38;5;28;01mtry\u001b[39;00m:\n\u001b[0;32m--> 131\u001b[0m     \u001b[43mexecutor_job\u001b[49m\u001b[38;5;241;43m.\u001b[39;49m\u001b[43mjoin\u001b[49m\u001b[43m(\u001b[49m\u001b[43m)\u001b[49m\n\u001b[1;32m    132\u001b[0m \u001b[38;5;28;01mfinally\u001b[39;00m:\n\u001b[1;32m    133\u001b[0m     \u001b[38;5;241m.\u001b[39m\u001b[38;5;241m.\u001b[39m\u001b[38;5;241m.\u001b[39m\n",
      "File \u001b[0;32m/opt/homebrew/Cellar/python@3.12/3.12.3/Frameworks/Python.framework/Versions/3.12/lib/python3.12/threading.py:1147\u001b[0m, in \u001b[0;36mThread.join\u001b[0;34m(self, timeout)\u001b[0m\n\u001b[1;32m   1144\u001b[0m     \u001b[38;5;28;01mraise\u001b[39;00m \u001b[38;5;167;01mRuntimeError\u001b[39;00m(\u001b[38;5;124m\"\u001b[39m\u001b[38;5;124mcannot join current thread\u001b[39m\u001b[38;5;124m\"\u001b[39m)\n\u001b[1;32m   1146\u001b[0m \u001b[38;5;28;01mif\u001b[39;00m timeout \u001b[38;5;129;01mis\u001b[39;00m \u001b[38;5;28;01mNone\u001b[39;00m:\n\u001b[0;32m-> 1147\u001b[0m     \u001b[38;5;28;43mself\u001b[39;49m\u001b[38;5;241;43m.\u001b[39;49m\u001b[43m_wait_for_tstate_lock\u001b[49m\u001b[43m(\u001b[49m\u001b[43m)\u001b[49m\n\u001b[1;32m   1148\u001b[0m \u001b[38;5;28;01melse\u001b[39;00m:\n\u001b[1;32m   1149\u001b[0m     \u001b[38;5;66;03m# the behavior of a negative timeout isn't documented, but\u001b[39;00m\n\u001b[1;32m   1150\u001b[0m     \u001b[38;5;66;03m# historically .join(timeout=x) for x<0 has acted as if timeout=0\u001b[39;00m\n\u001b[1;32m   1151\u001b[0m     \u001b[38;5;28mself\u001b[39m\u001b[38;5;241m.\u001b[39m_wait_for_tstate_lock(timeout\u001b[38;5;241m=\u001b[39m\u001b[38;5;28mmax\u001b[39m(timeout, \u001b[38;5;241m0\u001b[39m))\n",
      "File \u001b[0;32m/opt/homebrew/Cellar/python@3.12/3.12.3/Frameworks/Python.framework/Versions/3.12/lib/python3.12/threading.py:1167\u001b[0m, in \u001b[0;36mThread._wait_for_tstate_lock\u001b[0;34m(self, block, timeout)\u001b[0m\n\u001b[1;32m   1164\u001b[0m     \u001b[38;5;28;01mreturn\u001b[39;00m\n\u001b[1;32m   1166\u001b[0m \u001b[38;5;28;01mtry\u001b[39;00m:\n\u001b[0;32m-> 1167\u001b[0m     \u001b[38;5;28;01mif\u001b[39;00m \u001b[43mlock\u001b[49m\u001b[38;5;241;43m.\u001b[39;49m\u001b[43macquire\u001b[49m\u001b[43m(\u001b[49m\u001b[43mblock\u001b[49m\u001b[43m,\u001b[49m\u001b[43m \u001b[49m\u001b[43mtimeout\u001b[49m\u001b[43m)\u001b[49m:\n\u001b[1;32m   1168\u001b[0m         lock\u001b[38;5;241m.\u001b[39mrelease()\n\u001b[1;32m   1169\u001b[0m         \u001b[38;5;28mself\u001b[39m\u001b[38;5;241m.\u001b[39m_stop()\n",
      "\u001b[0;31mKeyboardInterrupt\u001b[0m: "
     ]
    },
    {
     "name": "stderr",
     "output_type": "stream",
     "text": [
      "Evaluating: 100%|██████████| 2/2 [00:02<00:00,  1.50s/it]\n"
     ]
    }
   ],
   "source": [
    "for i in range(10):\n",
    "    data_samples = {\n",
    "        'question': [questions[i]],\n",
    "        'answer': ['hi'],\n",
    "        'contexts' : [contexts[i]],\n",
    "        'ground_truth': [df.iloc[i]['answer']]\n",
    "    }\n",
    "\n",
    "    dataset = Dataset.from_dict(data_samples)\n",
    "\n",
    "    score = evaluate(dataset,metrics=[context_recall, context_precision])\n",
    "    print(score)"
   ]
  },
  {
   "cell_type": "code",
   "execution_count": null,
   "metadata": {},
   "outputs": [],
   "source": []
  }
 ],
 "metadata": {
  "kernelspec": {
   "display_name": ".venv",
   "language": "python",
   "name": "python3"
  },
  "language_info": {
   "codemirror_mode": {
    "name": "ipython",
    "version": 3
   },
   "file_extension": ".py",
   "mimetype": "text/x-python",
   "name": "python",
   "nbconvert_exporter": "python",
   "pygments_lexer": "ipython3",
   "version": "3.12.3"
  }
 },
 "nbformat": 4,
 "nbformat_minor": 2
}
