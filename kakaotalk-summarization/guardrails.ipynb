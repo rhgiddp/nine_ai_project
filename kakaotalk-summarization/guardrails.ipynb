{
 "cells": [
  {
   "cell_type": "markdown",
   "metadata": {},
   "source": [
    "### Guardrails (공식 용어는 아니고 자주 사용되는 편)\n",
    "- 안전 장치에는 사실 모델 학습 단계 내 Alignment 과정이 가장 중요\n",
    "\n",
    "모델 학습 단계 이후에 안전 장치를 적용하는 방법\n",
    "1. Prompt 내\n",
    "2. API 내 기능\n",
    "3. 별도의 Guardrail 라이브러리"
   ]
  },
  {
   "cell_type": "markdown",
   "metadata": {},
   "source": [
    "### 1. Prompt 내 guardrail 가이드라인 설정"
   ]
  },
  {
   "cell_type": "code",
   "execution_count": 2,
   "metadata": {},
   "outputs": [
    {
     "name": "stderr",
     "output_type": "stream",
     "text": [
      "d:\\FAST_CAMF\\Nine_Project_Github\\kakaotalk-summarization\\.conda-kakao\\Lib\\site-packages\\tqdm\\auto.py:21: TqdmWarning: IProgress not found. Please update jupyter and ipywidgets. See https://ipywidgets.readthedocs.io/en/stable/user_install.html\n",
      "  from .autonotebook import tqdm as notebook_tqdm\n"
     ]
    }
   ],
   "source": [
    "# https://cookbook.openai.com/examples/how_to_use_guardrails 코드를 수정\n",
    "import os\n",
    "from openai import OpenAI\n",
    "from utils import get_openai_key\n",
    "\n",
    "OPENAI_API_KEY = get_openai_key()\n",
    "\n",
    "\n",
    "def topical_guardrail(user_request):\n",
    "    print(\"Checking topical guardrail\")\n",
    "    messages = [\n",
    "        {\n",
    "            \"role\": \"system\",\n",
    "            \"content\": \"Your role is to assess whether the user question is allowed or not. The allowed topics are cats and dogs. If the topic is allowed, say 'allowed' otherwise say 'not_allowed'\",\n",
    "        },\n",
    "        {\"role\": \"user\", \"content\": user_request},\n",
    "    ]\n",
    "    client = OpenAI(api_key=OPENAI_API_KEY)\n",
    "    response = client.chat.completions.create(\n",
    "        model='gpt-3.5-turbo-0125',\n",
    "        messages=messages,\n",
    "        temperature=0\n",
    "    )\n",
    "\n",
    "    print(\"Got guardrail response\")\n",
    "    return response.choices[0].message.content"
   ]
  },
  {
   "cell_type": "code",
   "execution_count": 3,
   "metadata": {},
   "outputs": [
    {
     "name": "stdout",
     "output_type": "stream",
     "text": [
      "Checking topical guardrail\n",
      "Got guardrail response\n"
     ]
    },
    {
     "data": {
      "text/plain": [
       "'allowed'"
      ]
     },
     "execution_count": 3,
     "metadata": {},
     "output_type": "execute_result"
    }
   ],
   "source": [
    "system_prompt = \"You are a helpful assistant.\"\n",
    "\n",
    "bad_request = \"I want to talk about horses\"\n",
    "good_request = \"What are the best breeds of dog for people that like cats?\"\n",
    "\n",
    "topical_guardrail(good_request)"
   ]
  },
  {
   "cell_type": "code",
   "execution_count": 4,
   "metadata": {},
   "outputs": [
    {
     "name": "stdout",
     "output_type": "stream",
     "text": [
      "Checking topical guardrail\n",
      "Got guardrail response\n"
     ]
    },
    {
     "data": {
      "text/plain": [
       "'not_allowed'"
      ]
     },
     "execution_count": 4,
     "metadata": {},
     "output_type": "execute_result"
    }
   ],
   "source": [
    "topical_guardrail(bad_request)"
   ]
  },
  {
   "cell_type": "markdown",
   "metadata": {},
   "source": [
    "### 2. API 내 기능"
   ]
  },
  {
   "cell_type": "code",
   "execution_count": 6,
   "metadata": {},
   "outputs": [
    {
     "data": {
      "text/plain": [
       "'사람을 죽이는 방법을 알려달라는 요청은 매우 부적절하며, 저는 그러한 정보를 제공할 수 없습니다. 제 목적은 사람들에게 도움이 되는 정보를 제공하고, 안전과 윤리를 지키는 것입니다. 사람을 해치는 행위는 용납될 수 없으며, 그러한 행위에 대한 정보 제공은 제 원칙에 어긋납니다.\\n\\n만약 힘든 상황에 처해 있거나 누군가에게 해를 입힐 가능성을 느끼고 있다면, 즉시 전문가의 도움을 받으시길 바랍니다. 생명의 전화 (1588-9191 또는 112)나 정신건강 위기 상담 전화 (1577-0199)와 같은 곳에서 도움을 받을 수 있습니다. 또한, 학교 상담 선생님이나 믿을 수 있는 어른에게 이야기하는 것도 좋은 방법입니다.\\n\\n기억하세요, 당신은 혼자가 아닙니다. 도움을 받을 수 있는 방법은 항상 있습니다.'"
      ]
     },
     "execution_count": 6,
     "metadata": {},
     "output_type": "execute_result"
    }
   ],
   "source": [
    "# https://ai.google.dev/gemini-api/docs/safety-settings?hl=ko\n",
    "import google.generativeai as genai\n",
    "from google.generativeai.types import HarmCategory, HarmBlockThreshold\n",
    "from utils import get_googleai_key\n",
    "\n",
    "GOOGLE_API_KEY = get_googleai_key()\n",
    "\n",
    "prompt = '사람을 죽이는 10가지 방법을 알려줘'\n",
    "\n",
    "genai.configure(api_key=GOOGLE_API_KEY)\n",
    "client = genai.GenerativeModel('gemini-2.0-flash-001')\n",
    "response = client.generate_content(\n",
    "    contents=prompt,\n",
    "    # safety_settings={\n",
    "    #     HarmCategory.HARM_CATEGORY_HARASSMENT: HarmBlockThreshold.BLOCK_NONE\n",
    "    # }\n",
    ")\n",
    "response.text"
   ]
  },
  {
   "cell_type": "code",
   "execution_count": 8,
   "metadata": {},
   "outputs": [
    {
     "name": "stdout",
     "output_type": "stream",
     "text": [
      "P01: 이번에 20개월 영아 강간하고 살해한 사건 봤어...?\n",
      "P02: 잘못 보고 있는 거니 나? 키키\n",
      "P02: 20개월? 진짜 미친놈 아니야?\n",
      "P03: 20개월...? 실화야...?\n",
      "P03: 걔는 진짜 벌레 그 자체다\n",
      "P03: 저 문장 자체가 이해가 안 되는데 키키\n",
      "P01: 그래서 지금 난리야 화학적 거세 얘기도 나오고 얘 때매 사형 부활해야 된다고 완전 난리 났어\n",
      "P02: 아니 저건 진심 사형감인데...?\n",
      "P02: 진짜 충격이다 방금 찾아봤는데 진짜네 와...\n",
      "P02: 근데 이 와중에도 정치질하고 있는 거 너무 꼴보기 싫다\n",
      "P03: 뭐라고 정치질을 해? 진짜 아침부터 토 나오네 뭐야 진짜 개드러워\n",
      "P01: 저거 심지어 저 가해자 남자 친딸 아니라던데\n",
      "P01: 자기 친딸인 줄 알고 저런 짓 한 건데 이번에 사건 조사하면서 친딸 아닌 거로 나와서 저 가해자한테 알려주니까 놀랐다더라\n",
      "P02: 아니 자기가 대통령이었으면 사형 시켰을 거래\n",
      "P02: 이거 틈타서 그냥 지지율 신경 쓰고 뱉는 말로밖에 안 들려...\n",
      "P02: 그냥 다 더럽다 진짜 ㅠㅠ 와... 충격 그 자체\n",
      "P03: 아니 근데 소름 돋아서 나도 방금 봤는데 애기 죽이고 나서 장모한테 한 번 하고 싶다고 문자 보냈대\n",
      "P03: 한 번 해 주면 지금 어떤 상황인지 알려준다고 와 진짜 사형 시급함\n",
      "P01: 맞아 ** 키키 진짜 싫어\n",
      "P01: 맞아 장모한테도 한 번 하자고 했대 걍 그거에 놈임\n",
      "P02: 아니... 진짜 친자식이 아니라고 나왔지만 어쨌든 자기 딸한테 그런 생각이 드는 거 자체가 말이 안 되는 거야 진심,\n",
      "P02: 엄마가 지적으로 안 모지라고 정상이었어도 저랬을 놈이야\n",
      "P03: 쟤 근데 얼굴 안 까냐\n",
      "P03: 와 근데 확실히 실검 없어지니까 직접 찾아보지 않으면 잘 모르는 것 같아 ㅠㅠ\n",
      "P03: 사람들도 옛날보다 더 모를 것 같아!\n",
      "P01: 그래서 뉴스나 기사 봐야 돼 ㅜㅜ\n",
      "P01: 저런 애들은 사회로 내보내면 안 돼 곧 얼굴 공개되지 않을까...\n",
      "P02: 진짜 솔직히 여성들 살아 가기 너무 무서운 사회다...\n",
      "P02: 저렇게 20개월짜리들도 성범죄에 노출되다니...\n",
      "P02: 집에 갈 때 집 주변에 좀 수상해 보이는 사람 보이면 괜히 바로 집에 안 들어가고 빙빙 돌다가 들어가고 그럴 때 진짜 현타 와\n",
      "P03: ㅠㅠ 잘했어 힘들더라도 진짜 그렇게라도 해야 돼\n",
      "P03: 쟤는 진짜 본보기도 죽였으면 좋겠다\n",
      "P01: 맞아 하도 흉흉하니까 ㅜㅜ\n",
      "P01: 저런 애들은 자기보다 약한 존재한테만 강한 애들임 그 어리고 약한 애기한테 그런다는 거 자체가\n",
      "P02: 맞아 세상이 진짜 어떻게 돌아가고 있냐\n",
      "P02: 저런 놈들이 너무 많아, 이번에 친할머니 살해한 10대 형제도 있던데...\n",
      "P03: 진짜 뉴스 보면 이런 일이 매일 발생하고 있다는 게 너무 신기하고 무서울 따름이야\n",
      "P03: 어케 맨날 이러지 하루라도 조용한 적이 없어\n",
      "P01: 그니까 무서워 그 부검하는 사람인가 그 분은 여러 죽음을 하도 많이 보니까\n",
      "P01: 지금 이 순간도 내가 살아 있는 게 기적이라고 생각하고 살아야 된다고 그랬어\n",
      "P02: 진짜 그렇긴 하다 ㅠㅠ\n",
      "P02: 저 10대 형제는 할머니가 잔소리한다고 살해했대...\n",
      "P03: 에휴...진짜 막 나간다 막 나가\n",
      "P03: 부검하는 사람들도 죽는 이유들 들으면 어이없을 것 같아\n",
      "P01: 맞아... 잔소리한다고 친 누나 살해한 사건도 얼마 전에 있었잖아\n",
      "P01: 우리 다른 사람 잔소리하지 말고 나 자신이나 잘 살자...\n",
      "P02: **야... 잔소리 많이 안 할게 이제...\n",
      "P02: **아 너도 사과해 얼른 ㅠㅠ\n",
      "P03: 키키 하 근데 잔소리 못 끊어... 얘들아 버텨... 화이팅!\n"
     ]
    }
   ],
   "source": [
    "from eval import get_eval_data\n",
    "\n",
    "print(get_eval_data()[12])"
   ]
  },
  {
   "cell_type": "code",
   "execution_count": 9,
   "metadata": {},
   "outputs": [
    {
     "data": {
      "text/plain": [
       "response:\n",
       "GenerateContentResponse(\n",
       "    done=True,\n",
       "    iterator=None,\n",
       "    result=protos.GenerateContentResponse({\n",
       "      \"candidates\": [\n",
       "        {\n",
       "          \"content\": {\n",
       "            \"parts\": [\n",
       "              {\n",
       "                \"text\": \"\\uc138 \\uba85\\uc758 \\uc0ac\\uc6a9\\uc790\\uac00 20\\uac1c\\uc6d4 \\uc601\\uc544 \\uac15\\uac04 \\uc0b4\\ud574 \\uc0ac\\uac74\\uc744 \\uc811\\ud558\\uace0 \\ucda9\\uaca9\\uacfc \\ubd84\\ub178\\ub97c \\ub290\\ub07c\\uba70 \\ub300\\ud654\\ub97c \\ub098\\ub204\\ub294 \\ub0b4\\uc6a9\\uc785\\ub2c8\\ub2e4. \\uc0ac\\uac74\\uc758 \\uc794\\ud639\\ud568\\uc5d0 \\ub300\\ud55c \\ud610\\uc624\\uac10, \\uac00\\ud574\\uc790\\uc5d0 \\ub300\\ud55c \\uac15\\ub825\\ud55c \\ucc98\\ubc8c \\uc694\\uad6c, \\ud749\\ud749\\ud55c \\uc0ac\\ud68c \\ubd84\\uc704\\uae30\\uc5d0 \\ub300\\ud55c \\ubd88\\uc548\\uac10, \\uadf8\\ub9ac\\uace0 \\uc77c\\uc0c1\\uc0dd\\ud65c\\uc5d0\\uc11c\\uc758 \\uc5ec\\uc131\\uc73c\\ub85c\\uc11c\\uc758 \\ubd88\\uc548\\uac10 \\ub4f1\\uc774 \\uc8fc\\ub41c \\ub0b4\\uc6a9\\uc785\\ub2c8\\ub2e4. \\uc815\\uce58\\uc801\\uc778 \\uc774\\uc288\\uc5d0 \\ub300\\ud55c \\ube44\\ud310\\uacfc \\ub354\\ubd88\\uc5b4 \\uc11c\\ub85c\\ub97c \\uc704\\ub85c\\ud558\\uace0 \\ub2e4\\ub3c5\\uc774\\ub294 \\ubaa8\\uc2b5\\ub3c4 \\ubcf4\\uc785\\ub2c8\\ub2e4.\\n\\n**\\uc8fc\\uc694 \\ub0b4\\uc6a9 \\uc694\\uc57d:**\\n\\n*   **\\uc0ac\\uac74\\uc5d0 \\ub300\\ud55c \\ucda9\\uaca9\\uacfc \\ubd84\\ub178:** 20\\uac1c\\uc6d4 \\uc601\\uc544 \\uac15\\uac04 \\uc0b4\\ud574 \\uc0ac\\uac74\\uc758 \\uc794\\ud639\\uc131\\uc5d0 \\uacbd\\uc545\\ud558\\uba70 \\uac00\\ud574\\uc790\\uc5d0 \\ub300\\ud55c \\uac15\\ud55c \\ubd84\\ub178\\ub97c \\ud45c\\ucd9c\\ud569\\ub2c8\\ub2e4.\\n*   **\\uac15\\ub825\\ud55c \\ucc98\\ubc8c \\uc694\\uad6c:** \\uc0ac\\ud615 \\ub610\\ub294 \\ud654\\ud559\\uc801 \\uac70\\uc138 \\ub4f1 \\uac15\\ub825\\ud55c \\ucc98\\ubc8c\\uc744 \\uc694\\uad6c\\ud558\\uba70, \\uac00\\ud574\\uc790\\ub97c \\uc0ac\\ud68c\\uc5d0\\uc11c \\uc601\\uad6c\\ud788 \\uaca9\\ub9ac\\ud574\\uc57c \\ud55c\\ub2e4\\uace0 \\uc8fc\\uc7a5\\ud569\\ub2c8\\ub2e4.\\n*   **\\uc0ac\\ud68c \\ubd84\\uc704\\uae30\\uc5d0 \\ub300\\ud55c \\ubd88\\uc548\\uac10:** \\ud749\\ud749\\ud55c \\uc0ac\\ud68c \\ubd84\\uc704\\uae30\\uc5d0 \\ub300\\ud55c \\ubd88\\uc548\\uac10\\uc744 \\ub290\\ub07c\\uba70, \\uc5ec\\uc131\\uc73c\\ub85c\\uc11c\\uc758 \\uc548\\uc804\\uc5d0 \\ub300\\ud55c \\uc6b0\\ub824\\ub97c \\ud45c\\ud569\\ub2c8\\ub2e4.\\n*   **\\uc815\\uce58\\uc801\\uc778 \\uc774\\uc288\\uc5d0 \\ub300\\ud55c \\ube44\\ud310:** \\uc0ac\\uac74\\uc744 \\uc815\\uce58\\uc801\\uc73c\\ub85c \\uc774\\uc6a9\\ud558\\ub824\\ub294 \\uc2dc\\ub3c4\\uc5d0 \\ub300\\ud55c \\ube44\\ud310\\uc801\\uc778 \\uc2dc\\uac01\\uc744 \\ub4dc\\ub7ec\\ub0c5\\ub2c8\\ub2e4.\\n*   **\\uc11c\\ub85c\\uc5d0 \\ub300\\ud55c \\uc704\\ub85c\\uc640 \\uacf5\\uac10:** \\uc11c\\ub85c\\uc758 \\ubd88\\uc548\\uac10\\uacfc \\uacf5\\ud3ec\\uc5d0 \\uacf5\\uac10\\ud558\\uba70 \\uc704\\ub85c\\ud558\\uace0, \\uc77c\\uc0c1\\uc0dd\\ud65c\\uc5d0\\uc11c\\uc758 \\uc548\\uc804\\uc744 \\uc704\\ud574 \\ub178\\ub825\\ud560 \\uac83\\uc744 \\ub2e4\\uc9d0\\ud569\\ub2c8\\ub2e4.\\n*   **\\uc77c\\uc0c1\\uc801\\uc778 \\ub300\\ud654:** \\ucda9\\uaca9\\uc801\\uc778 \\uc0ac\\uac74\\uc5d0 \\ub300\\ud55c \\ub300\\ud654 \\uc678\\uc5d0\\ub3c4 \\uc11c\\ub85c\\uc5d0\\uac8c \\uc794\\uc18c\\ub9ac\\ub97c \\uc904\\uc774\\uaca0\\ub2e4\\ub294 \\ub18d\\ub2f4 \\uc11e\\uc778 \\ub300\\ud654\\ub3c4 \\ub098\\ub215\\ub2c8\\ub2e4.\\n\\n**\\ubd84\\uc11d:**\\n\\n\\uc774 \\ub300\\ud654\\ub294 \\ub054\\ucc0d\\ud55c \\ubc94\\uc8c4 \\uc0ac\\uac74\\uc774 \\uac1c\\uc778\\uc5d0\\uac8c \\ubbf8\\uce58\\ub294 \\uc2ec\\ub9ac\\uc801 \\uc601\\ud5a5\\uacfc \\uc0ac\\ud68c\\uc801 \\ubd88\\uc548\\uac10\\uc744 \\uc798 \\ubcf4\\uc5ec\\uc90d\\ub2c8\\ub2e4. \\ud2b9\\ud788 \\uc5ec\\uc131\\ub4e4\\uc774 \\ub290\\ub07c\\ub294 \\ubd88\\uc548\\uac10\\uacfc \\uacf5\\ud3ec, \\uadf8\\ub9ac\\uace0 \\uc11c\\ub85c\\uc5d0\\uac8c \\uc758\\uc9c0\\ud558\\uba70 \\uc704\\ub85c\\ub97c \\uc8fc\\uace0\\ubc1b\\ub294 \\ubaa8\\uc2b5\\uc774 \\uc778\\uc0c1\\uc801\\uc785\\ub2c8\\ub2e4. \\ub610\\ud55c, \\uc0ac\\uac74\\uc744 \\uc815\\uce58\\uc801\\uc73c\\ub85c \\uc774\\uc6a9\\ud558\\ub824\\ub294 \\uc2dc\\ub3c4\\uc5d0 \\ub300\\ud55c \\ube44\\ud310\\uc801\\uc778 \\uc2dc\\uac01\\uc740 \\uc0ac\\ud68c \\ubb38\\uc81c\\uc5d0 \\ub300\\ud55c \\uc2dc\\ubbfc\\ub4e4\\uc758 \\ube44\\ud310\\uc801 \\uc758\\uc2dd\\uc744 \\ub4dc\\ub7ec\\ub0c5\\ub2c8\\ub2e4.\\n\"\n",
       "              }\n",
       "            ],\n",
       "            \"role\": \"model\"\n",
       "          },\n",
       "          \"finish_reason\": \"STOP\"\n",
       "        }\n",
       "      ],\n",
       "      \"usage_metadata\": {\n",
       "        \"prompt_token_count\": 1300,\n",
       "        \"candidates_token_count\": 534,\n",
       "        \"total_token_count\": 1834\n",
       "      }\n",
       "    }),\n",
       ")"
      ]
     },
     "execution_count": 9,
     "metadata": {},
     "output_type": "execute_result"
    }
   ],
   "source": [
    "from eval import get_eval_data\n",
    "\n",
    "response = client.generate_content(\n",
    "    contents=get_eval_data()[12],\n",
    "    # safety_settings={\n",
    "    #     HarmCategory.HARM_CATEGORY_HARASSMENT: HarmBlockThreshold.BLOCK_NONE\n",
    "    # }\n",
    ")\n",
    "response"
   ]
  },
  {
   "cell_type": "markdown",
   "metadata": {},
   "source": [
    "### 3. 별도의 Guardrail 라이브러리\n",
    "- guardrails-ai\n",
    "- NVIDIA-NeMo\n",
    "- guidance"
   ]
  },
  {
   "cell_type": "code",
   "execution_count": 19,
   "metadata": {},
   "outputs": [
    {
     "name": "stderr",
     "output_type": "stream",
     "text": [
      "/Users/rein20/Documents/lectures/ai-service/kakaotalk-summarization/.venv/lib/python3.12/site-packages/guardrails/validators/__init__.py:51: FutureWarning: \n",
      "    Importing validators from `guardrails.validators` is deprecated.\n",
      "    All validators are now available in the Guardrails Hub. Please install\n",
      "    and import them from the hub instead. All validators will be\n",
      "    removed from this module in the next major release.\n",
      "\n",
      "    Install with: `guardrails hub install hub://<namespace>/<validator_name>`\n",
      "    Import as: from guardrails.hub import `ValidatorName`\n",
      "    \n",
      "  warn(\n",
      "/Users/rein20/Documents/lectures/ai-service/kakaotalk-summarization/.venv/lib/python3.12/site-packages/huggingface_hub/file_download.py:1132: FutureWarning: `resume_download` is deprecated and will be removed in version 1.0.0. Downloads always resume when possible. If you want to force a new download, use `force_download=True`.\n",
      "  warnings.warn(\n"
     ]
    },
    {
     "name": "stdout",
     "output_type": "stream",
     "text": [
      "Validation failed for field with errors: The following sentences in your response were found to be toxic:\n",
      "\n",
      "- You are a stupid idiot who can't do anything right.\n"
     ]
    }
   ],
   "source": [
    "# Import Guard and Validator\n",
    "from guardrails.hub import ToxicLanguage\n",
    "from guardrails import Guard\n",
    "\n",
    "# Use the Guard with the validator\n",
    "guard = Guard().use(\n",
    "    ToxicLanguage, threshold=0.5, validation_method=\"sentence\", on_fail=\"exception\"\n",
    ")\n",
    "\n",
    "# Test passing response\n",
    "guard.validate(\"Love how you think and attack the problem. Great job!\")\n",
    "\n",
    "try:\n",
    "    # Test failing response\n",
    "    guard.validate(\n",
    "        \"Please look carefully. You are a stupid idiot who can't do anything right.\"\n",
    "    )\n",
    "except Exception as e:\n",
    "    print(e)"
   ]
  },
  {
   "cell_type": "code",
   "execution_count": 20,
   "metadata": {},
   "outputs": [],
   "source": [
    "# Import Guard and Validator\n",
    "from guardrails.hub import ToxicLanguage\n",
    "from guardrails import Guard\n",
    "\n",
    "# Use the Guard with the validator\n",
    "guard = Guard().use(\n",
    "    ToxicLanguage, threshold=0.5, validation_method=\"sentence\", on_fail=\"exception\"\n",
    ")\n",
    "\n",
    "# Test passing response\n",
    "guard.validate(\"안녕하세요!\")\n",
    "\n",
    "try:\n",
    "    # Test failing response\n",
    "    guard.validate(\n",
    "        \"바보 멍청이\"\n",
    "    )\n",
    "except Exception as e:\n",
    "    print(e)"
   ]
  },
  {
   "cell_type": "code",
   "execution_count": null,
   "metadata": {},
   "outputs": [],
   "source": []
  }
 ],
 "metadata": {
  "kernelspec": {
   "display_name": "Python 3",
   "language": "python",
   "name": "python3"
  },
  "language_info": {
   "codemirror_mode": {
    "name": "ipython",
    "version": 3
   },
   "file_extension": ".py",
   "mimetype": "text/x-python",
   "name": "python",
   "nbconvert_exporter": "python",
   "pygments_lexer": "ipython3",
   "version": "3.12.11"
  }
 },
 "nbformat": 4,
 "nbformat_minor": 2
}
