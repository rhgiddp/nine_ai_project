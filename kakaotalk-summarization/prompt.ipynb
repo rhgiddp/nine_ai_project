{
 "cells": [
  {
   "cell_type": "code",
   "execution_count": 1,
   "metadata": {},
   "outputs": [],
   "source": [
    "from eval import get_eval_data"
   ]
  },
  {
   "cell_type": "code",
   "execution_count": 4,
   "metadata": {},
   "outputs": [
    {
     "name": "stdout",
     "output_type": "stream",
     "text": [
      "P01: 페이코인다 사서 등록했어?\n",
      "P02: 응 신랑꺼 2개 나 오늘 총  3개 햇지 키키\n",
      "P02: 아참 오늘 빕스랑 이것저것 산거 계산해서 알려줘 돈보내줄껭 키키\n",
      "P02: 고마웡\n",
      "P01: 응 키키 저녁 먹고 찬찬히 정산해볼게\n",
      "P02: 웅 급한거 아니니깐 키키\n",
      "P02: 디다 오늘 산... 키보드...쓰고 싶은데...신랑 일찍온대 ㅠㅠ\n",
      "P01: 아웃겨 키키 ㄱ연어 산거 ** 혼자 다먹음ㅋ\n",
      "P01: 올클리어\n",
      "P01: 배스킨무드등 하고 빕스의자 키키 보더니 이런거 왜자꾸 사냐고 잔소리 ㄷㄷ\n",
      "P02: 우와... 연어 사길 자랫네 키키\n",
      "P02: 그래서 머라캤는데? 키키\n",
      "P01: 그냥 뭐 가만 있었지 키키\n",
      "P01: 아니다 식구수대로4개 딱맞잖아라고 키키\n",
      "P02: 키키 그러니 대꾸 안하더니? 키키\n",
      "P02: 신랑도 오자마자 키키 이거 먼데?카길래 키보드는 드림 받았고 의자는 아까 말했는 스프 3900원짜리 사고 받은거라 햇어 키키\n",
      "P02: 일단 1절은 지나감 키키\n",
      "P01: 드림이라니 키키\n",
      "P02: 쓰던건데 알케므임 키키\n",
      "P01: 계산맞나융 다른거있니?\n",
      "P01: 빕스17420원 엔빵 스프3900원 페이코인내꺼500원뺏엉\n",
      "P02: 또 머있었다 아니가?\n",
      "P01: 뭔가 허전하구만?\n",
      "P01: 기억이안난다...음\n",
      "P02: 오늘 일을 기억해보자 키키\n",
      "P02: 기억이 없네 키키\n",
      "P02: 아 생각났다 키키 충전기줄 ! 하하\n",
      "P01: 어제받음ㅋ\n",
      "P02: 아 그랫나? 키키 내 ... 그것도 줬나?영양제 샀는거 키키\n",
      "P02: 아 줬네 키키 돈 더 퍼줄라카고잉 키키\n",
      "P02: 니가 맨날 대신사주니깐 키키 편한데 자꾸 까묵는다잉\n"
     ]
    }
   ],
   "source": [
    "print(get_eval_data()[2])"
   ]
  },
  {
   "cell_type": "code",
   "execution_count": null,
   "metadata": {},
   "outputs": [],
   "source": []
  }
 ],
 "metadata": {
  "kernelspec": {
   "display_name": ".venv",
   "language": "python",
   "name": "python3"
  },
  "language_info": {
   "codemirror_mode": {
    "name": "ipython",
    "version": 3
   },
   "file_extension": ".py",
   "mimetype": "text/x-python",
   "name": "python",
   "nbconvert_exporter": "python",
   "pygments_lexer": "ipython3",
   "version": "3.12.3"
  }
 },
 "nbformat": 4,
 "nbformat_minor": 2
}
