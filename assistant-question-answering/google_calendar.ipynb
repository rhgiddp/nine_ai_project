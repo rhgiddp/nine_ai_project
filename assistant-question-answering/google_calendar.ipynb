{
 "cells": [
  {
   "cell_type": "markdown",
   "metadata": {},
   "source": [
    "### Google Calendar API 연동\n",
    "- Google Calendar에 대한 학습보다는 Function Call 기능을 위한 Function 이해도 증가 목적\n",
    "\n",
    "- Google Calendar API 셋업 필요\n",
    "  - https://developers.google.com/calendar/api/quickstart/python?hl=ko\n",
    "  - 위 가이드를 따라가도 되지만 아래 직접 작성한 API 셋업 방법 참고하시는 것을 권장"
   ]
  },
  {
   "cell_type": "markdown",
   "metadata": {},
   "source": [
    "### Google Calendar API 셋업 방법\n",
    "1. Google Cloud Project 생성\n",
    "    - https://console.cloud.google.com/projectcreate\n",
    "2. Google Calendar API 사용 설정 및 API Key 발급\n",
    "    - 라이브러리 > Calendar 검색 > Google Calendar \"사용\" 설정\n",
    "        - https://console.cloud.google.com/flows/enableapi?apiid=calendar-json.googleapis.com&hl=ko\n",
    "    - 메뉴 > API 및 서비스 > 사용자 인증 정보 > 사용자 인증 정보 만들기 > API 키 (*공식 가이드엔 이 내용이 없음)\n",
    "3. OAuth 동의 화면 생성 및 테스트 유저에 본인 추가\n",
    "    - 메뉴 > OAuth 동의 화면\n",
    "        - User Type: 외부 > 만들기\n",
    "        - 필수 항목 작성\n",
    "    - 범위 추가\n",
    "        - .../auth/calendar.events.owned > 업데이트\n",
    "    - 테스트 사용자로 본인 추가\n",
    "4. OAuth Client ID 생성\n",
    "    - 메뉴 > 사용자 인증 정보 > 사용자 인증 정보 만들기 > OAuth 클라이언트 ID\n",
    "    - 애플리케이션 유형: 데스크톱 앱\n",
    "    - \"OAuth 클라이언트 생성됨\" 화면이 뜨면 JSON 다운로드 버튼 클릭\n",
    "    - 다운로드 받은 파일을 ./res/credentials.json으로 저장"
   ]
  },
  {
   "cell_type": "markdown",
   "metadata": {},
   "source": [
    "### 잘 진행되었다면 아래 코드가 정상적으로 수행되어야 함\n",
    "- 구글 계정 로그인 후 \"Google에서 확인하지 않은 앱 - 현재 테스트 중인 앱에 대한 액세스 권한을 받았습니다\" 내용\n",
    "  - 계속 버튼 클릭\n",
    "- 이 확인 프로세스는 첫 1회만 수행 (아래 코드가 ./res/token.json 저장 후 자동 인증)"
   ]
  },
  {
   "cell_type": "code",
   "execution_count": 2,
   "metadata": {},
   "outputs": [],
   "source": [
    "import os.path\n",
    "\n",
    "from google.oauth2.credentials import Credentials\n",
    "from google_auth_oauthlib.flow import InstalledAppFlow\n",
    "from googleapiclient.discovery import build\n",
    "\n",
    "\n",
    "SCOPES = ['https://www.googleapis.com/auth/calendar']\n",
    "\n",
    "\n",
    "# 만약 invalid_grant: Token has been expired or revoked 에러 발생 시 ./res/token.json을 지우고 다시 코드 실행해서 ./res/token.json 재생성\n",
    "if os.path.exists('./res/token.json'):\n",
    "    creds = Credentials.from_authorized_user_file('./res/token.json', SCOPES)\n",
    "else:\n",
    "    flow = InstalledAppFlow.from_client_secrets_file(\n",
    "        './res/credentials.json', SCOPES\n",
    "    )\n",
    "    creds = flow.run_local_server(port=0)\n",
    "    with open('./res/token.json', 'w') as token:\n",
    "        token.write(creds.to_json())\n",
    "\n",
    "service = build('calendar', 'v3', credentials=creds)"
   ]
  },
  {
   "cell_type": "markdown",
   "metadata": {},
   "source": [
    "### 캘린더 일정 생성"
   ]
  },
  {
   "cell_type": "code",
   "execution_count": 3,
   "metadata": {},
   "outputs": [
    {
     "name": "stdout",
     "output_type": "stream",
     "text": [
      "Event created: https://www.google.com/calendar/event?eid=MGVsanY0bDI3MzNmZzUxbDF1M3RiMm5mdnMgcmVpbjIwLmFpQG0\n"
     ]
    }
   ],
   "source": [
    "event = {\n",
    "  'summary': '패스트캠퍼스 LLM 강의',\n",
    "  'location': '서울 강남구 테헤란로 231 West동 6층, 7층',\n",
    "  'start': {\n",
    "    'dateTime': '2024-08-14T09:00:00+09:00',\n",
    "    'timeZone': 'Asia/Seoul',\n",
    "  },\n",
    "  'end': {\n",
    "    'dateTime': '2024-08-14T18:00:00+09:00',\n",
    "    'timeZone': 'Asia/Seoul',\n",
    "  }\n",
    "}\n",
    "\n",
    "event = service.events().insert(calendarId='primary', body=event).execute()\n",
    "print('Event created: %s' % (event.get('htmlLink')))"
   ]
  },
  {
   "cell_type": "code",
   "execution_count": 4,
   "metadata": {},
   "outputs": [
    {
     "data": {
      "text/plain": [
       "{'kind': 'calendar#event',\n",
       " 'etag': '\"3447270646198000\"',\n",
       " 'id': '0eljv4l2733fg51l1u3tb2nfvs',\n",
       " 'status': 'confirmed',\n",
       " 'htmlLink': 'https://www.google.com/calendar/event?eid=MGVsanY0bDI3MzNmZzUxbDF1M3RiMm5mdnMgcmVpbjIwLmFpQG0',\n",
       " 'created': '2024-08-14T11:35:23.000Z',\n",
       " 'updated': '2024-08-14T11:35:23.099Z',\n",
       " 'summary': '패스트캠퍼스 LLM 강의',\n",
       " 'location': '서울 강남구 테헤란로 231 West동 6층, 7층',\n",
       " 'creator': {'email': 'rein20.ai@gmail.com', 'self': True},\n",
       " 'organizer': {'email': 'rein20.ai@gmail.com', 'self': True},\n",
       " 'start': {'dateTime': '2024-08-14T09:00:00+09:00', 'timeZone': 'Asia/Seoul'},\n",
       " 'end': {'dateTime': '2024-08-14T18:00:00+09:00', 'timeZone': 'Asia/Seoul'},\n",
       " 'iCalUID': '0eljv4l2733fg51l1u3tb2nfvs@google.com',\n",
       " 'sequence': 0,\n",
       " 'reminders': {'useDefault': True},\n",
       " 'eventType': 'default'}"
      ]
     },
     "execution_count": 4,
     "metadata": {},
     "output_type": "execute_result"
    }
   ],
   "source": [
    "event"
   ]
  },
  {
   "cell_type": "markdown",
   "metadata": {},
   "source": [
    "### 캘린더 일정 조회"
   ]
  },
  {
   "cell_type": "code",
   "execution_count": 5,
   "metadata": {},
   "outputs": [],
   "source": [
    "calendar_id = 'primary'\n",
    "time_min = '2024-08-14T00:00:00+09:00'\n",
    "time_max = '2024-08-14T23:59:59+09:00'\n",
    "max_results = 5\n",
    "is_single_events = True\n",
    "orderby = 'startTime'\n",
    "\n",
    "events_result = service.events().list(calendarId = calendar_id,\n",
    "                                      timeMin = time_min,\n",
    "                                      timeMax = time_max,\n",
    "                                      maxResults = max_results,\n",
    "                                      singleEvents = is_single_events,\n",
    "                                      orderBy = orderby\n",
    "                                     ).execute()"
   ]
  },
  {
   "cell_type": "code",
   "execution_count": 6,
   "metadata": {},
   "outputs": [
    {
     "data": {
      "text/plain": [
       "{'kind': 'calendar#events',\n",
       " 'etag': '\"p33sat7vpm7q8e0o\"',\n",
       " 'summary': 'rein20.ai@gmail.com',\n",
       " 'description': '',\n",
       " 'updated': '2024-08-14T11:35:23.099Z',\n",
       " 'timeZone': 'Asia/Seoul',\n",
       " 'accessRole': 'owner',\n",
       " 'defaultReminders': [{'method': 'popup', 'minutes': 30}],\n",
       " 'items': [{'kind': 'calendar#event',\n",
       "   'etag': '\"3447270646198000\"',\n",
       "   'id': '0eljv4l2733fg51l1u3tb2nfvs',\n",
       "   'status': 'confirmed',\n",
       "   'htmlLink': 'https://www.google.com/calendar/event?eid=MGVsanY0bDI3MzNmZzUxbDF1M3RiMm5mdnMgcmVpbjIwLmFpQG0',\n",
       "   'created': '2024-08-14T11:35:23.000Z',\n",
       "   'updated': '2024-08-14T11:35:23.099Z',\n",
       "   'summary': '패스트캠퍼스 LLM 강의',\n",
       "   'location': '서울 강남구 테헤란로 231 West동 6층, 7층',\n",
       "   'creator': {'email': 'rein20.ai@gmail.com', 'self': True},\n",
       "   'organizer': {'email': 'rein20.ai@gmail.com', 'self': True},\n",
       "   'start': {'dateTime': '2024-08-14T09:00:00+09:00',\n",
       "    'timeZone': 'Asia/Seoul'},\n",
       "   'end': {'dateTime': '2024-08-14T18:00:00+09:00', 'timeZone': 'Asia/Seoul'},\n",
       "   'iCalUID': '0eljv4l2733fg51l1u3tb2nfvs@google.com',\n",
       "   'sequence': 0,\n",
       "   'reminders': {'useDefault': True},\n",
       "   'eventType': 'default'}]}"
      ]
     },
     "execution_count": 6,
     "metadata": {},
     "output_type": "execute_result"
    }
   ],
   "source": [
    "events_result"
   ]
  },
  {
   "cell_type": "markdown",
   "metadata": {},
   "source": [
    "### 캘린더 일정 삭제"
   ]
  },
  {
   "cell_type": "code",
   "execution_count": 7,
   "metadata": {},
   "outputs": [
    {
     "name": "stdout",
     "output_type": "stream",
     "text": [
      "Event deleted\n"
     ]
    }
   ],
   "source": [
    "event = service.events().delete(calendarId='primary', eventId=event['id']).execute()\n",
    "print('Event deleted')"
   ]
  },
  {
   "cell_type": "code",
   "execution_count": 8,
   "metadata": {},
   "outputs": [
    {
     "data": {
      "text/plain": [
       "''"
      ]
     },
     "execution_count": 8,
     "metadata": {},
     "output_type": "execute_result"
    }
   ],
   "source": [
    "event"
   ]
  },
  {
   "cell_type": "code",
   "execution_count": null,
   "metadata": {},
   "outputs": [],
   "source": []
  }
 ],
 "metadata": {
  "kernelspec": {
   "display_name": ".venv",
   "language": "python",
   "name": "python3"
  },
  "language_info": {
   "codemirror_mode": {
    "name": "ipython",
    "version": 3
   },
   "file_extension": ".py",
   "mimetype": "text/x-python",
   "name": "python",
   "nbconvert_exporter": "python",
   "pygments_lexer": "ipython3",
   "version": "3.12.3"
  }
 },
 "nbformat": 4,
 "nbformat_minor": 2
}
