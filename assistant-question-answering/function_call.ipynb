{
 "cells": [
  {
   "cell_type": "markdown",
   "metadata": {},
   "source": [
    "## Function Call 개념 이해 실습 (Tool Use)\n",
    "- Function Call: LLM API가 대화 뿐만 아니라 함수도 실행하는 것\n",
    "  - 단, 함수 실행의 필요성을 알려주면 실제 함수 실행은 클라이언트 또는 우리의 코드로 수행한다."
   ]
  },
  {
   "cell_type": "markdown",
   "metadata": {},
   "source": [
    "### Anthropic Claude API 사용법 복습"
   ]
  },
  {
   "cell_type": "code",
   "execution_count": 1,
   "metadata": {},
   "outputs": [
    {
     "name": "stdout",
     "output_type": "stream",
     "text": [
      "Greetings, young one. How may I assist you today?\n"
     ]
    }
   ],
   "source": [
    "# 환경변수에 ANTHROPIC_API_KEY 추가 필요\n",
    "# ~/.zshrc에 export ANTHROPIC_API_KEY='<API KEY>'\n",
    "import os\n",
    "\n",
    "import anthropic\n",
    "\n",
    "client = anthropic.Anthropic(\n",
    "    api_key=os.environ['ANTHROPIC_API_KEY']\n",
    ")\n",
    "\n",
    "message = client.messages.create(\n",
    "    model=\"claude-3-haiku-20240307\",\n",
    "    max_tokens=1000,\n",
    "    temperature=0.0,\n",
    "    system=\"Respond only in Yoda-speak.\",\n",
    "    messages=[\n",
    "        {\"role\": \"user\", \"content\": \"Hi!\"}\n",
    "    ]\n",
    ")\n",
    "\n",
    "print(message.content[0].text)"
   ]
  },
  {
   "cell_type": "markdown",
   "metadata": {},
   "source": [
    "### 호출 할 함수 정의\n",
    "- 가장 간단한 예시로 곱셈 함수 사용"
   ]
  },
  {
   "cell_type": "code",
   "execution_count": 2,
   "metadata": {},
   "outputs": [
    {
     "data": {
      "text/plain": [
       "6"
      ]
     },
     "execution_count": 2,
     "metadata": {},
     "output_type": "execute_result"
    }
   ],
   "source": [
    "def multiply(a, b):\n",
    "    return a * b\n",
    "\n",
    "multiply(2, 3)"
   ]
  },
  {
   "cell_type": "markdown",
   "metadata": {},
   "source": [
    "### 곱셈 함수를 포함한 LLM API 호출\n",
    "- 질문이 곱셈 함수가 필요하다는 점을 LLM이 알려준다.\n",
    "  - 곱셈과 관련이 없는 경우 ToolUseBlock이 없음"
   ]
  },
  {
   "cell_type": "code",
   "execution_count": 3,
   "metadata": {},
   "outputs": [
    {
     "data": {
      "text/plain": [
       "[ToolUseBlock(id='toolu_01EBwhzn3baA8ch8N1BSGyjQ', input={'a': '2', 'b': '3'}, name='multiply', type='tool_use')]"
      ]
     },
     "execution_count": 3,
     "metadata": {},
     "output_type": "execute_result"
    }
   ],
   "source": [
    "response = client.messages.create(\n",
    "    model=\"claude-3-haiku-20240307\",\n",
    "    max_tokens=1024,\n",
    "    tools=[\n",
    "       {\n",
    "        \"name\": \"multiply\",\n",
    "        \"description\": \"Multiply two integers\",\n",
    "        \"input_schema\": {\n",
    "            \"type\": \"object\",\n",
    "            \"properties\": {\n",
    "            \"a\": {\n",
    "                \"type\": \"string\",\n",
    "                \"description\": \"First number\"\n",
    "            },\n",
    "            \"b\": {\n",
    "                \"type\": \"string\",\n",
    "                \"description\": \"Second number\"\n",
    "            }\n",
    "            },\n",
    "            \"required\": [\"a\", \"b\"]\n",
    "        }\n",
    "    }\n",
    "    ],\n",
    "    messages=[{\"role\": \"user\", \"content\": \"What is the result of 2 times 3?\"}],\n",
    ")\n",
    "response.content"
   ]
  },
  {
   "cell_type": "code",
   "execution_count": 4,
   "metadata": {},
   "outputs": [
    {
     "data": {
      "text/plain": [
       "ToolUseBlock(id='toolu_01EBwhzn3baA8ch8N1BSGyjQ', input={'a': '2', 'b': '3'}, name='multiply', type='tool_use')"
      ]
     },
     "execution_count": 4,
     "metadata": {},
     "output_type": "execute_result"
    }
   ],
   "source": [
    "tool_use_block = next((block for block in response.content if block.type == 'tool_use' and block.name == 'multiply'), None)\n",
    "tool_use_block"
   ]
  },
  {
   "cell_type": "code",
   "execution_count": 5,
   "metadata": {},
   "outputs": [
    {
     "name": "stdout",
     "output_type": "stream",
     "text": [
      "The result of 2 times 3 is: 6\n"
     ]
    }
   ],
   "source": [
    "if tool_use_block: \n",
    "    a = int(tool_use_block.input['a'])\n",
    "    b = int(tool_use_block.input['b'])\n",
    "    \n",
    "    result = multiply(a, b)\n",
    "    \n",
    "    print(f\"The result of {a} times {b} is: {result}\")\n",
    "else:\n",
    "    print(\"No valid multiply tool use found in the output\")"
   ]
  },
  {
   "cell_type": "markdown",
   "metadata": {},
   "source": [
    "### Anthropic의 공식 Function Call 예시\n",
    "- 호출 할 함수 생성\n",
    "- 호출 가능한 함수를 tools로 정의"
   ]
  },
  {
   "cell_type": "code",
   "execution_count": 7,
   "metadata": {},
   "outputs": [],
   "source": [
    "import re\n",
    "\n",
    "def calculate(expression):\n",
    "    expression = re.sub(r'[^0-9+\\-*/().]', '', expression)\n",
    "    \n",
    "    try:\n",
    "        result = eval(expression)\n",
    "        return str(result)\n",
    "    except (SyntaxError, ZeroDivisionError, NameError, TypeError, OverflowError):\n",
    "        return \"Error: Invalid expression\"\n",
    "\n",
    "tools = [\n",
    "    {\n",
    "        \"name\": \"calculator\",\n",
    "        \"description\": \"A simple calculator that performs basic arithmetic operations.\",\n",
    "        \"input_schema\": {\n",
    "            \"type\": \"object\",\n",
    "            \"properties\": {\n",
    "                \"expression\": {\n",
    "                    \"type\": \"string\",\n",
    "                    \"description\": \"The mathematical expression to evaluate (e.g., '2 + 3 * 4').\"\n",
    "                }\n",
    "            },\n",
    "            \"required\": [\"expression\"]\n",
    "        }\n",
    "    }\n",
    "]"
   ]
  },
  {
   "cell_type": "code",
   "execution_count": 8,
   "metadata": {},
   "outputs": [],
   "source": [
    "def process_tool_call(tool_name, tool_input):\n",
    "    if tool_name == \"calculator\":\n",
    "        return calculate(tool_input[\"expression\"])\n",
    "\n",
    "def chat_with_claude(user_message):\n",
    "    print(f\"\\n{'='*50}\\nUser Message: {user_message}\\n{'='*50}\")\n",
    "\n",
    "    message = client.messages.create(\n",
    "        model=\"claude-3-5-sonnet-20240620\",\n",
    "        max_tokens=4096,\n",
    "        messages=[{\"role\": \"user\", \"content\": user_message}],\n",
    "        tools=tools,\n",
    "    )\n",
    "\n",
    "    print(f\"\\nInitial Response:\")\n",
    "    print(f\"Stop Reason: {message.stop_reason}\")\n",
    "    print(f\"Content: {message.content}\")\n",
    "\n",
    "    if message.stop_reason == \"tool_use\":\n",
    "        tool_use = next(block for block in message.content if block.type == \"tool_use\")\n",
    "        tool_name = tool_use.name\n",
    "        tool_input = tool_use.input\n",
    "\n",
    "        print(f\"\\nTool Used: {tool_name}\")\n",
    "        print(f\"Tool Input: {tool_input}\")\n",
    "\n",
    "        tool_result = process_tool_call(tool_name, tool_input)\n",
    "\n",
    "        print(f\"Tool Result: {tool_result}\")\n",
    "\n",
    "        response = client.messages.create(\n",
    "            model=\"claude-3-5-sonnet-20240620\",\n",
    "            max_tokens=4096,\n",
    "            messages=[\n",
    "                {\"role\": \"user\", \"content\": user_message},\n",
    "                {\"role\": \"assistant\", \"content\": message.content},\n",
    "                {\n",
    "                    \"role\": \"user\",\n",
    "                    \"content\": [\n",
    "                        {\n",
    "                            \"type\": \"tool_result\",\n",
    "                            \"tool_use_id\": tool_use.id,\n",
    "                            \"content\": tool_result,\n",
    "                        }\n",
    "                    ],\n",
    "                },\n",
    "            ],\n",
    "            tools=tools,\n",
    "        )\n",
    "    else:\n",
    "        response = message\n",
    "\n",
    "    final_response = next(\n",
    "        (block.text for block in response.content if hasattr(block, \"text\")),\n",
    "        None,\n",
    "    )\n",
    "    print(response.content)\n",
    "    print(f\"\\nFinal Response: {final_response}\")\n",
    "\n",
    "    return final_response"
   ]
  },
  {
   "cell_type": "code",
   "execution_count": 9,
   "metadata": {},
   "outputs": [
    {
     "name": "stdout",
     "output_type": "stream",
     "text": [
      "\n",
      "==================================================\n",
      "User Message: What is the result of 1,984,135 * 9,343,116?\n",
      "==================================================\n",
      "\n",
      "Initial Response:\n",
      "Stop Reason: tool_use\n",
      "Content: [TextBlock(text=\"To calculate the result of 1,984,135 * 9,343,116, we can use the calculator function available to us. Let's use it to perform this multiplication.\", type='text'), ToolUseBlock(id='toolu_01HgpHFnDHkkqFhBjfTfELQ3', input={'expression': '1984135 * 9343116'}, name='calculator', type='tool_use')]\n",
      "\n",
      "Tool Used: calculator\n",
      "Tool Input: {'expression': '1984135 * 9343116'}\n",
      "Tool Result: 18538003464660\n",
      "[TextBlock(text='The result of the multiplication 1,984,135 * 9,343,116 is 18,538,003,464,660.\\n\\nTo break it down:\\n- The first number is 1,984,135 (1 million, 984 thousand, 135)\\n- The second number is 9,343,116 (9 million, 343 thousand, 116)\\n- The product of these two numbers is 18,538,003,464,660 (18 trillion, 538 billion, 3 million, 464 thousand, 660)\\n\\nThis is a very large number, as expected when multiplying two numbers that are each in the millions. The calculator function helped us perform this calculation quickly and accurately, which would be challenging to do manually due to the size of the numbers involved.', type='text')]\n",
      "\n",
      "Final Response: The result of the multiplication 1,984,135 * 9,343,116 is 18,538,003,464,660.\n",
      "\n",
      "To break it down:\n",
      "- The first number is 1,984,135 (1 million, 984 thousand, 135)\n",
      "- The second number is 9,343,116 (9 million, 343 thousand, 116)\n",
      "- The product of these two numbers is 18,538,003,464,660 (18 trillion, 538 billion, 3 million, 464 thousand, 660)\n",
      "\n",
      "This is a very large number, as expected when multiplying two numbers that are each in the millions. The calculator function helped us perform this calculation quickly and accurately, which would be challenging to do manually due to the size of the numbers involved.\n",
      "\n",
      "==================================================\n",
      "User Message: Calculate (12851 - 593) * 301 + 76\n",
      "==================================================\n",
      "\n",
      "Initial Response:\n",
      "Stop Reason: tool_use\n",
      "Content: [TextBlock(text=\"Certainly! I can help you calculate that expression using the calculator function. Let's break it down and use the tool to compute the result.\", type='text'), ToolUseBlock(id='toolu_01LtVqPgWLENGXaydJre2NNf', input={'expression': '(12851 - 593) * 301 + 76'}, name='calculator', type='tool_use')]\n",
      "\n",
      "Tool Used: calculator\n",
      "Tool Input: {'expression': '(12851 - 593) * 301 + 76'}\n",
      "Tool Result: 3689734\n",
      "[TextBlock(text='The result of the calculation (12851 - 593) * 301 + 76 is 3,689,734.\\n\\nTo break it down:\\n1. First, we calculate 12851 - 593 = 12,258\\n2. Then, we multiply 12,258 by 301: 12,258 * 301 = 3,689,658\\n3. Finally, we add 76 to that result: 3,689,658 + 76 = 3,689,734\\n\\nSo, the final answer is 3,689,734.', type='text')]\n",
      "\n",
      "Final Response: The result of the calculation (12851 - 593) * 301 + 76 is 3,689,734.\n",
      "\n",
      "To break it down:\n",
      "1. First, we calculate 12851 - 593 = 12,258\n",
      "2. Then, we multiply 12,258 by 301: 12,258 * 301 = 3,689,658\n",
      "3. Finally, we add 76 to that result: 3,689,658 + 76 = 3,689,734\n",
      "\n",
      "So, the final answer is 3,689,734.\n",
      "\n",
      "==================================================\n",
      "User Message: What is 15910385 divided by 193053?\n",
      "==================================================\n",
      "\n",
      "Initial Response:\n",
      "Stop Reason: tool_use\n",
      "Content: [TextBlock(text=\"To answer this question, we can use the calculator function to perform the division. Let's use the tool to calculate the result.\", type='text'), ToolUseBlock(id='toolu_015WHdCvc1f6qQgy9UCeyKUf', input={'expression': '15910385 / 193053'}, name='calculator', type='tool_use')]\n",
      "\n",
      "Tool Used: calculator\n",
      "Tool Input: {'expression': '15910385 / 193053'}\n",
      "Tool Result: 82.41459599177428\n",
      "[TextBlock(text=\"The result of dividing 15910385 by 193053 is approximately 82.41459599177428.\\n\\nTo break it down:\\n- The dividend (number being divided) is 15910385\\n- The divisor (number we're dividing by) is 193053\\n- The quotient (result of the division) is about 82.4146\\n\\nThis means that 193053 goes into 15910385 about 82.4146 times. If we were to round this to two decimal places, we could say the result is 82.41.\\n\\nIs there anything else you'd like to know about this calculation or any other mathematical operations you'd like to perform?\", type='text')]\n",
      "\n",
      "Final Response: The result of dividing 15910385 by 193053 is approximately 82.41459599177428.\n",
      "\n",
      "To break it down:\n",
      "- The dividend (number being divided) is 15910385\n",
      "- The divisor (number we're dividing by) is 193053\n",
      "- The quotient (result of the division) is about 82.4146\n",
      "\n",
      "This means that 193053 goes into 15910385 about 82.4146 times. If we were to round this to two decimal places, we could say the result is 82.41.\n",
      "\n",
      "Is there anything else you'd like to know about this calculation or any other mathematical operations you'd like to perform?\n"
     ]
    },
    {
     "data": {
      "text/plain": [
       "\"The result of dividing 15910385 by 193053 is approximately 82.41459599177428.\\n\\nTo break it down:\\n- The dividend (number being divided) is 15910385\\n- The divisor (number we're dividing by) is 193053\\n- The quotient (result of the division) is about 82.4146\\n\\nThis means that 193053 goes into 15910385 about 82.4146 times. If we were to round this to two decimal places, we could say the result is 82.41.\\n\\nIs there anything else you'd like to know about this calculation or any other mathematical operations you'd like to perform?\""
      ]
     },
     "execution_count": 9,
     "metadata": {},
     "output_type": "execute_result"
    }
   ],
   "source": [
    "chat_with_claude(\"What is the result of 1,984,135 * 9,343,116?\")\n",
    "chat_with_claude(\"Calculate (12851 - 593) * 301 + 76\")\n",
    "chat_with_claude(\"What is 15910385 divided by 193053?\")"
   ]
  },
  {
   "cell_type": "markdown",
   "metadata": {},
   "source": [
    "### Function Calling Lifecycle\n",
    "\n",
    "![Function Calling](./res/function-calling-diagram.png)\n",
    "\n",
    "*출처: OpenAI (https://platform.openai.com/docs/guides/function-calling)"
   ]
  },
  {
   "cell_type": "code",
   "execution_count": null,
   "metadata": {},
   "outputs": [],
   "source": []
  }
 ],
 "metadata": {
  "kernelspec": {
   "display_name": ".venv",
   "language": "python",
   "name": "python3"
  },
  "language_info": {
   "codemirror_mode": {
    "name": "ipython",
    "version": 3
   },
   "file_extension": ".py",
   "mimetype": "text/x-python",
   "name": "python",
   "nbconvert_exporter": "python",
   "pygments_lexer": "ipython3",
   "version": "3.12.3"
  }
 },
 "nbformat": 4,
 "nbformat_minor": 2
}
