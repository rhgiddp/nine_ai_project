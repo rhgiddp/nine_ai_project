{
 "cells": [
  {
   "cell_type": "code",
   "execution_count": 1,
   "metadata": {},
   "outputs": [],
   "source": [
    "import os\n",
    "\n",
    "import anthropic\n",
    "from google.oauth2.credentials import Credentials\n",
    "from google_auth_oauthlib.flow import InstalledAppFlow\n",
    "from googleapiclient.discovery import build\n",
    "\n",
    "\n",
    "SCOPES = ['https://www.googleapis.com/auth/calendar']\n",
    "\n",
    "\n",
    "\n",
    "if os.path.exists('./res/token.json'):\n",
    "    creds = Credentials.from_authorized_user_file('./res/token.json', SCOPES)\n",
    "else:\n",
    "    flow = InstalledAppFlow.from_client_secrets_file(\n",
    "        './res/credentials.json', SCOPES\n",
    "    )\n",
    "    creds = flow.run_local_server(port=0)\n",
    "    with open('./res/token.json', 'w') as token:\n",
    "        token.write(creds.to_json())\n",
    "\n",
    "service = build('calendar', 'v3', credentials=creds)\n",
    "\n",
    "client = anthropic.Anthropic(\n",
    "    api_key=os.environ['ANTHROPIC_API_KEY']\n",
    ")"
   ]
  },
  {
   "cell_type": "markdown",
   "metadata": {},
   "source": [
    "### Multi-Turn Chat\n",
    "- User-Assistant 간의 대화 히스토리를 저장 후 LLM API에 입력\n",
    "  - 이전 대화 내용을 기억하고 기존 대화 맥락을 참고해서 알맞는 답변 생성\n",
    "- 턴 수가 많아질수록 LLM API 답변 퀄리티가 낮아지거나 일부 내용이 있더라도 찾아내지 못 할 가능성 존재\n",
    "- 입력 토큰 수 증가"
   ]
  },
  {
   "cell_type": "code",
   "execution_count": 2,
   "metadata": {},
   "outputs": [],
   "source": [
    "messages = []"
   ]
  },
  {
   "cell_type": "code",
   "execution_count": 3,
   "metadata": {},
   "outputs": [
    {
     "name": "stdout",
     "output_type": "stream",
     "text": [
      "Event created: https://www.google.com/calendar/event?eid=dnZjZm91OTY1cjkwbGwxN2ZibXFuM280ZDAgcmVpbjIwLmFpQG0\n"
     ]
    }
   ],
   "source": [
    "PROMPT = '2024년 8월 14일 12시부터 1시간 짜리 점심 일정 생성해주세요.'\n",
    "\n",
    "# 1. 함수 생성\n",
    "def create_event(summary, start, end):\n",
    "    event = {\n",
    "        'summary': summary,\n",
    "        'start': {\n",
    "            'dateTime': start,\n",
    "            'timeZone': 'Asia/Seoul',\n",
    "        },\n",
    "        'end': {\n",
    "            'dateTime': end,\n",
    "            'timeZone': 'Asia/Seoul',\n",
    "        }\n",
    "    }\n",
    "    event = service.events().insert(calendarId='primary', body=event).execute()\n",
    "    print('Event created: %s' % (event.get('htmlLink')))\n",
    "    return event\n",
    "\n",
    "# 2. tools 정의\n",
    "tools = [\n",
    "    {\n",
    "        \"name\": \"create_event\",\n",
    "        \"description\": \"Create new Google Calender Event\",\n",
    "        \"input_schema\": {\n",
    "            \"type\": \"object\",\n",
    "            \"properties\": {\n",
    "                \"summary\": {\n",
    "                    \"type\": \"string\",\n",
    "                    \"description\": \"Name of Google Calender Event\"\n",
    "                },\n",
    "                \"start\": {\n",
    "                    \"type\": \"string\",\n",
    "                    \"description\": \"Starting date of Google Calender Event in UTC+9 Time i.e. 2024-08-08T09:00:00+09:00\"\n",
    "                },\n",
    "                \"end\": {\n",
    "                    \"type\": \"string\",\n",
    "                    \"description\": \"Starting date of Google Calender Event in UTC+9 Time i.e. 2024-08-08T09:00:00+09:00\"\n",
    "                }\n",
    "            },\n",
    "            \"required\": [\"summary\"]\n",
    "        }\n",
    "    }\n",
    "]\n",
    "\n",
    "# 3. LLM API 호출\n",
    "response = client.messages.create(\n",
    "    model=\"claude-3-5-sonnet-20240620\",\n",
    "    max_tokens=1024,\n",
    "    tools=tools,\n",
    "    messages=[\n",
    "        {\n",
    "            \"role\": \"user\",\n",
    "            \"content\": PROMPT\n",
    "        }\n",
    "    ],\n",
    ")\n",
    "messages.append(\n",
    "    {\n",
    "        \"role\": \"user\",\n",
    "        \"content\": PROMPT\n",
    "    }\n",
    ")\n",
    "\n",
    "# 4. (필요 시) Function Call 실행\n",
    "summary = response.content[1].input['summary']\n",
    "start = response.content[1].input['start']\n",
    "end = response.content[1].input['end']\n",
    "event = create_event(summary, start, end)\n",
    "\n",
    "# 5. LLM API 최종 호출\n",
    "response = client.messages.create(\n",
    "    model=\"claude-3-5-sonnet-20240620\",\n",
    "    max_tokens=1024,\n",
    "    tools=tools,\n",
    "    messages=[\n",
    "        {\n",
    "            \"role\": \"user\",\n",
    "            \"content\": PROMPT\n",
    "        },\n",
    "        {\n",
    "            \"role\": \"assistant\",\n",
    "            \"content\": [\n",
    "                {\n",
    "                    \"type\": \"text\",\n",
    "                    \"text\": PROMPT\n",
    "                },\n",
    "                {\n",
    "                    \"type\": \"tool_use\",\n",
    "                    \"id\": response.content[1].id,\n",
    "                    \"name\": \"create_event\",\n",
    "                    \"input\": {\"summary\": summary, \"start\": start, \"end\": end}\n",
    "                }\n",
    "            ]\n",
    "        },\n",
    "        {\n",
    "            \"role\": \"user\",\n",
    "            \"content\": [\n",
    "                {\n",
    "                    \"type\": \"tool_result\",\n",
    "                    \"tool_use_id\": response.content[1].id,\n",
    "                    \"content\": f\"Event created: {event.get('htmlLink')}\"\n",
    "                }\n",
    "            ]\n",
    "        }\n",
    "    ],\n",
    ")\n",
    "messages.append(\n",
    "    {\n",
    "        \"role\": \"assistant\",\n",
    "        \"content\": response.content[0].text\n",
    "    }\n",
    ")"
   ]
  },
  {
   "cell_type": "code",
   "execution_count": 4,
   "metadata": {},
   "outputs": [
    {
     "data": {
      "text/plain": [
       "[{'role': 'user', 'content': '2024년 8월 14일 12시부터 1시간 짜리 점심 일정 생성해주세요.'},\n",
       " {'role': 'assistant',\n",
       "  'content': '네, 2024년 8월 14일 12시부터 1시간 동안의 점심 일정이 성공적으로 생성되었습니다. 구글 캘린더에 \"점심 일정\"이라는 이름으로 이벤트가 추가되었습니다. \\n\\n일정 세부 정보:\\n- 날짜: 2024년 8월 14일 (수요일)\\n- 시간: 오후 12:00 ~ 오후 1:00 (1시간)\\n- 제목: 점심 일정\\n\\n이 일정은 구글 캘린더에서 확인하실 수 있습니다. 추가로 수정이나 다른 일정 관련 요청이 있으시면 말씀해 주세요.'}]"
      ]
     },
     "execution_count": 4,
     "metadata": {},
     "output_type": "execute_result"
    }
   ],
   "source": [
    "messages"
   ]
  },
  {
   "cell_type": "code",
   "execution_count": 4,
   "metadata": {},
   "outputs": [
    {
     "name": "stdout",
     "output_type": "stream",
     "text": [
      "점심 일정이 성공적으로 생성되었습니다. 일정 세부 사항은 다음과 같습니다:\n",
      "\n",
      "- 제목: 점심\n",
      "- 날짜: 2024년 8월 1일\n",
      "- 시작 시간: 오후 12:00\n",
      "- 종료 시간: 오후 1:00\n",
      "- 기간: 1시간\n",
      "\n",
      "Google 캘린더에 해당 일정이 추가되었으며, 링크를 통해 확인하실 수 있습니다. 추가로 수정하거나 확인하고 싶은 사항이 있으시면 말씀해 주세요.\n"
     ]
    }
   ],
   "source": [
    "print(response.content[0].text)"
   ]
  },
  {
   "cell_type": "code",
   "execution_count": 5,
   "metadata": {},
   "outputs": [
    {
     "data": {
      "text/plain": [
       "[{'role': 'user', 'content': '2024년 8월 1일 12시부터 1시간 짜리 점심 일정 생성해주세요.'},\n",
       " {'role': 'assistant',\n",
       "  'content': '점심 일정이 성공적으로 생성되었습니다. 일정 세부 사항은 다음과 같습니다:\\n\\n- 제목: 점심\\n- 날짜: 2024년 8월 1일\\n- 시작 시간: 오후 12:00\\n- 종료 시간: 오후 1:00\\n- 기간: 1시간\\n\\nGoogle 캘린더에 해당 일정이 추가되었으며, 링크를 통해 확인하실 수 있습니다. 추가로 수정하거나 확인하고 싶은 사항이 있으시면 말씀해 주세요.'}]"
      ]
     },
     "execution_count": 5,
     "metadata": {},
     "output_type": "execute_result"
    }
   ],
   "source": [
    "messages"
   ]
  },
  {
   "cell_type": "code",
   "execution_count": 5,
   "metadata": {},
   "outputs": [
    {
     "name": "stdout",
     "output_type": "stream",
     "text": [
      "죄송합니다만, 이전 대화 내용을 확인할 수 없어 귀하께서 어떤 요청을 하셨는지 정확히 알 수 없습니다. 이 대화는 새로 시작된 것으로 보입니다.\n",
      "\n",
      "혹시 특정 요청이나 주제에 대해 기억나시는 것이 있다면 말씀해 주시겠습니까? 그렇게 하시면 제가 더 잘 도와드릴 수 있을 것 같습니다. 아니면 새로운 요청이나 질문이 있으시다면 언제든 말씀해 주세요.\n"
     ]
    }
   ],
   "source": [
    "new_message = \"제가 이전에 어떤 요청을 드렸나요?\"\n",
    "\n",
    "response = client.messages.create(\n",
    "    model=\"claude-3-5-sonnet-20240620\",\n",
    "    max_tokens=1024,\n",
    "    tools=tools,\n",
    "    messages=[\n",
    "        {\n",
    "            \"role\": \"user\",\n",
    "            \"content\": new_message\n",
    "        }\n",
    "    ],\n",
    ")\n",
    "print(response.content[0].text)"
   ]
  },
  {
   "cell_type": "code",
   "execution_count": 6,
   "metadata": {},
   "outputs": [
    {
     "name": "stdout",
     "output_type": "stream",
     "text": [
      "귀하의 가장 최근 요청은 다음과 같습니다:\n",
      "\n",
      "\"2024년 8월 14일 12시부터 1시간 짜리 점심 일정 생성해주세요.\"\n",
      "\n",
      "이 요청에 따라 저는 구글 캘린더에 해당 일정을 생성하였습니다. 구체적으로:\n",
      "\n",
      "1. 날짜: 2024년 8월 14일\n",
      "2. 시간: 오후 12:00부터 오후 1:00까지 (1시간 동안)\n",
      "3. 제목: \"점심 일정\"\n",
      "\n",
      "이 일정이 성공적으로 생성되었음을 알려드렸습니다. 혹시 이 일정에 대해 추가로 수정하거나 다른 요청사항이 있으신가요?\n"
     ]
    }
   ],
   "source": [
    "new_message = \"저의 가장 최근 요청은 어떤 내용이었나요?\"\n",
    "\n",
    "messages.append(\n",
    "    {\n",
    "        \"role\": \"user\",\n",
    "        \"content\": new_message\n",
    "    }\n",
    ")\n",
    "\n",
    "response = client.messages.create(\n",
    "    model=\"claude-3-5-sonnet-20240620\",\n",
    "    max_tokens=1024,\n",
    "    tools=tools,\n",
    "    messages=messages,\n",
    ")\n",
    "print(response.content[0].text)"
   ]
  },
  {
   "cell_type": "code",
   "execution_count": null,
   "metadata": {},
   "outputs": [],
   "source": []
  }
 ],
 "metadata": {
  "kernelspec": {
   "display_name": ".venv",
   "language": "python",
   "name": "python3"
  },
  "language_info": {
   "codemirror_mode": {
    "name": "ipython",
    "version": 3
   },
   "file_extension": ".py",
   "mimetype": "text/x-python",
   "name": "python",
   "nbconvert_exporter": "python",
   "pygments_lexer": "ipython3",
   "version": "3.12.3"
  }
 },
 "nbformat": 4,
 "nbformat_minor": 2
}
