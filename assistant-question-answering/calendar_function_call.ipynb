{
 "cells": [
  {
   "cell_type": "code",
   "execution_count": 1,
   "metadata": {},
   "outputs": [],
   "source": [
    "import os\n",
    "\n",
    "import anthropic\n",
    "from google.oauth2.credentials import Credentials\n",
    "from google_auth_oauthlib.flow import InstalledAppFlow\n",
    "from googleapiclient.discovery import build\n",
    "\n",
    "\n",
    "SCOPES = ['https://www.googleapis.com/auth/calendar']\n",
    "\n",
    "\n",
    "\n",
    "if os.path.exists('./res/token.json'):\n",
    "    creds = Credentials.from_authorized_user_file('./res/token.json', SCOPES)\n",
    "else:\n",
    "    flow = InstalledAppFlow.from_client_secrets_file(\n",
    "        './res/credentials.json', SCOPES\n",
    "    )\n",
    "    creds = flow.run_local_server(port=0)\n",
    "    with open('./res/token.json', 'w') as token:\n",
    "        token.write(creds.to_json())\n",
    "\n",
    "service = build('calendar', 'v3', credentials=creds)"
   ]
  },
  {
   "cell_type": "markdown",
   "metadata": {},
   "source": [
    "### Function Call (Tool Use) 복습"
   ]
  },
  {
   "cell_type": "code",
   "execution_count": 2,
   "metadata": {},
   "outputs": [],
   "source": [
    "client = anthropic.Anthropic(\n",
    "    api_key=os.environ['ANTHROPIC_API_KEY']\n",
    ")\n",
    "\n",
    "response = client.messages.create(\n",
    "    model=\"claude-3-5-sonnet-20240620\",\n",
    "    max_tokens=1024,\n",
    "    tools=[\n",
    "        {\n",
    "            \"name\": \"get_weather\",\n",
    "            \"description\": \"Get the current weather in a given location\",\n",
    "            \"input_schema\": {\n",
    "                \"type\": \"object\",\n",
    "                \"properties\": {\n",
    "                    \"location\": {\n",
    "                        \"type\": \"string\",\n",
    "                        \"description\": \"The city and state, e.g. San Francisco, CA\",\n",
    "                    }\n",
    "                },\n",
    "                \"required\": [\"location\"],\n",
    "            },\n",
    "        }\n",
    "    ],\n",
    "    messages=[{\"role\": \"user\", \"content\": \"What's the weather like in San Francisco?\"}],\n",
    ")"
   ]
  },
  {
   "cell_type": "code",
   "execution_count": 3,
   "metadata": {},
   "outputs": [
    {
     "data": {
      "text/plain": [
       "[TextBlock(text='Certainly! I can help you with that information. Let me check the current weather in San Francisco for you using the available weather tool.', type='text'),\n",
       " ToolUseBlock(id='toolu_01PqFKZJaY3dCjawydorEwLW', input={'location': 'San Francisco, CA'}, name='get_weather', type='tool_use')]"
      ]
     },
     "execution_count": 3,
     "metadata": {},
     "output_type": "execute_result"
    }
   ],
   "source": [
    "response.content"
   ]
  },
  {
   "cell_type": "markdown",
   "metadata": {},
   "source": [
    "### Function Call + Google Calendar API"
   ]
  },
  {
   "cell_type": "code",
   "execution_count": 4,
   "metadata": {},
   "outputs": [],
   "source": [
    "event = {\n",
    "  'summary': '패스트캠퍼스 LLM 강의',\n",
    "  'location': '서울 강남구 테헤란로 231 West동 6층, 7층',\n",
    "  'start': {\n",
    "    'dateTime': '2024-08-14T09:00:00+09:00',\n",
    "    'timeZone': 'Asia/Seoul',\n",
    "  },\n",
    "  'end': {\n",
    "    'dateTime': '2024-08-14T18:00:00+09:00',\n",
    "    'timeZone': 'Asia/Seoul',\n",
    "  }\n",
    "}"
   ]
  },
  {
   "cell_type": "code",
   "execution_count": 5,
   "metadata": {},
   "outputs": [],
   "source": [
    "tools = [\n",
    "    {\n",
    "        \"name\": \"create_event\",\n",
    "        \"description\": \"Create new Google Calender Event\",\n",
    "        \"input_schema\": {\n",
    "            \"type\": \"object\",\n",
    "            \"properties\": {\n",
    "                \"summary\": {\n",
    "                    \"type\": \"string\",\n",
    "                    \"description\": \"Name of Google Calender Event\"\n",
    "                },\n",
    "                \"start\": {\n",
    "                    \"type\": \"string\",\n",
    "                    \"description\": \"Starting date of Google Calender Event in UTC+9 Time i.e. 2024-08-08T09:00:00+09:00\"\n",
    "                },\n",
    "                \"end\": {\n",
    "                    \"type\": \"string\",\n",
    "                    \"description\": \"Starting date of Google Calender Event in UTC+9 i.e. 2024-08-08T09:00:00+09:00\"\n",
    "                }\n",
    "            },\n",
    "            \"required\": [\"summary\"]\n",
    "        }\n",
    "    }\n",
    "]"
   ]
  },
  {
   "cell_type": "code",
   "execution_count": 6,
   "metadata": {},
   "outputs": [],
   "source": [
    "def create_event(summary, start, end):\n",
    "    event = {\n",
    "        'summary': summary,\n",
    "        'start': {\n",
    "            'dateTime': start,\n",
    "            'timeZone': 'Asia/Seoul',\n",
    "        },\n",
    "        'end': {\n",
    "            'dateTime': end,\n",
    "            'timeZone': 'Asia/Seoul',\n",
    "        }\n",
    "    }\n",
    "    event = service.events().insert(calendarId='primary', body=event).execute()\n",
    "    print('Event created: %s' % (event.get('htmlLink')))\n",
    "    return event"
   ]
  },
  {
   "cell_type": "code",
   "execution_count": 7,
   "metadata": {},
   "outputs": [],
   "source": [
    "response = client.messages.create(\n",
    "    model=\"claude-3-5-sonnet-20240620\",\n",
    "    max_tokens=1024,\n",
    "    tools=tools,\n",
    "    messages=[\n",
    "        {\n",
    "            \"role\": \"user\",\n",
    "            \"content\": \"Create a calender event called Lunch starting from 2024.08.14 1pm\"\n",
    "        }\n",
    "    ],\n",
    ")"
   ]
  },
  {
   "cell_type": "code",
   "execution_count": 8,
   "metadata": {},
   "outputs": [
    {
     "data": {
      "text/plain": [
       "[TextBlock(text='Certainly! I\\'d be happy to help you create a calendar event for your lunch. I\\'ll use the \"create_event\" function to set this up for you. However, I\\'ll need to clarify a couple of details to ensure the event is created correctly.\\n\\nFirst, I have the summary (name) of the event and the start time, but I need to know how long you\\'d like to allocate for lunch so I can set an end time. Typically, lunch events are scheduled for an hour, but please let me know if you\\'d prefer a different duration.\\n\\nAlso, the function requires the time to be in UTC+9 format. I\\'ll assume you\\'re in the same time zone, but please correct me if I\\'m wrong.\\n\\nBased on the information you\\'ve provided and assuming a one-hour duration, here\\'s how I would create the event:', type='text'),\n",
       " ToolUseBlock(id='toolu_016SdYeUboAXtQ7zSkREER7g', input={'summary': 'Lunch', 'start': '2024-08-14T13:00:00+09:00', 'end': '2024-08-14T14:00:00+09:00'}, name='create_event', type='tool_use')]"
      ]
     },
     "execution_count": 8,
     "metadata": {},
     "output_type": "execute_result"
    }
   ],
   "source": [
    "response.content"
   ]
  },
  {
   "cell_type": "code",
   "execution_count": 9,
   "metadata": {},
   "outputs": [
    {
     "data": {
      "text/plain": [
       "{'summary': 'Lunch',\n",
       " 'start': '2024-08-14T13:00:00+09:00',\n",
       " 'end': '2024-08-14T14:00:00+09:00'}"
      ]
     },
     "execution_count": 9,
     "metadata": {},
     "output_type": "execute_result"
    }
   ],
   "source": [
    "response.content[1].input"
   ]
  },
  {
   "cell_type": "code",
   "execution_count": 10,
   "metadata": {},
   "outputs": [
    {
     "name": "stdout",
     "output_type": "stream",
     "text": [
      "Event created: https://www.google.com/calendar/event?eid=NDExc2Via3BuYmFnOThybzBybzM2dGljc2MgcmVpbjIwLmFpQG0\n"
     ]
    },
    {
     "data": {
      "text/plain": [
       "{'kind': 'calendar#event',\n",
       " 'etag': '\"3447273218704000\"',\n",
       " 'id': '411sebkpnbag98ro0ro36ticsc',\n",
       " 'status': 'confirmed',\n",
       " 'htmlLink': 'https://www.google.com/calendar/event?eid=NDExc2Via3BuYmFnOThybzBybzM2dGljc2MgcmVpbjIwLmFpQG0',\n",
       " 'created': '2024-08-14T11:56:49.000Z',\n",
       " 'updated': '2024-08-14T11:56:49.352Z',\n",
       " 'summary': 'Lunch',\n",
       " 'creator': {'email': 'rein20.ai@gmail.com', 'self': True},\n",
       " 'organizer': {'email': 'rein20.ai@gmail.com', 'self': True},\n",
       " 'start': {'dateTime': '2024-08-14T13:00:00+09:00', 'timeZone': 'Asia/Seoul'},\n",
       " 'end': {'dateTime': '2024-08-14T14:00:00+09:00', 'timeZone': 'Asia/Seoul'},\n",
       " 'iCalUID': '411sebkpnbag98ro0ro36ticsc@google.com',\n",
       " 'sequence': 0,\n",
       " 'reminders': {'useDefault': True},\n",
       " 'eventType': 'default'}"
      ]
     },
     "execution_count": 10,
     "metadata": {},
     "output_type": "execute_result"
    }
   ],
   "source": [
    "summary = response.content[1].input['summary']\n",
    "start = response.content[1].input['start']\n",
    "end = response.content[1].input['end']\n",
    "create_event(summary, start, end)"
   ]
  },
  {
   "cell_type": "markdown",
   "metadata": {},
   "source": [
    "### End-to-End Function Call Workflow\n",
    "1. Function 준비 (또는 작성)\n",
    "2. Tools 정의\n",
    "3. LLM API 호출\n",
    "4. (필요 시) Function 실행 - 일반 발화가 필요한경우 실행 필요 X\n",
    "5. LLM API 최종 호출"
   ]
  },
  {
   "cell_type": "code",
   "execution_count": 11,
   "metadata": {},
   "outputs": [
    {
     "name": "stdout",
     "output_type": "stream",
     "text": [
      "Event created: https://www.google.com/calendar/event?eid=NDhiODUxMTZpN3VnbTY0ZDZkMTRycms3MDAgcmVpbjIwLmFpQG0\n"
     ]
    }
   ],
   "source": [
    "PROMPT = '2024년 8월 14일 12시부터 1시간 짜리 점심 일정 생성해주세요.'\n",
    "\n",
    "# 1. 함수 생성\n",
    "def create_event(summary, start, end):\n",
    "    event = {\n",
    "        'summary': summary,\n",
    "        'start': {\n",
    "            'dateTime': start,\n",
    "            'timeZone': 'Asia/Seoul',\n",
    "        },\n",
    "        'end': {\n",
    "            'dateTime': end,\n",
    "            'timeZone': 'Asia/Seoul',\n",
    "        }\n",
    "    }\n",
    "    event = service.events().insert(calendarId='primary', body=event).execute()\n",
    "    print('Event created: %s' % (event.get('htmlLink')))\n",
    "    return event\n",
    "\n",
    "# 2. tools 정의\n",
    "tools = [\n",
    "    {\n",
    "        \"name\": \"create_event\",\n",
    "        \"description\": \"Create new Google Calender Event\",\n",
    "        \"input_schema\": {\n",
    "            \"type\": \"object\",\n",
    "            \"properties\": {\n",
    "                \"summary\": {\n",
    "                    \"type\": \"string\",\n",
    "                    \"description\": \"Name of Google Calender Event\"\n",
    "                },\n",
    "                \"start\": {\n",
    "                    \"type\": \"string\",\n",
    "                    \"description\": \"Starting date of Google Calender Event in UTC+9 Time i.e. 2024-08-08T09:00:00+09:00\"\n",
    "                },\n",
    "                \"end\": {\n",
    "                    \"type\": \"string\",\n",
    "                    \"description\": \"Starting date of Google Calender Event in UTC+9 Time i.e. 2024-08-08T09:00:00+09:00\"\n",
    "                }\n",
    "            },\n",
    "            \"required\": [\"summary\"]\n",
    "        }\n",
    "    }\n",
    "]\n",
    "\n",
    "# 3. LLM API 호출\n",
    "response = client.messages.create(\n",
    "    model=\"claude-3-5-sonnet-20240620\",\n",
    "    max_tokens=1024,\n",
    "    tools=tools,\n",
    "    messages=[\n",
    "        {\n",
    "            \"role\": \"user\",\n",
    "            \"content\": PROMPT\n",
    "        }\n",
    "    ],\n",
    ")\n",
    "\n",
    "# 4. (필요 시) Function Call 실행\n",
    "summary = response.content[1].input['summary']\n",
    "start = response.content[1].input['start']\n",
    "end = response.content[1].input['end']\n",
    "event = create_event(summary, start, end)\n",
    "\n",
    "# 5. LLM API 최종 호출\n",
    "response = client.messages.create(\n",
    "    model=\"claude-3-5-sonnet-20240620\",\n",
    "    max_tokens=1024,\n",
    "    tools=tools,\n",
    "    messages=[\n",
    "        {\n",
    "            \"role\": \"user\",\n",
    "            \"content\": PROMPT\n",
    "        },\n",
    "        {\n",
    "            \"role\": \"assistant\",\n",
    "            \"content\": [\n",
    "                {\n",
    "                    \"type\": \"text\",\n",
    "                    \"text\": PROMPT\n",
    "                },\n",
    "                {\n",
    "                    \"type\": \"tool_use\",\n",
    "                    \"id\": response.content[1].id,\n",
    "                    \"name\": \"create_event\",\n",
    "                    \"input\": {\"summary\": summary, \"start\": start, \"end\": end}\n",
    "                }\n",
    "            ]\n",
    "        },\n",
    "        {\n",
    "            \"role\": \"user\",\n",
    "            \"content\": [\n",
    "                {\n",
    "                    \"type\": \"tool_result\",\n",
    "                    \"tool_use_id\": response.content[1].id,\n",
    "                    \"content\": f\"Event created: {event.get('htmlLink')}\"\n",
    "                }\n",
    "            ]\n",
    "        }\n",
    "    ],\n",
    ")"
   ]
  },
  {
   "cell_type": "code",
   "execution_count": 12,
   "metadata": {},
   "outputs": [
    {
     "name": "stdout",
     "output_type": "stream",
     "text": [
      "네, 2024년 8월 14일 12시부터 1시간 동안의 점심 일정을 생성했습니다. Google 캘린더에 다음과 같이 일정이 추가되었습니다:\n",
      "\n",
      "- 일정 제목: 점심 일정\n",
      "- 시작 시간: 2024년 8월 14일 오후 12:00\n",
      "- 종료 시간: 2024년 8월 14일 오후 1:00\n",
      "\n",
      "일정이 성공적으로 생성되었습니다. 필요하시다면 제공된 링크를 통해 일정을 확인하거나 수정하실 수 있습니다. 다른 도움이 필요하신가요?\n"
     ]
    }
   ],
   "source": [
    "print(response.content[0].text)"
   ]
  },
  {
   "cell_type": "code",
   "execution_count": null,
   "metadata": {},
   "outputs": [],
   "source": []
  }
 ],
 "metadata": {
  "kernelspec": {
   "display_name": ".venv",
   "language": "python",
   "name": "python3"
  },
  "language_info": {
   "codemirror_mode": {
    "name": "ipython",
    "version": 3
   },
   "file_extension": ".py",
   "mimetype": "text/x-python",
   "name": "python",
   "nbconvert_exporter": "python",
   "pygments_lexer": "ipython3",
   "version": "3.12.3"
  }
 },
 "nbformat": 4,
 "nbformat_minor": 2
}
