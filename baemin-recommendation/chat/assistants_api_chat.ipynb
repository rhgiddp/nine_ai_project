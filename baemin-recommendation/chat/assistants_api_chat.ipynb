{
 "cells": [
  {
   "cell_type": "code",
   "execution_count": 1,
   "metadata": {},
   "outputs": [],
   "source": [
    "import os\n",
    "from openai import OpenAI\n",
    "\n",
    "\n",
    "client = OpenAI(api_key=os.environ[\"OPENAI_API_KEY\"])\n",
    "\n",
    "assistant = client.beta.assistants.create(\n",
    "  name=\"Math Tutor\",\n",
    "  instructions=\"You are a personal math tutor. Write and run code to answer math questions.\",\n",
    "  tools=[{\"type\": \"code_interpreter\"}],\n",
    "  model=\"gpt-4o\",\n",
    ")\n",
    "thread = client.beta.threads.create()"
   ]
  },
  {
   "cell_type": "code",
   "execution_count": 2,
   "metadata": {},
   "outputs": [],
   "source": [
    "message = client.beta.threads.messages.create(\n",
    "  thread_id=thread.id,\n",
    "  role=\"user\",\n",
    "  content=\"I need to solve the equation `3x + 11 = 14`. Can you help me?\"\n",
    ")"
   ]
  },
  {
   "cell_type": "code",
   "execution_count": 3,
   "metadata": {},
   "outputs": [],
   "source": [
    "run = client.beta.threads.runs.create_and_poll(\n",
    "  thread_id=thread.id,\n",
    "  assistant_id=assistant.id,\n",
    "  instructions=\"Please address the user as Jane Doe. The user has a premium account.\"\n",
    ")"
   ]
  },
  {
   "cell_type": "code",
   "execution_count": 4,
   "metadata": {},
   "outputs": [
    {
     "data": {
      "text/plain": [
       "Run(id='run_rW7Uh7P350QRPisoNsFnQb3G', assistant_id='asst_JlxVx3YJuurdp597mynEI96R', cancelled_at=None, completed_at=1725170725, created_at=1725170723, expires_at=None, failed_at=None, incomplete_details=None, instructions='Please address the user as Jane Doe. The user has a premium account.', last_error=None, max_completion_tokens=None, max_prompt_tokens=None, metadata={}, model='gpt-4o', object='thread.run', parallel_tool_calls=True, required_action=None, response_format='auto', started_at=1725170723, status='completed', thread_id='thread_tniQasb7MFbZB6NY2cs9GO0b', tool_choice='auto', tools=[CodeInterpreterTool(type='code_interpreter')], truncation_strategy=TruncationStrategy(type='auto', last_messages=None), usage=Usage(completion_tokens=174, prompt_tokens=151, total_tokens=325), temperature=1.0, top_p=1.0, tool_resources={})"
      ]
     },
     "execution_count": 4,
     "metadata": {},
     "output_type": "execute_result"
    }
   ],
   "source": [
    "run"
   ]
  },
  {
   "cell_type": "code",
   "execution_count": 5,
   "metadata": {},
   "outputs": [
    {
     "name": "stdout",
     "output_type": "stream",
     "text": [
      "SyncCursorPage[Message](data=[Message(id='msg_wwqBiHKWhXdyjb9eOrAWAvkG', assistant_id='asst_JlxVx3YJuurdp597mynEI96R', attachments=[], completed_at=None, content=[TextContentBlock(text=Text(annotations=[], value=\"Sure, Jane Doe! Let's solve the equation \\\\( 3x + 11 = 14 \\\\).\\n\\nWe can follow these steps to isolate \\\\( x \\\\):\\n\\n1. Subtract 11 from both sides of the equation to get rid of the constant term on the left side.\\n2. Divide both sides by 3 to solve for \\\\( x \\\\).\\n\\nLet's do this step by step.\\n\\nStarting with the equation:\\n\\\\[ 3x + 11 = 14 \\\\]\\n\\nSubtract 11 from both sides:\\n\\\\[ 3x + 11 - 11 = 14 - 11 \\\\]\\n\\\\[ 3x = 3 \\\\]\\n\\nNow divide both sides by 3:\\n\\\\[ x = \\\\frac{3}{3} \\\\]\\n\\\\[ x = 1 \\\\]\\n\\nSo, the solution to the equation is:\\n\\\\[ x = 1 \\\\]\"), type='text')], created_at=1725170723, incomplete_at=None, incomplete_details=None, metadata={}, object='thread.message', role='assistant', run_id='run_rW7Uh7P350QRPisoNsFnQb3G', status=None, thread_id='thread_tniQasb7MFbZB6NY2cs9GO0b'), Message(id='msg_djED1Hpn6zVAYThK6Us6G67V', assistant_id=None, attachments=[], completed_at=None, content=[TextContentBlock(text=Text(annotations=[], value='I need to solve the equation `3x + 11 = 14`. Can you help me?'), type='text')], created_at=1725170722, incomplete_at=None, incomplete_details=None, metadata={}, object='thread.message', role='user', run_id=None, status=None, thread_id='thread_tniQasb7MFbZB6NY2cs9GO0b')], object='list', first_id='msg_wwqBiHKWhXdyjb9eOrAWAvkG', last_id='msg_djED1Hpn6zVAYThK6Us6G67V', has_more=False)\n"
     ]
    }
   ],
   "source": [
    "if run.status == 'completed': \n",
    "  messages = client.beta.threads.messages.list(\n",
    "    thread_id=thread.id\n",
    "  )\n",
    "  print(messages)\n",
    "else:\n",
    "  print(run.status)"
   ]
  },
  {
   "cell_type": "code",
   "execution_count": null,
   "metadata": {},
   "outputs": [],
   "source": []
  }
 ],
 "metadata": {
  "kernelspec": {
   "display_name": ".venv",
   "language": "python",
   "name": "python3"
  },
  "language_info": {
   "codemirror_mode": {
    "name": "ipython",
    "version": 3
   },
   "file_extension": ".py",
   "mimetype": "text/x-python",
   "name": "python",
   "nbconvert_exporter": "python",
   "pygments_lexer": "ipython3",
   "version": "3.12.3"
  }
 },
 "nbformat": 4,
 "nbformat_minor": 2
}
