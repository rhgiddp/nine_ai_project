{
 "cells": [
  {
   "cell_type": "code",
   "execution_count": 3,
   "metadata": {},
   "outputs": [
    {
     "name": "stdout",
     "output_type": "stream",
     "text": [
      "Request successful!\n",
      "Received response: [{'_id': '1244448_12', 'score': 0.4079955859860546, 'menu': '뽕따프라페', 'restaurant': '플러스82-분당점', 'url': 'https://www.yogiyo.co.kr/mobile/#/1244448'}, {'_id': '1244448_11', 'score': 0.3963077914410869, 'menu': '수박주스x3', 'restaurant': '플러스82-분당점', 'url': 'https://www.yogiyo.co.kr/mobile/#/1244448'}, {'_id': '1244448_1', 'score': 0.39073353386951637, 'menu': '미숫가루', 'restaurant': '플러스82-분당점', 'url': 'https://www.yogiyo.co.kr/mobile/#/1244448'}, {'_id': '576188_6', 'score': 0.38083183741662063, 'menu': '호밀빵 ', 'restaurant': '파스타입니다-야탑성남시청점', 'url': 'https://www.yogiyo.co.kr/mobile/#/576188'}, {'_id': '1244448_14', 'score': 0.3759287814455701, 'menu': '초코라떼', 'restaurant': '플러스82-분당점', 'url': 'https://www.yogiyo.co.kr/mobile/#/1244448'}, {'_id': '1244448_16', 'score': 0.3725408781028831, 'menu': '[SUMMER NEW]수박주스', 'restaurant': '플러스82-분당점', 'url': 'https://www.yogiyo.co.kr/mobile/#/1244448'}, {'_id': '1244448_6', 'score': 0.36919076595479794, 'menu': '카라멜마끼야또', 'restaurant': '플러스82-분당점', 'url': 'https://www.yogiyo.co.kr/mobile/#/1244448'}, {'_id': '1244448_5', 'score': 0.35648255721516553, 'menu': '수제 생크림（따로）와플', 'restaurant': '플러스82-분당점', 'url': 'https://www.yogiyo.co.kr/mobile/#/1244448'}, {'_id': '1244448_8', 'score': 0.34369920942434723, 'menu': '탱크보이스무디', 'restaurant': '플러스82-분당점', 'url': 'https://www.yogiyo.co.kr/mobile/#/1244448'}, {'_id': '576188_2', 'score': 0.3384735803236712, 'menu': '（NEW）대표메뉴 얼큰해장파스타', 'restaurant': '파스타입니다-야탑성남시청점', 'url': 'https://www.yogiyo.co.kr/mobile/#/576188'}]\n"
     ]
    }
   ],
   "source": [
    "import requests\n",
    "\n",
    "# URL of your FastAPI server\n",
    "url = \"http://localhost:8000/recommend\"\n",
    "\n",
    "# The query text to send\n",
    "query_text = \"속이 너무 부대끼는데 해장 할 만한 메뉴 추천해줘\"\n",
    "\n",
    "# Send the POST request\n",
    "response = requests.post(\n",
    "    url,\n",
    "    json={\"query_text\": query_text}\n",
    ")\n",
    "\n",
    "# Check the response\n",
    "if response.status_code == 200:\n",
    "    print(\"Request successful!\")\n",
    "    print(\"Received response:\", response.json())\n",
    "else:\n",
    "    print(\"Request failed with status code:\", response.status_code)\n",
    "    print(\"Response:\", response.text)"
   ]
  },
  {
   "cell_type": "code",
   "execution_count": null,
   "metadata": {},
   "outputs": [],
   "source": []
  }
 ],
 "metadata": {
  "kernelspec": {
   "display_name": ".venv",
   "language": "python",
   "name": "python3"
  },
  "language_info": {
   "codemirror_mode": {
    "name": "ipython",
    "version": 3
   },
   "file_extension": ".py",
   "mimetype": "text/x-python",
   "name": "python",
   "nbconvert_exporter": "python",
   "pygments_lexer": "ipython3",
   "version": "3.12.3"
  }
 },
 "nbformat": 4,
 "nbformat_minor": 2
}
