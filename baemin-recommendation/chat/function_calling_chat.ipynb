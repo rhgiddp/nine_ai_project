{
 "cells": [
  {
   "cell_type": "code",
   "execution_count": 1,
   "metadata": {},
   "outputs": [],
   "source": [
    "import os\n",
    "from openai import OpenAI\n",
    "\n",
    "client = OpenAI(api_key=os.environ[\"OPENAI_API_KEY\"])"
   ]
  },
  {
   "cell_type": "code",
   "execution_count": 2,
   "metadata": {},
   "outputs": [],
   "source": [
    "import requests\n",
    "\n",
    "SYSTEM_PROMPT = f\"\"\"당신의 이름은 '메뉴뚝딱AI'이며 당신의 역할은 배달의민족이라는 음식 주문 모바일 어플에서 리뷰 텍스트 기반으로 메뉴를 추천해주는 것입니다.\n",
    "실제 배달의민족 어플 내 주문이 가능한 메뉴 및 음식점을 추천해줘야 하며 단순한 메뉴명을 추천해줄 수 없습니다. (ex. 해장국, 파스타)\n",
    "추천 가능한 메뉴는 recommend 함수를 통해 결과를 받아 올 수 있습니다.\n",
    "당신은 사용자의 발화를 기반으로 메뉴 추천 API를 호출하여 API 결과를 기반으로 사용자에게 최상의 추천 결과를 제공해야 합니다.\n",
    "\"\"\"\n",
    "\n",
    "MESSAGES = [\n",
    "    {\n",
    "        'role': 'system',\n",
    "        'content': SYSTEM_PROMPT\n",
    "    }\n",
    "]\n",
    "\n",
    "def recommend(query_text):\n",
    "    url = \"http://localhost:8000/recommend\"\n",
    "    response = requests.post(url, json={\"query_text\": query_text})\n",
    "    return response.json()\n",
    "\n",
    "\n",
    "tools = [\n",
    "    {\n",
    "        \"type\": \"function\",\n",
    "        \"function\": {\n",
    "            \"name\": \"recommend\",\n",
    "            \"description\": \"사용자 발화 기반으로 메뉴 추천 API를 호출합니다. 오로지 이 함수 결과로만 메뉴 추천되어야 합니다. 현재 해장 또는 다이어트 2개 카테고리에 대한 메뉴 추천만 가능하며, 사용자 발화가 없는 경우 빈 리스트가 반환 될 수 있습니다.\",\n",
    "            \"parameters\": {\n",
    "                \"type\": \"object\",\n",
    "                \"properties\": {\n",
    "                    \"query_text\": {\n",
    "                        \"type\": \"string\",\n",
    "                        \"description\": \"사용자 발화 텍스트 원문\",\n",
    "                    },\n",
    "                },\n",
    "                \"required\": [\"query_text\"],\n",
    "                \"additionalProperties\": False,\n",
    "            },\n",
    "        }\n",
    "    }\n",
    "]"
   ]
  },
  {
   "cell_type": "code",
   "execution_count": 3,
   "metadata": {},
   "outputs": [
    {
     "data": {
      "text/plain": [
       "ChatCompletion(id='chatcmpl-A2Vi3WQb249ZigEmgZ7EhZFPuQZYK', choices=[Choice(finish_reason='stop', index=0, logprobs=None, message=ChatCompletionMessage(content='안녕하세요! 무엇을 도와드릴까요? 맛있는 메뉴 추천이 필요하신가요?', refusal=None, role='assistant', function_call=None, tool_calls=None))], created=1725161911, model='gpt-4o-2024-08-06', object='chat.completion', service_tier=None, system_fingerprint='fp_9e15ccd6a4', usage=CompletionUsage(completion_tokens=23, prompt_tokens=245, total_tokens=268))"
      ]
     },
     "execution_count": 3,
     "metadata": {},
     "output_type": "execute_result"
    }
   ],
   "source": [
    "MESSAGES.append(\n",
    "    {\"role\": \"user\", \"content\": \"안녕\"}\n",
    ")\n",
    "\n",
    "completion = client.chat.completions.create(\n",
    "    messages=MESSAGES,\n",
    "    model=\"gpt-4o-2024-08-06\",\n",
    "    tools=tools\n",
    ")\n",
    "\n",
    "completion"
   ]
  },
  {
   "cell_type": "code",
   "execution_count": 4,
   "metadata": {},
   "outputs": [],
   "source": [
    "if completion.choices[0].finish_reason == \"tool_calls\":\n",
    "    print('function calling lets go')\n",
    "else:\n",
    "    MESSAGES.append(\n",
    "        {\"role\": \"assistant\", \"content\": completion.choices[0].message.content}\n",
    "    )"
   ]
  },
  {
   "cell_type": "code",
   "execution_count": 5,
   "metadata": {},
   "outputs": [
    {
     "data": {
      "text/plain": [
       "[{'role': 'system',\n",
       "  'content': \"당신의 이름은 '메뉴뚝딱AI'이며 당신의 역할은 배달의민족이라는 음식 주문 모바일 어플에서 리뷰 텍스트 기반으로 메뉴를 추천해주는 것입니다.\\n실제 배달의민족 어플 내 주문이 가능한 메뉴 및 음식점을 추천해줘야 하며 단순한 메뉴명을 추천해줄 수 없습니다. (ex. 해장국, 파스타)\\n추천 가능한 메뉴는 recommend 함수를 통해 결과를 받아 올 수 있습니다.\\n당신은 사용자의 발화를 기반으로 메뉴 추천 API를 호출하여 API 결과를 기반으로 사용자에게 최상의 추천 결과를 제공해야 합니다.\\n\"},\n",
       " {'role': 'user', 'content': '안녕'},\n",
       " {'role': 'assistant', 'content': '안녕하세요! 무엇을 도와드릴까요? 맛있는 메뉴 추천이 필요하신가요?'}]"
      ]
     },
     "execution_count": 5,
     "metadata": {},
     "output_type": "execute_result"
    }
   ],
   "source": [
    "MESSAGES"
   ]
  },
  {
   "cell_type": "code",
   "execution_count": 6,
   "metadata": {},
   "outputs": [
    {
     "data": {
      "text/plain": [
       "ChatCompletion(id='chatcmpl-A2Vi3sI697KFHmS0kwxYsD9VNOTMX', choices=[Choice(finish_reason='tool_calls', index=0, logprobs=None, message=ChatCompletionMessage(content=None, refusal=None, role='assistant', function_call=None, tool_calls=[ChatCompletionMessageToolCall(id='call_BBq6RxyI6q9SCV0YLN2Ufhwp', function=Function(arguments='{\"query_text\":\"해장\"}', name='recommend'), type='function')]))], created=1725161911, model='gpt-4o-2024-08-06', object='chat.completion', service_tier=None, system_fingerprint='fp_cbac5eb3c0', usage=CompletionUsage(completion_tokens=16, prompt_tokens=283, total_tokens=299))"
      ]
     },
     "execution_count": 6,
     "metadata": {},
     "output_type": "execute_result"
    }
   ],
   "source": [
    "MESSAGES.append(\n",
    "    {\"role\": \"user\", \"content\": \"해장 메뉴 추천해줄레?\"}\n",
    ")\n",
    "\n",
    "completion = client.chat.completions.create(\n",
    "    messages=MESSAGES,\n",
    "    model=\"gpt-4o-2024-08-06\",\n",
    "    tools=tools\n",
    ")\n",
    "\n",
    "completion"
   ]
  },
  {
   "cell_type": "code",
   "execution_count": 7,
   "metadata": {},
   "outputs": [
    {
     "name": "stdout",
     "output_type": "stream",
     "text": [
      "function calling lets go\n"
     ]
    }
   ],
   "source": [
    "import json\n",
    "\n",
    "if completion.choices[0].finish_reason == \"tool_calls\":\n",
    "    tool_calls = completion.choices[0].message.tool_calls\n",
    "    tool_name = tool_calls[0].function.name\n",
    "    tool_args = tool_calls[0].function.arguments\n",
    "    tool_id = tool_calls[0].id\n",
    "    print('function calling lets go')\n",
    "else:\n",
    "    MESSAGES.append(\n",
    "        {\"role\": \"assistant\", \"content\": completion.choices[0].message.content}\n",
    "    )"
   ]
  },
  {
   "cell_type": "code",
   "execution_count": 8,
   "metadata": {},
   "outputs": [
    {
     "data": {
      "text/plain": [
       "ChatCompletionMessageToolCall(id='call_BBq6RxyI6q9SCV0YLN2Ufhwp', function=Function(arguments='{\"query_text\":\"해장\"}', name='recommend'), type='function')"
      ]
     },
     "execution_count": 8,
     "metadata": {},
     "output_type": "execute_result"
    }
   ],
   "source": [
    "completion.choices[0].message.tool_calls[0]"
   ]
  },
  {
   "cell_type": "code",
   "execution_count": 9,
   "metadata": {},
   "outputs": [
    {
     "data": {
      "text/plain": [
       "[{'_id': '1244448_12',\n",
       "  'score': 0.4079955859860546,\n",
       "  'menu': '뽕따프라페',\n",
       "  'restaurant': '플러스82-분당점',\n",
       "  'url': 'https://www.yogiyo.co.kr/mobile/#/1244448'},\n",
       " {'_id': '1244448_11',\n",
       "  'score': 0.3963077914410869,\n",
       "  'menu': '수박주스x3',\n",
       "  'restaurant': '플러스82-분당점',\n",
       "  'url': 'https://www.yogiyo.co.kr/mobile/#/1244448'},\n",
       " {'_id': '1244448_1',\n",
       "  'score': 0.39073353386951637,\n",
       "  'menu': '미숫가루',\n",
       "  'restaurant': '플러스82-분당점',\n",
       "  'url': 'https://www.yogiyo.co.kr/mobile/#/1244448'}]"
      ]
     },
     "execution_count": 9,
     "metadata": {},
     "output_type": "execute_result"
    }
   ],
   "source": [
    "tool_result = recommend(**json.loads(tool_args))\n",
    "tool_result[:3]"
   ]
  },
  {
   "cell_type": "code",
   "execution_count": 10,
   "metadata": {},
   "outputs": [
    {
     "data": {
      "text/plain": [
       "'call_BBq6RxyI6q9SCV0YLN2Ufhwp'"
      ]
     },
     "execution_count": 10,
     "metadata": {},
     "output_type": "execute_result"
    }
   ],
   "source": [
    "tool_calls[0].id"
   ]
  },
  {
   "cell_type": "code",
   "execution_count": 11,
   "metadata": {},
   "outputs": [
    {
     "data": {
      "text/plain": [
       "[{'role': 'system',\n",
       "  'content': \"당신의 이름은 '메뉴뚝딱AI'이며 당신의 역할은 배달의민족이라는 음식 주문 모바일 어플에서 리뷰 텍스트 기반으로 메뉴를 추천해주는 것입니다.\\n실제 배달의민족 어플 내 주문이 가능한 메뉴 및 음식점을 추천해줘야 하며 단순한 메뉴명을 추천해줄 수 없습니다. (ex. 해장국, 파스타)\\n추천 가능한 메뉴는 recommend 함수를 통해 결과를 받아 올 수 있습니다.\\n당신은 사용자의 발화를 기반으로 메뉴 추천 API를 호출하여 API 결과를 기반으로 사용자에게 최상의 추천 결과를 제공해야 합니다.\\n\"},\n",
       " {'role': 'user', 'content': '안녕'},\n",
       " {'role': 'assistant', 'content': '안녕하세요! 무엇을 도와드릴까요? 맛있는 메뉴 추천이 필요하신가요?'},\n",
       " {'role': 'user', 'content': '해장 메뉴 추천해줄레?'}]"
      ]
     },
     "execution_count": 11,
     "metadata": {},
     "output_type": "execute_result"
    }
   ],
   "source": [
    "MESSAGES"
   ]
  },
  {
   "cell_type": "code",
   "execution_count": 12,
   "metadata": {},
   "outputs": [],
   "source": [
    "MESSAGES.append({\n",
    "    \"role\": \"assistant\",  # user does not work\n",
    "    \"content\": None,\n",
    "    \"tool_calls\": [\n",
    "        {\n",
    "            \"id\": tool_id,\n",
    "            \"type\": \"function\",\n",
    "            \"function\": {\n",
    "                \"name\": tool_name,\n",
    "                \"arguments\": tool_args\n",
    "            }\n",
    "        }\n",
    "    ]\n",
    "})"
   ]
  },
  {
   "cell_type": "code",
   "execution_count": 13,
   "metadata": {},
   "outputs": [
    {
     "data": {
      "text/plain": [
       "'{\"query_text\":\"해장\"}'"
      ]
     },
     "execution_count": 13,
     "metadata": {},
     "output_type": "execute_result"
    }
   ],
   "source": [
    "tool_args"
   ]
  },
  {
   "cell_type": "code",
   "execution_count": 14,
   "metadata": {},
   "outputs": [
    {
     "data": {
      "text/plain": [
       "[{'role': 'system',\n",
       "  'content': \"당신의 이름은 '메뉴뚝딱AI'이며 당신의 역할은 배달의민족이라는 음식 주문 모바일 어플에서 리뷰 텍스트 기반으로 메뉴를 추천해주는 것입니다.\\n실제 배달의민족 어플 내 주문이 가능한 메뉴 및 음식점을 추천해줘야 하며 단순한 메뉴명을 추천해줄 수 없습니다. (ex. 해장국, 파스타)\\n추천 가능한 메뉴는 recommend 함수를 통해 결과를 받아 올 수 있습니다.\\n당신은 사용자의 발화를 기반으로 메뉴 추천 API를 호출하여 API 결과를 기반으로 사용자에게 최상의 추천 결과를 제공해야 합니다.\\n\"},\n",
       " {'role': 'user', 'content': '안녕'},\n",
       " {'role': 'assistant', 'content': '안녕하세요! 무엇을 도와드릴까요? 맛있는 메뉴 추천이 필요하신가요?'},\n",
       " {'role': 'user', 'content': '해장 메뉴 추천해줄레?'},\n",
       " {'role': 'assistant',\n",
       "  'content': None,\n",
       "  'tool_calls': [{'id': 'call_BBq6RxyI6q9SCV0YLN2Ufhwp',\n",
       "    'type': 'function',\n",
       "    'function': {'name': 'recommend', 'arguments': '{\"query_text\":\"해장\"}'}}]}]"
      ]
     },
     "execution_count": 14,
     "metadata": {},
     "output_type": "execute_result"
    }
   ],
   "source": [
    "MESSAGES"
   ]
  },
  {
   "cell_type": "code",
   "execution_count": 15,
   "metadata": {},
   "outputs": [
    {
     "data": {
      "text/plain": [
       "[{'_id': '1244448_12',\n",
       "  'score': 0.4079955859860546,\n",
       "  'menu': '뽕따프라페',\n",
       "  'restaurant': '플러스82-분당점',\n",
       "  'url': 'https://www.yogiyo.co.kr/mobile/#/1244448'},\n",
       " {'_id': '1244448_11',\n",
       "  'score': 0.3963077914410869,\n",
       "  'menu': '수박주스x3',\n",
       "  'restaurant': '플러스82-분당점',\n",
       "  'url': 'https://www.yogiyo.co.kr/mobile/#/1244448'},\n",
       " {'_id': '1244448_1',\n",
       "  'score': 0.39073353386951637,\n",
       "  'menu': '미숫가루',\n",
       "  'restaurant': '플러스82-분당점',\n",
       "  'url': 'https://www.yogiyo.co.kr/mobile/#/1244448'}]"
      ]
     },
     "execution_count": 15,
     "metadata": {},
     "output_type": "execute_result"
    }
   ],
   "source": [
    "tool_result[:3]"
   ]
  },
  {
   "cell_type": "code",
   "execution_count": 25,
   "metadata": {},
   "outputs": [],
   "source": [
    "MESSAGES.append({\n",
    "    \"role\": \"tool\",\n",
    "    \"content\": json.dumps(tool_result[:3], ensure_ascii=False),\n",
    "    \"tool_call_id\": tool_id\n",
    "})"
   ]
  },
  {
   "cell_type": "code",
   "execution_count": 26,
   "metadata": {},
   "outputs": [
    {
     "data": {
      "text/plain": [
       "[{'role': 'system',\n",
       "  'content': \"당신의 이름은 '메뉴뚝딱AI'이며 당신의 역할은 배달의민족이라는 음식 주문 모바일 어플에서 리뷰 텍스트 기반으로 메뉴를 추천해주는 것입니다.\\n실제 배달의민족 어플 내 주문이 가능한 메뉴 및 음식점을 추천해줘야 하며 단순한 메뉴명을 추천해줄 수 없습니다. (ex. 해장국, 파스타)\\n추천 가능한 메뉴는 recommend 함수를 통해 결과를 받아 올 수 있습니다.\\n당신은 사용자의 발화를 기반으로 메뉴 추천 API를 호출하여 API 결과를 기반으로 사용자에게 최상의 추천 결과를 제공해야 합니다.\\n\"},\n",
       " {'role': 'user', 'content': '안녕'},\n",
       " {'role': 'assistant', 'content': '안녕하세요! 무엇을 도와드릴까요? 맛있는 메뉴 추천이 필요하신가요?'},\n",
       " {'role': 'user', 'content': '해장 메뉴 추천해줄레?'},\n",
       " {'role': 'assistant',\n",
       "  'content': None,\n",
       "  'tool_calls': [{'id': 'call_BBq6RxyI6q9SCV0YLN2Ufhwp',\n",
       "    'type': 'function',\n",
       "    'function': {'name': 'recommend', 'arguments': '{\"query_text\":\"해장\"}'}}]},\n",
       " {'role': 'tool',\n",
       "  'content': '[{\"_id\": \"1244448_12\", \"score\": 0.4079955859860546, \"menu\": \"뽕따프라페\", \"restaurant\": \"플러스82-분당점\", \"url\": \"https://www.yogiyo.co.kr/mobile/#/1244448\"}, {\"_id\": \"1244448_11\", \"score\": 0.3963077914410869, \"menu\": \"수박주스x3\", \"restaurant\": \"플러스82-분당점\", \"url\": \"https://www.yogiyo.co.kr/mobile/#/1244448\"}, {\"_id\": \"1244448_1\", \"score\": 0.39073353386951637, \"menu\": \"미숫가루\", \"restaurant\": \"플러스82-분당점\", \"url\": \"https://www.yogiyo.co.kr/mobile/#/1244448\"}]',\n",
       "  'tool_call_id': 'call_BBq6RxyI6q9SCV0YLN2Ufhwp'}]"
      ]
     },
     "execution_count": 26,
     "metadata": {},
     "output_type": "execute_result"
    }
   ],
   "source": [
    "MESSAGES"
   ]
  },
  {
   "cell_type": "code",
   "execution_count": 27,
   "metadata": {},
   "outputs": [
    {
     "data": {
      "text/plain": [
       "ChatCompletion(id='chatcmpl-A2VkhklHTXk5ZadwVzpPE526sU0Vo', choices=[Choice(finish_reason='stop', index=0, logprobs=None, message=ChatCompletionMessage(content='해장을 위한 메뉴를 추천해드릴게요:\\n\\n1. [뽕따프라페 - 플러스82-분당점](https://www.yogiyo.co.kr/mobile/#/1244448)\\n2. [수박주스x3 - 플러스82-분당점](https://www.yogiyo.co.kr/mobile/#/1244448)\\n3. [미숫가루 - 플러스82-분당점](https://www.yogiyo.co.kr/mobile/#/1244448)\\n\\n각 메뉴는 소화와 해장에 도움을 줄 수 있는 음료들이에요. 이 메뉴들로 하루를 상쾌하게 시작해보세요!', refusal=None, role='assistant', function_call=None, tool_calls=None))], created=1725162075, model='gpt-4o-2024-08-06', object='chat.completion', service_tier=None, system_fingerprint='fp_9e15ccd6a4', usage=CompletionUsage(completion_tokens=148, prompt_tokens=506, total_tokens=654))"
      ]
     },
     "execution_count": 27,
     "metadata": {},
     "output_type": "execute_result"
    }
   ],
   "source": [
    "completion = client.chat.completions.create(\n",
    "    messages=MESSAGES,\n",
    "    model=\"gpt-4o-2024-08-06\",\n",
    "    tools=tools\n",
    ")\n",
    "completion"
   ]
  },
  {
   "cell_type": "code",
   "execution_count": 31,
   "metadata": {},
   "outputs": [],
   "source": [
    "MESSAGES.append(\n",
    "    {\"role\": \"assistant\", \"content\": completion.choices[0].message.content}\n",
    ")"
   ]
  },
  {
   "cell_type": "code",
   "execution_count": 32,
   "metadata": {},
   "outputs": [
    {
     "data": {
      "text/plain": [
       "[{'role': 'system',\n",
       "  'content': \"당신의 이름은 '메뉴뚝딱AI'이며 당신의 역할은 배달의민족이라는 음식 주문 모바일 어플에서 리뷰 텍스트 기반으로 메뉴를 추천해주는 것입니다.\\n실제 배달의민족 어플 내 주문이 가능한 메뉴 및 음식점을 추천해줘야 하며 단순한 메뉴명을 추천해줄 수 없습니다. (ex. 해장국, 파스타)\\n추천 가능한 메뉴는 recommend 함수를 통해 결과를 받아 올 수 있습니다.\\n당신은 사용자의 발화를 기반으로 메뉴 추천 API를 호출하여 API 결과를 기반으로 사용자에게 최상의 추천 결과를 제공해야 합니다.\\n\"},\n",
       " {'role': 'user', 'content': '안녕'},\n",
       " {'role': 'assistant', 'content': '안녕하세요! 무엇을 도와드릴까요? 맛있는 메뉴 추천이 필요하신가요?'},\n",
       " {'role': 'user', 'content': '해장 메뉴 추천해줄레?'},\n",
       " {'role': 'assistant',\n",
       "  'content': None,\n",
       "  'tool_calls': [{'id': 'call_BBq6RxyI6q9SCV0YLN2Ufhwp',\n",
       "    'type': 'function',\n",
       "    'function': {'name': 'recommend', 'arguments': '{\"query_text\":\"해장\"}'}}]},\n",
       " {'role': 'tool',\n",
       "  'content': '[{\"_id\": \"1244448_12\", \"score\": 0.4079955859860546, \"menu\": \"뽕따프라페\", \"restaurant\": \"플러스82-분당점\", \"url\": \"https://www.yogiyo.co.kr/mobile/#/1244448\"}, {\"_id\": \"1244448_11\", \"score\": 0.3963077914410869, \"menu\": \"수박주스x3\", \"restaurant\": \"플러스82-분당점\", \"url\": \"https://www.yogiyo.co.kr/mobile/#/1244448\"}, {\"_id\": \"1244448_1\", \"score\": 0.39073353386951637, \"menu\": \"미숫가루\", \"restaurant\": \"플러스82-분당점\", \"url\": \"https://www.yogiyo.co.kr/mobile/#/1244448\"}]',\n",
       "  'tool_call_id': 'call_BBq6RxyI6q9SCV0YLN2Ufhwp'},\n",
       " {'role': 'assistant',\n",
       "  'content': '해장을 위한 메뉴를 추천해드릴게요:\\n\\n1. [뽕따프라페 - 플러스82-분당점](https://www.yogiyo.co.kr/mobile/#/1244448)\\n2. [수박주스x3 - 플러스82-분당점](https://www.yogiyo.co.kr/mobile/#/1244448)\\n3. [미숫가루 - 플러스82-분당점](https://www.yogiyo.co.kr/mobile/#/1244448)\\n\\n각 메뉴는 소화와 해장에 도움을 줄 수 있는 음료들이에요. 이 메뉴들로 하루를 상쾌하게 시작해보세요!'}]"
      ]
     },
     "execution_count": 32,
     "metadata": {},
     "output_type": "execute_result"
    }
   ],
   "source": [
    "MESSAGES"
   ]
  },
  {
   "cell_type": "code",
   "execution_count": null,
   "metadata": {},
   "outputs": [],
   "source": []
  }
 ],
 "metadata": {
  "kernelspec": {
   "display_name": ".venv",
   "language": "python",
   "name": "python3"
  },
  "language_info": {
   "codemirror_mode": {
    "name": "ipython",
    "version": 3
   },
   "file_extension": ".py",
   "mimetype": "text/x-python",
   "name": "python",
   "nbconvert_exporter": "python",
   "pygments_lexer": "ipython3",
   "version": "3.12.3"
  }
 },
 "nbformat": 4,
 "nbformat_minor": 2
}
