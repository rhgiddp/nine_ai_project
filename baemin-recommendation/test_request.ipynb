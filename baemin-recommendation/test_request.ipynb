{
 "cells": [
  {
   "cell_type": "code",
   "execution_count": 1,
   "metadata": {},
   "outputs": [
    {
     "name": "stdout",
     "output_type": "stream",
     "text": [
      "Request successful!\n",
      "Received response: [{'recommend_reason': '해장에 좋은 메뉴들로 토마토주스, 미숫가루, 얼큰해장파스타를 골라봤어요! 좋은 선택이 될 거에요.', 'recommend_text': '', 'recommendations': [{'restaurant': '플러스82-분당점', 'menus': ['수박주스x3', '수제 생크림（따로）와플', '미숫가루', '[숙취해소] 생토마토주스', '[SUMMER NEW]수박주스', '1L 보틀 아메리카노', '[박수박수] 수박주스']}, {'restaurant': '파스타입니다-야탑성남시청점', 'menus': ['（NEW）대표메뉴 얼큰해장파스타']}]}]\n"
     ]
    }
   ],
   "source": [
    "import requests\n",
    "\n",
    "# URL of your FastAPI server\n",
    "url = \"http://localhost:8000/recommend/hangover\"\n",
    "\n",
    "# Send the POST request\n",
    "response = requests.get(url)\n",
    "\n",
    "# Check the response\n",
    "if response.status_code == 200:\n",
    "    print(\"Request successful!\")\n",
    "    print(\"Received response:\", response.json())\n",
    "else:\n",
    "    print(\"Request failed with status code:\", response.status_code)\n",
    "    print(\"Response:\", response.text)"
   ]
  },
  {
   "cell_type": "code",
   "execution_count": null,
   "metadata": {},
   "outputs": [],
   "source": []
  }
 ],
 "metadata": {
  "kernelspec": {
   "display_name": ".venv",
   "language": "python",
   "name": "python3"
  },
  "language_info": {
   "codemirror_mode": {
    "name": "ipython",
    "version": 3
   },
   "file_extension": ".py",
   "mimetype": "text/x-python",
   "name": "python",
   "nbconvert_exporter": "python",
   "pygments_lexer": "ipython3",
   "version": "3.12.3"
  }
 },
 "nbformat": 4,
 "nbformat_minor": 2
}
